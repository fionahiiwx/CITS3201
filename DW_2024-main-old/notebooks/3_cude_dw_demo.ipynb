{
 "cells": [
  {
   "cell_type": "markdown",
   "id": "186ceb2ddf615eea",
   "metadata": {
    "collapsed": false
   },
   "source": [
    "# Cube and Data Warehouse mini Demo\n",
    "This aims to implement a cube and do presentation\n",
    "## Cube"
   ]
  },
  {
   "cell_type": "code",
   "execution_count": 1,
   "id": "initial_id",
   "metadata": {
    "ExecuteTime": {
     "end_time": "2024-02-20T14:27:47.386272Z",
     "start_time": "2024-02-20T14:27:46.747383Z"
    }
   },
   "outputs": [
    {
     "name": "stdout",
     "output_type": "stream",
     "text": [
      "Welcome to Atoti 0.8.7!\n",
      "\n",
      "By using this community edition, you agree with the license available at https://docs.atoti.io/latest/eula.html.\n",
      "Browse the official documentation at https://docs.atoti.io.\n",
      "Join the community at https://www.atoti.io/register.\n",
      "\n",
      "Atoti collects telemetry data, which is used to help understand how to improve the product.\n",
      "If you don't wish to send usage data, you can request a trial license at https://www.atoti.io/evaluation-license-request.\n",
      "\n",
      "You can hide this message by setting the `ATOTI_HIDE_EULA_MESSAGE` environment variable to True.\n"
     ]
    }
   ],
   "source": [
    "import atoti as tt"
   ]
  },
  {
   "cell_type": "code",
   "execution_count": 2,
   "id": "1ce9e2fb78351f0d",
   "metadata": {
    "collapsed": false,
    "ExecuteTime": {
     "end_time": "2024-02-20T14:27:53.612105Z",
     "start_time": "2024-02-20T14:27:47.387868Z"
    }
   },
   "outputs": [],
   "source": [
    "session = tt.Session(\n",
    "    user_content_storage=\".content\",\n",
    "    port=9092,\n",
    "    java_options=[\"-Xms1G\", \"-Xmx10G\"]\n",
    ")"
   ]
  },
  {
   "cell_type": "code",
   "execution_count": 3,
   "id": "8d2096c5d9043d33",
   "metadata": {
    "collapsed": false,
    "ExecuteTime": {
     "end_time": "2024-02-20T14:27:53.620410Z",
     "start_time": "2024-02-20T14:27:53.613564Z"
    }
   },
   "outputs": [],
   "source": [
    "db_name = \"AdventureworksDWDemo\"\n",
    "db_user = \"postgres\"\n",
    "db_password = \"postgres\"  # Update with your password\n",
    "db_host = \"localhost\"  # Update if your DB is hosted elsewhere\n",
    "db_port = \"5432\"\n",
    "\n",
    "jdbc_url = f\"jdbc:postgresql://{db_host}:{db_port}/{db_name}?user={db_user}&password={db_password}\""
   ]
  },
  {
   "cell_type": "code",
   "execution_count": 4,
   "id": "b26b1ae1-20b6-4c60-bdf3-4e1c9987cb8f",
   "metadata": {
    "ExecuteTime": {
     "end_time": "2024-02-20T14:27:54.195732Z",
     "start_time": "2024-02-20T14:27:53.617642Z"
    }
   },
   "outputs": [],
   "source": [
    "product_sales_table = session.read_sql(\n",
    "    \"SELECT * FROM factproductsales\",\n",
    "    keys=[\"transactionid\"],\n",
    "    table_name=\"ProductSales\",\n",
    "    url=jdbc_url,\n",
    ")"
   ]
  },
  {
   "cell_type": "code",
   "execution_count": 5,
   "id": "d342d8d3-417b-4f00-81f5-334869f829a1",
   "metadata": {
    "ExecuteTime": {
     "end_time": "2024-02-20T14:27:54.470248Z",
     "start_time": "2024-02-20T14:27:54.196809Z"
    }
   },
   "outputs": [],
   "source": [
    "customer_table = session.read_sql(\n",
    "    \"SELECT * FROM dimcustomer\",\n",
    "    keys=[\"customerid\"],\n",
    "    table_name=\"Customer\",\n",
    "    url=jdbc_url)"
   ]
  },
  {
   "cell_type": "code",
   "execution_count": 6,
   "id": "828e934c-6723-4911-82ec-9759a2fff9fe",
   "metadata": {
    "ExecuteTime": {
     "end_time": "2024-02-20T14:27:54.747220Z",
     "start_time": "2024-02-20T14:27:54.471047Z"
    }
   },
   "outputs": [],
   "source": [
    "product_table = session.read_sql(\n",
    "    \"SELECT * FROM dimproduct\",\n",
    "    keys=[\"productkey\"],\n",
    "    table_name=\"Product\",\n",
    "    url=jdbc_url\n",
    ")"
   ]
  },
  {
   "cell_type": "code",
   "execution_count": 7,
   "id": "47d5d135-02d8-48b0-ba4e-5e00a692cee1",
   "metadata": {
    "ExecuteTime": {
     "end_time": "2024-02-20T14:27:55.022695Z",
     "start_time": "2024-02-20T14:27:54.748595Z"
    }
   },
   "outputs": [],
   "source": [
    "sales_person_table = session.read_sql(\n",
    "    \"SELECT * FROM dimsalesperson\",\n",
    "    keys=[\"salespersonid\"],\n",
    "    table_name=\"SalesPerson\",\n",
    "    url=jdbc_url\n",
    ")"
   ]
  },
  {
   "cell_type": "code",
   "execution_count": 8,
   "id": "fdfcc73e-9d56-4020-bf5f-b1e774c033a9",
   "metadata": {
    "ExecuteTime": {
     "end_time": "2024-02-20T14:27:55.280500Z",
     "start_time": "2024-02-20T14:27:55.023544Z"
    }
   },
   "outputs": [],
   "source": [
    "stores_table = session.read_sql(\n",
    "    \"SELECT * FROM dimstores\",\n",
    "    keys=[\"storeid\"],\n",
    "    table_name=\"Stores\",\n",
    "    url=jdbc_url\n",
    ")"
   ]
  },
  {
   "cell_type": "code",
   "execution_count": 9,
   "id": "e971bb41-0045-4abf-85e0-edb77988bd78",
   "metadata": {
    "ExecuteTime": {
     "end_time": "2024-02-20T14:27:55.841163Z",
     "start_time": "2024-02-20T14:27:55.281293Z"
    }
   },
   "outputs": [
    {
     "data": {
      "text/plain": "               salesinvoicenumber  storeid  customerid  productid  \\\ntransactionid                                                       \n10                              4        1           1          1   \n19                              8        1           1          4   \n21                              9        1           2          2   \n22                             10        1           3          1   \n1                               1        1           1          1   \n\n               salespersonid  quantity  salestotalcost  productactualcost  \\\ntransactionid                                                               \n10                         1       2.0            13.0               11.0   \n19                         1       3.0            60.0               54.0   \n21                         1       1.0            24.0               22.5   \n22                         2       2.0            13.0               11.0   \n1                          1       2.0            13.0               11.0   \n\n               deviation  \ntransactionid             \n10                   2.0  \n19                   3.0  \n21                   1.5  \n22                   2.0  \n1                    2.0  ",
      "text/html": "<div>\n<style scoped>\n    .dataframe tbody tr th:only-of-type {\n        vertical-align: middle;\n    }\n\n    .dataframe tbody tr th {\n        vertical-align: top;\n    }\n\n    .dataframe thead th {\n        text-align: right;\n    }\n</style>\n<table border=\"1\" class=\"dataframe\">\n  <thead>\n    <tr style=\"text-align: right;\">\n      <th></th>\n      <th>salesinvoicenumber</th>\n      <th>storeid</th>\n      <th>customerid</th>\n      <th>productid</th>\n      <th>salespersonid</th>\n      <th>quantity</th>\n      <th>salestotalcost</th>\n      <th>productactualcost</th>\n      <th>deviation</th>\n    </tr>\n    <tr>\n      <th>transactionid</th>\n      <th></th>\n      <th></th>\n      <th></th>\n      <th></th>\n      <th></th>\n      <th></th>\n      <th></th>\n      <th></th>\n      <th></th>\n    </tr>\n  </thead>\n  <tbody>\n    <tr>\n      <th>10</th>\n      <td>4</td>\n      <td>1</td>\n      <td>1</td>\n      <td>1</td>\n      <td>1</td>\n      <td>2.0</td>\n      <td>13.0</td>\n      <td>11.0</td>\n      <td>2.0</td>\n    </tr>\n    <tr>\n      <th>19</th>\n      <td>8</td>\n      <td>1</td>\n      <td>1</td>\n      <td>4</td>\n      <td>1</td>\n      <td>3.0</td>\n      <td>60.0</td>\n      <td>54.0</td>\n      <td>3.0</td>\n    </tr>\n    <tr>\n      <th>21</th>\n      <td>9</td>\n      <td>1</td>\n      <td>2</td>\n      <td>2</td>\n      <td>1</td>\n      <td>1.0</td>\n      <td>24.0</td>\n      <td>22.5</td>\n      <td>1.5</td>\n    </tr>\n    <tr>\n      <th>22</th>\n      <td>10</td>\n      <td>1</td>\n      <td>3</td>\n      <td>1</td>\n      <td>2</td>\n      <td>2.0</td>\n      <td>13.0</td>\n      <td>11.0</td>\n      <td>2.0</td>\n    </tr>\n    <tr>\n      <th>1</th>\n      <td>1</td>\n      <td>1</td>\n      <td>1</td>\n      <td>1</td>\n      <td>1</td>\n      <td>2.0</td>\n      <td>13.0</td>\n      <td>11.0</td>\n      <td>2.0</td>\n    </tr>\n  </tbody>\n</table>\n</div>"
     },
     "execution_count": 9,
     "metadata": {},
     "output_type": "execute_result"
    }
   ],
   "source": [
    "product_sales_table.head()"
   ]
  },
  {
   "cell_type": "code",
   "execution_count": 10,
   "id": "3bb09fbd-1d25-472b-b5c9-f4ead3f96795",
   "metadata": {
    "ExecuteTime": {
     "end_time": "2024-02-20T14:27:55.939358Z",
     "start_time": "2024-02-20T14:27:55.843859Z"
    }
   },
   "outputs": [],
   "source": [
    "product_sales_table.join(customer_table, product_sales_table[\"customerid\"] == customer_table[\"customerid\"])"
   ]
  },
  {
   "cell_type": "code",
   "execution_count": 11,
   "id": "a2ee4df7-a3ea-4d34-91e9-c83312d48e7e",
   "metadata": {
    "ExecuteTime": {
     "end_time": "2024-02-20T14:27:55.957697Z",
     "start_time": "2024-02-20T14:27:55.910687Z"
    }
   },
   "outputs": [],
   "source": [
    "product_sales_table.join(product_table, product_sales_table[\"productid\"] == product_table[\"productkey\"])"
   ]
  },
  {
   "cell_type": "code",
   "execution_count": 12,
   "id": "99b1cec9-c379-4072-aab8-c94bd3cc7e4a",
   "metadata": {
    "ExecuteTime": {
     "end_time": "2024-02-20T14:27:55.960110Z",
     "start_time": "2024-02-20T14:27:55.933434Z"
    }
   },
   "outputs": [],
   "source": [
    "product_sales_table.join(sales_person_table,\n",
    "                         product_sales_table[\"salespersonid\"] == sales_person_table[\"salespersonid\"])"
   ]
  },
  {
   "cell_type": "code",
   "execution_count": 13,
   "id": "86b33b06-6faf-4951-af83-b8c16ec381e4",
   "metadata": {
    "ExecuteTime": {
     "end_time": "2024-02-20T14:27:56.008822Z",
     "start_time": "2024-02-20T14:27:55.955620Z"
    }
   },
   "outputs": [],
   "source": [
    "product_sales_table.join(stores_table, product_sales_table[\"storeid\"] == stores_table[\"storeid\"])"
   ]
  },
  {
   "cell_type": "code",
   "execution_count": 14,
   "id": "11350840-0849-45ec-9b28-a535b5aa8975",
   "metadata": {
    "ExecuteTime": {
     "end_time": "2024-02-20T14:27:56.294934Z",
     "start_time": "2024-02-20T14:27:55.977324Z"
    }
   },
   "outputs": [
    {
     "data": {
      "text/plain": "<IPython.core.display.SVG object>",
      "image/svg+xml": "<svg xmlns=\"http://www.w3.org/2000/svg\" xmlns:xlink=\"http://www.w3.org/1999/xlink\" width=\"674px\" height=\"724px\" viewBox=\"0.00 0.00 673.75 723.50\">\n<g id=\"graph0\" class=\"graph\" transform=\"scale(1.0 1.0) rotate(0) translate(4 719.5)\">\n<title>Datastore schema</title>\n<polygon fill=\"white\" stroke=\"none\" points=\"-4,4 -4,-719.5 669.75,-719.5 669.75,4 -4,4\"/>\n<!-- Customer -->\n<g id=\"node1\" class=\"node\">\n<title>Customer</title>\n<text text-anchor=\"start\" x=\"527.12\" y=\"-694.15\" font-family=\"-apple-system, BlinkMacSystemFont, 'Segoe UI', Helvetica, Arial, sans-serif, 'Apple Color Emoji', 'Segoe UI Emoji', 'Segoe UI Symbol'\" font-weight=\"bold\" font-size=\"13.00\">Customer</text>\n<polygon fill=\"#f5f5f5\" stroke=\"none\" points=\"472.25,-664.5 472.25,-687.5 504.25,-687.5 504.25,-664.5 472.25,-664.5\"/>\n<text text-anchor=\"start\" x=\"477\" y=\"-671.15\" font-family=\"-apple-system, BlinkMacSystemFont, 'Segoe UI', Helvetica, Arial, sans-serif, 'Apple Color Emoji', 'Segoe UI Emoji', 'Segoe UI Symbol'\" font-weight=\"bold\" font-size=\"13.00\">key</text>\n<polygon fill=\"#f5f5f5\" stroke=\"none\" points=\"504.25,-664.5 504.25,-687.5 601.25,-687.5 601.25,-664.5 504.25,-664.5\"/>\n<text text-anchor=\"start\" x=\"509.25\" y=\"-670.15\" font-family=\"-apple-system, BlinkMacSystemFont, 'Segoe UI', Helvetica, Arial, sans-serif, 'Apple Color Emoji', 'Segoe UI Emoji', 'Segoe UI Symbol'\" font-size=\"13.00\">customerid</text>\n<polygon fill=\"#f5f5f5\" stroke=\"none\" points=\"601.25,-664.5 601.25,-687.5 644.25,-687.5 644.25,-664.5 601.25,-664.5\"/>\n<text text-anchor=\"start\" x=\"625\" y=\"-671.15\" font-family=\"-apple-system, BlinkMacSystemFont, 'Segoe UI', Helvetica, Arial, sans-serif, 'Apple Color Emoji', 'Segoe UI Emoji', 'Segoe UI Symbol'\" font-style=\"italic\" font-size=\"13.00\">int</text>\n<polygon fill=\"#ffffff\" stroke=\"none\" points=\"472.25,-641.5 472.25,-664.5 504.25,-664.5 504.25,-641.5 472.25,-641.5\"/>\n<polygon fill=\"#ffffff\" stroke=\"none\" points=\"504.25,-641.5 504.25,-664.5 601.25,-664.5 601.25,-641.5 504.25,-641.5\"/>\n<text text-anchor=\"start\" x=\"509.25\" y=\"-647.15\" font-family=\"-apple-system, BlinkMacSystemFont, 'Segoe UI', Helvetica, Arial, sans-serif, 'Apple Color Emoji', 'Segoe UI Emoji', 'Segoe UI Symbol'\" font-size=\"13.00\">customeraltid</text>\n<polygon fill=\"#ffffff\" stroke=\"none\" points=\"601.25,-641.5 601.25,-664.5 644.25,-664.5 644.25,-641.5 601.25,-641.5\"/>\n<text text-anchor=\"start\" x=\"606.25\" y=\"-648.15\" font-family=\"-apple-system, BlinkMacSystemFont, 'Segoe UI', Helvetica, Arial, sans-serif, 'Apple Color Emoji', 'Segoe UI Emoji', 'Segoe UI Symbol'\" font-style=\"italic\" font-size=\"13.00\">string</text>\n<polygon fill=\"#f5f5f5\" stroke=\"none\" points=\"472.25,-618.5 472.25,-641.5 504.25,-641.5 504.25,-618.5 472.25,-618.5\"/>\n<polygon fill=\"#f5f5f5\" stroke=\"none\" points=\"504.25,-618.5 504.25,-641.5 601.25,-641.5 601.25,-618.5 504.25,-618.5\"/>\n<text text-anchor=\"start\" x=\"508.88\" y=\"-624.15\" font-family=\"-apple-system, BlinkMacSystemFont, 'Segoe UI', Helvetica, Arial, sans-serif, 'Apple Color Emoji', 'Segoe UI Emoji', 'Segoe UI Symbol'\" font-size=\"13.00\">customername</text>\n<polygon fill=\"#f5f5f5\" stroke=\"none\" points=\"601.25,-618.5 601.25,-641.5 644.25,-641.5 644.25,-618.5 601.25,-618.5\"/>\n<text text-anchor=\"start\" x=\"606.25\" y=\"-625.15\" font-family=\"-apple-system, BlinkMacSystemFont, 'Segoe UI', Helvetica, Arial, sans-serif, 'Apple Color Emoji', 'Segoe UI Emoji', 'Segoe UI Symbol'\" font-style=\"italic\" font-size=\"13.00\">string</text>\n<polygon fill=\"#ffffff\" stroke=\"none\" points=\"472.25,-595.5 472.25,-618.5 504.25,-618.5 504.25,-595.5 472.25,-595.5\"/>\n<polygon fill=\"#ffffff\" stroke=\"none\" points=\"504.25,-595.5 504.25,-618.5 601.25,-618.5 601.25,-595.5 504.25,-595.5\"/>\n<text text-anchor=\"start\" x=\"509.25\" y=\"-601.15\" font-family=\"-apple-system, BlinkMacSystemFont, 'Segoe UI', Helvetica, Arial, sans-serif, 'Apple Color Emoji', 'Segoe UI Emoji', 'Segoe UI Symbol'\" font-size=\"13.00\">gender</text>\n<polygon fill=\"#ffffff\" stroke=\"none\" points=\"601.25,-595.5 601.25,-618.5 644.25,-618.5 644.25,-595.5 601.25,-595.5\"/>\n<text text-anchor=\"start\" x=\"606.25\" y=\"-602.15\" font-family=\"-apple-system, BlinkMacSystemFont, 'Segoe UI', Helvetica, Arial, sans-serif, 'Apple Color Emoji', 'Segoe UI Emoji', 'Segoe UI Symbol'\" font-style=\"italic\" font-size=\"13.00\">string</text>\n<polygon fill=\"none\" stroke=\"black\" points=\"471.25,-594.5 471.25,-711.5 645.25,-711.5 645.25,-594.5 471.25,-594.5\"/>\n</g>\n<!-- SalesPerson -->\n<g id=\"node2\" class=\"node\">\n<title>SalesPerson</title>\n<text text-anchor=\"start\" x=\"517.75\" y=\"-550.65\" font-family=\"-apple-system, BlinkMacSystemFont, 'Segoe UI', Helvetica, Arial, sans-serif, 'Apple Color Emoji', 'Segoe UI Emoji', 'Segoe UI Symbol'\" font-weight=\"bold\" font-size=\"13.00\">SalesPerson</text>\n<polygon fill=\"#f5f5f5\" stroke=\"none\" points=\"463.25,-521 463.25,-544 495.25,-544 495.25,-521 463.25,-521\"/>\n<text text-anchor=\"start\" x=\"468\" y=\"-527.65\" font-family=\"-apple-system, BlinkMacSystemFont, 'Segoe UI', Helvetica, Arial, sans-serif, 'Apple Color Emoji', 'Segoe UI Emoji', 'Segoe UI Symbol'\" font-weight=\"bold\" font-size=\"13.00\">key</text>\n<polygon fill=\"#f5f5f5\" stroke=\"none\" points=\"495.25,-521 495.25,-544 610.25,-544 610.25,-521 495.25,-521\"/>\n<text text-anchor=\"start\" x=\"500.25\" y=\"-526.65\" font-family=\"-apple-system, BlinkMacSystemFont, 'Segoe UI', Helvetica, Arial, sans-serif, 'Apple Color Emoji', 'Segoe UI Emoji', 'Segoe UI Symbol'\" font-size=\"13.00\">salespersonid</text>\n<polygon fill=\"#f5f5f5\" stroke=\"none\" points=\"610.25,-521 610.25,-544 653.25,-544 653.25,-521 610.25,-521\"/>\n<text text-anchor=\"start\" x=\"634\" y=\"-527.65\" font-family=\"-apple-system, BlinkMacSystemFont, 'Segoe UI', Helvetica, Arial, sans-serif, 'Apple Color Emoji', 'Segoe UI Emoji', 'Segoe UI Symbol'\" font-style=\"italic\" font-size=\"13.00\">int</text>\n<polygon fill=\"#ffffff\" stroke=\"none\" points=\"463.25,-498 463.25,-521 495.25,-521 495.25,-498 463.25,-498\"/>\n<polygon fill=\"#ffffff\" stroke=\"none\" points=\"495.25,-498 495.25,-521 610.25,-521 610.25,-498 495.25,-498\"/>\n<text text-anchor=\"start\" x=\"500.25\" y=\"-503.65\" font-family=\"-apple-system, BlinkMacSystemFont, 'Segoe UI', Helvetica, Arial, sans-serif, 'Apple Color Emoji', 'Segoe UI Emoji', 'Segoe UI Symbol'\" font-size=\"13.00\">salespersonaltid</text>\n<polygon fill=\"#ffffff\" stroke=\"none\" points=\"610.25,-498 610.25,-521 653.25,-521 653.25,-498 610.25,-498\"/>\n<text text-anchor=\"start\" x=\"615.25\" y=\"-504.65\" font-family=\"-apple-system, BlinkMacSystemFont, 'Segoe UI', Helvetica, Arial, sans-serif, 'Apple Color Emoji', 'Segoe UI Emoji', 'Segoe UI Symbol'\" font-style=\"italic\" font-size=\"13.00\">string</text>\n<polygon fill=\"#f5f5f5\" stroke=\"none\" points=\"463.25,-475 463.25,-498 495.25,-498 495.25,-475 463.25,-475\"/>\n<polygon fill=\"#f5f5f5\" stroke=\"none\" points=\"495.25,-475 495.25,-498 610.25,-498 610.25,-475 495.25,-475\"/>\n<text text-anchor=\"start\" x=\"499.88\" y=\"-480.65\" font-family=\"-apple-system, BlinkMacSystemFont, 'Segoe UI', Helvetica, Arial, sans-serif, 'Apple Color Emoji', 'Segoe UI Emoji', 'Segoe UI Symbol'\" font-size=\"13.00\">salespersonname</text>\n<polygon fill=\"#f5f5f5\" stroke=\"none\" points=\"610.25,-475 610.25,-498 653.25,-498 653.25,-475 610.25,-475\"/>\n<text text-anchor=\"start\" x=\"615.25\" y=\"-481.65\" font-family=\"-apple-system, BlinkMacSystemFont, 'Segoe UI', Helvetica, Arial, sans-serif, 'Apple Color Emoji', 'Segoe UI Emoji', 'Segoe UI Symbol'\" font-style=\"italic\" font-size=\"13.00\">string</text>\n<polygon fill=\"#ffffff\" stroke=\"none\" points=\"463.25,-452 463.25,-475 495.25,-475 495.25,-452 463.25,-452\"/>\n<polygon fill=\"#ffffff\" stroke=\"none\" points=\"495.25,-452 495.25,-475 610.25,-475 610.25,-452 495.25,-452\"/>\n<text text-anchor=\"start\" x=\"500.25\" y=\"-457.65\" font-family=\"-apple-system, BlinkMacSystemFont, 'Segoe UI', Helvetica, Arial, sans-serif, 'Apple Color Emoji', 'Segoe UI Emoji', 'Segoe UI Symbol'\" font-size=\"13.00\">storeid</text>\n<polygon fill=\"#ffffff\" stroke=\"none\" points=\"610.25,-452 610.25,-475 653.25,-475 653.25,-452 610.25,-452\"/>\n<text text-anchor=\"start\" x=\"634\" y=\"-458.65\" font-family=\"-apple-system, BlinkMacSystemFont, 'Segoe UI', Helvetica, Arial, sans-serif, 'Apple Color Emoji', 'Segoe UI Emoji', 'Segoe UI Symbol'\" font-style=\"italic\" font-size=\"13.00\">int</text>\n<polygon fill=\"#f5f5f5\" stroke=\"none\" points=\"463.25,-429 463.25,-452 495.25,-452 495.25,-429 463.25,-429\"/>\n<polygon fill=\"#f5f5f5\" stroke=\"none\" points=\"495.25,-429 495.25,-452 610.25,-452 610.25,-429 495.25,-429\"/>\n<text text-anchor=\"start\" x=\"500.25\" y=\"-434.65\" font-family=\"-apple-system, BlinkMacSystemFont, 'Segoe UI', Helvetica, Arial, sans-serif, 'Apple Color Emoji', 'Segoe UI Emoji', 'Segoe UI Symbol'\" font-size=\"13.00\">city</text>\n<polygon fill=\"#f5f5f5\" stroke=\"none\" points=\"610.25,-429 610.25,-452 653.25,-452 653.25,-429 610.25,-429\"/>\n<text text-anchor=\"start\" x=\"615.25\" y=\"-435.65\" font-family=\"-apple-system, BlinkMacSystemFont, 'Segoe UI', Helvetica, Arial, sans-serif, 'Apple Color Emoji', 'Segoe UI Emoji', 'Segoe UI Symbol'\" font-style=\"italic\" font-size=\"13.00\">string</text>\n<polygon fill=\"#ffffff\" stroke=\"none\" points=\"463.25,-406 463.25,-429 495.25,-429 495.25,-406 463.25,-406\"/>\n<polygon fill=\"#ffffff\" stroke=\"none\" points=\"495.25,-406 495.25,-429 610.25,-429 610.25,-406 495.25,-406\"/>\n<text text-anchor=\"start\" x=\"500.25\" y=\"-411.65\" font-family=\"-apple-system, BlinkMacSystemFont, 'Segoe UI', Helvetica, Arial, sans-serif, 'Apple Color Emoji', 'Segoe UI Emoji', 'Segoe UI Symbol'\" font-size=\"13.00\">state</text>\n<polygon fill=\"#ffffff\" stroke=\"none\" points=\"610.25,-406 610.25,-429 653.25,-429 653.25,-406 610.25,-406\"/>\n<text text-anchor=\"start\" x=\"615.25\" y=\"-412.65\" font-family=\"-apple-system, BlinkMacSystemFont, 'Segoe UI', Helvetica, Arial, sans-serif, 'Apple Color Emoji', 'Segoe UI Emoji', 'Segoe UI Symbol'\" font-style=\"italic\" font-size=\"13.00\">string</text>\n<polygon fill=\"#f5f5f5\" stroke=\"none\" points=\"463.25,-383 463.25,-406 495.25,-406 495.25,-383 463.25,-383\"/>\n<polygon fill=\"#f5f5f5\" stroke=\"none\" points=\"495.25,-383 495.25,-406 610.25,-406 610.25,-383 495.25,-383\"/>\n<text text-anchor=\"start\" x=\"500.25\" y=\"-388.65\" font-family=\"-apple-system, BlinkMacSystemFont, 'Segoe UI', Helvetica, Arial, sans-serif, 'Apple Color Emoji', 'Segoe UI Emoji', 'Segoe UI Symbol'\" font-size=\"13.00\">country</text>\n<polygon fill=\"#f5f5f5\" stroke=\"none\" points=\"610.25,-383 610.25,-406 653.25,-406 653.25,-383 610.25,-383\"/>\n<text text-anchor=\"start\" x=\"615.25\" y=\"-389.65\" font-family=\"-apple-system, BlinkMacSystemFont, 'Segoe UI', Helvetica, Arial, sans-serif, 'Apple Color Emoji', 'Segoe UI Emoji', 'Segoe UI Symbol'\" font-style=\"italic\" font-size=\"13.00\">string</text>\n<polygon fill=\"none\" stroke=\"black\" points=\"462.25,-382 462.25,-568 654.25,-568 654.25,-382 462.25,-382\"/>\n</g>\n<!-- Product -->\n<g id=\"node3\" class=\"node\">\n<title>Product</title>\n<text text-anchor=\"start\" x=\"532.75\" y=\"-338.65\" font-family=\"-apple-system, BlinkMacSystemFont, 'Segoe UI', Helvetica, Arial, sans-serif, 'Apple Color Emoji', 'Segoe UI Emoji', 'Segoe UI Symbol'\" font-weight=\"bold\" font-size=\"13.00\">Product</text>\n<polygon fill=\"#f5f5f5\" stroke=\"none\" points=\"459.75,-309 459.75,-332 491.75,-332 491.75,-309 459.75,-309\"/>\n<text text-anchor=\"start\" x=\"464.5\" y=\"-315.65\" font-family=\"-apple-system, BlinkMacSystemFont, 'Segoe UI', Helvetica, Arial, sans-serif, 'Apple Color Emoji', 'Segoe UI Emoji', 'Segoe UI Symbol'\" font-weight=\"bold\" font-size=\"13.00\">key</text>\n<polygon fill=\"#f5f5f5\" stroke=\"none\" points=\"491.75,-309 491.75,-332 606.75,-332 606.75,-309 491.75,-309\"/>\n<text text-anchor=\"start\" x=\"496.75\" y=\"-314.65\" font-family=\"-apple-system, BlinkMacSystemFont, 'Segoe UI', Helvetica, Arial, sans-serif, 'Apple Color Emoji', 'Segoe UI Emoji', 'Segoe UI Symbol'\" font-size=\"13.00\">productkey</text>\n<polygon fill=\"#f5f5f5\" stroke=\"none\" points=\"606.75,-309 606.75,-332 656.75,-332 656.75,-309 606.75,-309\"/>\n<text text-anchor=\"start\" x=\"637.5\" y=\"-315.65\" font-family=\"-apple-system, BlinkMacSystemFont, 'Segoe UI', Helvetica, Arial, sans-serif, 'Apple Color Emoji', 'Segoe UI Emoji', 'Segoe UI Symbol'\" font-style=\"italic\" font-size=\"13.00\">int</text>\n<polygon fill=\"#ffffff\" stroke=\"none\" points=\"459.75,-286 459.75,-309 491.75,-309 491.75,-286 459.75,-286\"/>\n<polygon fill=\"#ffffff\" stroke=\"none\" points=\"491.75,-286 491.75,-309 606.75,-309 606.75,-286 491.75,-286\"/>\n<text text-anchor=\"start\" x=\"496.75\" y=\"-291.65\" font-family=\"-apple-system, BlinkMacSystemFont, 'Segoe UI', Helvetica, Arial, sans-serif, 'Apple Color Emoji', 'Segoe UI Emoji', 'Segoe UI Symbol'\" font-size=\"13.00\">productaltkey</text>\n<polygon fill=\"#ffffff\" stroke=\"none\" points=\"606.75,-286 606.75,-309 656.75,-309 656.75,-286 606.75,-286\"/>\n<text text-anchor=\"start\" x=\"618.75\" y=\"-292.65\" font-family=\"-apple-system, BlinkMacSystemFont, 'Segoe UI', Helvetica, Arial, sans-serif, 'Apple Color Emoji', 'Segoe UI Emoji', 'Segoe UI Symbol'\" font-style=\"italic\" font-size=\"13.00\">string</text>\n<polygon fill=\"#f5f5f5\" stroke=\"none\" points=\"459.75,-263 459.75,-286 491.75,-286 491.75,-263 459.75,-263\"/>\n<polygon fill=\"#f5f5f5\" stroke=\"none\" points=\"491.75,-263 491.75,-286 606.75,-286 606.75,-263 491.75,-263\"/>\n<text text-anchor=\"start\" x=\"496.75\" y=\"-268.65\" font-family=\"-apple-system, BlinkMacSystemFont, 'Segoe UI', Helvetica, Arial, sans-serif, 'Apple Color Emoji', 'Segoe UI Emoji', 'Segoe UI Symbol'\" font-size=\"13.00\">productname</text>\n<polygon fill=\"#f5f5f5\" stroke=\"none\" points=\"606.75,-263 606.75,-286 656.75,-286 656.75,-263 606.75,-263\"/>\n<text text-anchor=\"start\" x=\"618.75\" y=\"-269.65\" font-family=\"-apple-system, BlinkMacSystemFont, 'Segoe UI', Helvetica, Arial, sans-serif, 'Apple Color Emoji', 'Segoe UI Emoji', 'Segoe UI Symbol'\" font-style=\"italic\" font-size=\"13.00\">string</text>\n<polygon fill=\"#ffffff\" stroke=\"none\" points=\"459.75,-240 459.75,-263 491.75,-263 491.75,-240 459.75,-240\"/>\n<polygon fill=\"#ffffff\" stroke=\"none\" points=\"491.75,-240 491.75,-263 606.75,-263 606.75,-240 491.75,-240\"/>\n<text text-anchor=\"start\" x=\"496.38\" y=\"-245.65\" font-family=\"-apple-system, BlinkMacSystemFont, 'Segoe UI', Helvetica, Arial, sans-serif, 'Apple Color Emoji', 'Segoe UI Emoji', 'Segoe UI Symbol'\" font-size=\"13.00\">productactualcost</text>\n<polygon fill=\"#ffffff\" stroke=\"none\" points=\"606.75,-240 606.75,-263 656.75,-263 656.75,-240 606.75,-240\"/>\n<text text-anchor=\"start\" x=\"611.5\" y=\"-246.65\" font-family=\"-apple-system, BlinkMacSystemFont, 'Segoe UI', Helvetica, Arial, sans-serif, 'Apple Color Emoji', 'Segoe UI Emoji', 'Segoe UI Symbol'\" font-style=\"italic\" font-size=\"13.00\">double</text>\n<polygon fill=\"#f5f5f5\" stroke=\"none\" points=\"459.75,-217 459.75,-240 491.75,-240 491.75,-217 459.75,-217\"/>\n<polygon fill=\"#f5f5f5\" stroke=\"none\" points=\"491.75,-217 491.75,-240 606.75,-240 606.75,-217 491.75,-217\"/>\n<text text-anchor=\"start\" x=\"496.75\" y=\"-222.65\" font-family=\"-apple-system, BlinkMacSystemFont, 'Segoe UI', Helvetica, Arial, sans-serif, 'Apple Color Emoji', 'Segoe UI Emoji', 'Segoe UI Symbol'\" font-size=\"13.00\">productsalescost</text>\n<polygon fill=\"#f5f5f5\" stroke=\"none\" points=\"606.75,-217 606.75,-240 656.75,-240 656.75,-217 606.75,-217\"/>\n<text text-anchor=\"start\" x=\"611.5\" y=\"-223.65\" font-family=\"-apple-system, BlinkMacSystemFont, 'Segoe UI', Helvetica, Arial, sans-serif, 'Apple Color Emoji', 'Segoe UI Emoji', 'Segoe UI Symbol'\" font-style=\"italic\" font-size=\"13.00\">double</text>\n<polygon fill=\"none\" stroke=\"black\" points=\"458.75,-216 458.75,-356 657.75,-356 657.75,-216 458.75,-216\"/>\n</g>\n<!-- Stores -->\n<g id=\"node4\" class=\"node\">\n<title>Stores</title>\n<text text-anchor=\"start\" x=\"537.25\" y=\"-172.65\" font-family=\"-apple-system, BlinkMacSystemFont, 'Segoe UI', Helvetica, Arial, sans-serif, 'Apple Color Emoji', 'Segoe UI Emoji', 'Segoe UI Symbol'\" font-weight=\"bold\" font-size=\"13.00\">Stores</text>\n<polygon fill=\"#f5f5f5\" stroke=\"none\" points=\"477.75,-143 477.75,-166 509.75,-166 509.75,-143 477.75,-143\"/>\n<text text-anchor=\"start\" x=\"482.5\" y=\"-149.65\" font-family=\"-apple-system, BlinkMacSystemFont, 'Segoe UI', Helvetica, Arial, sans-serif, 'Apple Color Emoji', 'Segoe UI Emoji', 'Segoe UI Symbol'\" font-weight=\"bold\" font-size=\"13.00\">key</text>\n<polygon fill=\"#f5f5f5\" stroke=\"none\" points=\"509.75,-143 509.75,-166 595.75,-166 595.75,-143 509.75,-143\"/>\n<text text-anchor=\"start\" x=\"514.75\" y=\"-148.65\" font-family=\"-apple-system, BlinkMacSystemFont, 'Segoe UI', Helvetica, Arial, sans-serif, 'Apple Color Emoji', 'Segoe UI Emoji', 'Segoe UI Symbol'\" font-size=\"13.00\">storeid</text>\n<polygon fill=\"#f5f5f5\" stroke=\"none\" points=\"595.75,-143 595.75,-166 638.75,-166 638.75,-143 595.75,-143\"/>\n<text text-anchor=\"start\" x=\"619.5\" y=\"-149.65\" font-family=\"-apple-system, BlinkMacSystemFont, 'Segoe UI', Helvetica, Arial, sans-serif, 'Apple Color Emoji', 'Segoe UI Emoji', 'Segoe UI Symbol'\" font-style=\"italic\" font-size=\"13.00\">int</text>\n<polygon fill=\"#ffffff\" stroke=\"none\" points=\"477.75,-120 477.75,-143 509.75,-143 509.75,-120 477.75,-120\"/>\n<polygon fill=\"#ffffff\" stroke=\"none\" points=\"509.75,-120 509.75,-143 595.75,-143 595.75,-120 509.75,-120\"/>\n<text text-anchor=\"start\" x=\"514.75\" y=\"-125.65\" font-family=\"-apple-system, BlinkMacSystemFont, 'Segoe UI', Helvetica, Arial, sans-serif, 'Apple Color Emoji', 'Segoe UI Emoji', 'Segoe UI Symbol'\" font-size=\"13.00\">storealtid</text>\n<polygon fill=\"#ffffff\" stroke=\"none\" points=\"595.75,-120 595.75,-143 638.75,-143 638.75,-120 595.75,-120\"/>\n<text text-anchor=\"start\" x=\"600.75\" y=\"-126.65\" font-family=\"-apple-system, BlinkMacSystemFont, 'Segoe UI', Helvetica, Arial, sans-serif, 'Apple Color Emoji', 'Segoe UI Emoji', 'Segoe UI Symbol'\" font-style=\"italic\" font-size=\"13.00\">string</text>\n<polygon fill=\"#f5f5f5\" stroke=\"none\" points=\"477.75,-97 477.75,-120 509.75,-120 509.75,-97 477.75,-97\"/>\n<polygon fill=\"#f5f5f5\" stroke=\"none\" points=\"509.75,-97 509.75,-120 595.75,-120 595.75,-97 509.75,-97\"/>\n<text text-anchor=\"start\" x=\"514.75\" y=\"-102.65\" font-family=\"-apple-system, BlinkMacSystemFont, 'Segoe UI', Helvetica, Arial, sans-serif, 'Apple Color Emoji', 'Segoe UI Emoji', 'Segoe UI Symbol'\" font-size=\"13.00\">storename</text>\n<polygon fill=\"#f5f5f5\" stroke=\"none\" points=\"595.75,-97 595.75,-120 638.75,-120 638.75,-97 595.75,-97\"/>\n<text text-anchor=\"start\" x=\"600.75\" y=\"-103.65\" font-family=\"-apple-system, BlinkMacSystemFont, 'Segoe UI', Helvetica, Arial, sans-serif, 'Apple Color Emoji', 'Segoe UI Emoji', 'Segoe UI Symbol'\" font-style=\"italic\" font-size=\"13.00\">string</text>\n<polygon fill=\"#ffffff\" stroke=\"none\" points=\"477.75,-74 477.75,-97 509.75,-97 509.75,-74 477.75,-74\"/>\n<polygon fill=\"#ffffff\" stroke=\"none\" points=\"509.75,-74 509.75,-97 595.75,-97 595.75,-74 509.75,-74\"/>\n<text text-anchor=\"start\" x=\"514.5\" y=\"-79.65\" font-family=\"-apple-system, BlinkMacSystemFont, 'Segoe UI', Helvetica, Arial, sans-serif, 'Apple Color Emoji', 'Segoe UI Emoji', 'Segoe UI Symbol'\" font-size=\"13.00\">storelocation</text>\n<polygon fill=\"#ffffff\" stroke=\"none\" points=\"595.75,-74 595.75,-97 638.75,-97 638.75,-74 595.75,-74\"/>\n<text text-anchor=\"start\" x=\"600.75\" y=\"-80.65\" font-family=\"-apple-system, BlinkMacSystemFont, 'Segoe UI', Helvetica, Arial, sans-serif, 'Apple Color Emoji', 'Segoe UI Emoji', 'Segoe UI Symbol'\" font-style=\"italic\" font-size=\"13.00\">string</text>\n<polygon fill=\"#f5f5f5\" stroke=\"none\" points=\"477.75,-51 477.75,-74 509.75,-74 509.75,-51 477.75,-51\"/>\n<polygon fill=\"#f5f5f5\" stroke=\"none\" points=\"509.75,-51 509.75,-74 595.75,-74 595.75,-51 509.75,-51\"/>\n<text text-anchor=\"start\" x=\"514.75\" y=\"-56.65\" font-family=\"-apple-system, BlinkMacSystemFont, 'Segoe UI', Helvetica, Arial, sans-serif, 'Apple Color Emoji', 'Segoe UI Emoji', 'Segoe UI Symbol'\" font-size=\"13.00\">city</text>\n<polygon fill=\"#f5f5f5\" stroke=\"none\" points=\"595.75,-51 595.75,-74 638.75,-74 638.75,-51 595.75,-51\"/>\n<text text-anchor=\"start\" x=\"600.75\" y=\"-57.65\" font-family=\"-apple-system, BlinkMacSystemFont, 'Segoe UI', Helvetica, Arial, sans-serif, 'Apple Color Emoji', 'Segoe UI Emoji', 'Segoe UI Symbol'\" font-style=\"italic\" font-size=\"13.00\">string</text>\n<polygon fill=\"#ffffff\" stroke=\"none\" points=\"477.75,-28 477.75,-51 509.75,-51 509.75,-28 477.75,-28\"/>\n<polygon fill=\"#ffffff\" stroke=\"none\" points=\"509.75,-28 509.75,-51 595.75,-51 595.75,-28 509.75,-28\"/>\n<text text-anchor=\"start\" x=\"514.75\" y=\"-33.65\" font-family=\"-apple-system, BlinkMacSystemFont, 'Segoe UI', Helvetica, Arial, sans-serif, 'Apple Color Emoji', 'Segoe UI Emoji', 'Segoe UI Symbol'\" font-size=\"13.00\">state</text>\n<polygon fill=\"#ffffff\" stroke=\"none\" points=\"595.75,-28 595.75,-51 638.75,-51 638.75,-28 595.75,-28\"/>\n<text text-anchor=\"start\" x=\"600.75\" y=\"-34.65\" font-family=\"-apple-system, BlinkMacSystemFont, 'Segoe UI', Helvetica, Arial, sans-serif, 'Apple Color Emoji', 'Segoe UI Emoji', 'Segoe UI Symbol'\" font-style=\"italic\" font-size=\"13.00\">string</text>\n<polygon fill=\"#f5f5f5\" stroke=\"none\" points=\"477.75,-5 477.75,-28 509.75,-28 509.75,-5 477.75,-5\"/>\n<polygon fill=\"#f5f5f5\" stroke=\"none\" points=\"509.75,-5 509.75,-28 595.75,-28 595.75,-5 509.75,-5\"/>\n<text text-anchor=\"start\" x=\"514.75\" y=\"-10.65\" font-family=\"-apple-system, BlinkMacSystemFont, 'Segoe UI', Helvetica, Arial, sans-serif, 'Apple Color Emoji', 'Segoe UI Emoji', 'Segoe UI Symbol'\" font-size=\"13.00\">country</text>\n<polygon fill=\"#f5f5f5\" stroke=\"none\" points=\"595.75,-5 595.75,-28 638.75,-28 638.75,-5 595.75,-5\"/>\n<text text-anchor=\"start\" x=\"600.75\" y=\"-11.65\" font-family=\"-apple-system, BlinkMacSystemFont, 'Segoe UI', Helvetica, Arial, sans-serif, 'Apple Color Emoji', 'Segoe UI Emoji', 'Segoe UI Symbol'\" font-style=\"italic\" font-size=\"13.00\">string</text>\n<polygon fill=\"none\" stroke=\"black\" points=\"476.75,-4 476.75,-190 639.75,-190 639.75,-4 476.75,-4\"/>\n</g>\n<!-- ProductSales -->\n<g id=\"node5\" class=\"node\">\n<title>ProductSales</title>\n<text text-anchor=\"start\" x=\"70.88\" y=\"-490.15\" font-family=\"-apple-system, BlinkMacSystemFont, 'Segoe UI', Helvetica, Arial, sans-serif, 'Apple Color Emoji', 'Segoe UI Emoji', 'Segoe UI Symbol'\" font-weight=\"bold\" font-size=\"13.00\">ProductSales</text>\n<polygon fill=\"#f5f5f5\" stroke=\"none\" points=\"9,-460.5 9,-483.5 41,-483.5 41,-460.5 9,-460.5\"/>\n<text text-anchor=\"start\" x=\"13.75\" y=\"-467.15\" font-family=\"-apple-system, BlinkMacSystemFont, 'Segoe UI', Helvetica, Arial, sans-serif, 'Apple Color Emoji', 'Segoe UI Emoji', 'Segoe UI Symbol'\" font-weight=\"bold\" font-size=\"13.00\">key</text>\n<polygon fill=\"#f5f5f5\" stroke=\"none\" points=\"41,-460.5 41,-483.5 169,-483.5 169,-460.5 41,-460.5\"/>\n<text text-anchor=\"start\" x=\"46\" y=\"-466.15\" font-family=\"-apple-system, BlinkMacSystemFont, 'Segoe UI', Helvetica, Arial, sans-serif, 'Apple Color Emoji', 'Segoe UI Emoji', 'Segoe UI Symbol'\" font-size=\"13.00\">transactionid</text>\n<polygon fill=\"#f5f5f5\" stroke=\"none\" points=\"169,-460.5 169,-483.5 219,-483.5 219,-460.5 169,-460.5\"/>\n<text text-anchor=\"start\" x=\"188.5\" y=\"-467.15\" font-family=\"-apple-system, BlinkMacSystemFont, 'Segoe UI', Helvetica, Arial, sans-serif, 'Apple Color Emoji', 'Segoe UI Emoji', 'Segoe UI Symbol'\" font-style=\"italic\" font-size=\"13.00\">long</text>\n<polygon fill=\"#ffffff\" stroke=\"none\" points=\"9,-437.5 9,-460.5 41,-460.5 41,-437.5 9,-437.5\"/>\n<polygon fill=\"#ffffff\" stroke=\"none\" points=\"41,-437.5 41,-460.5 169,-460.5 169,-437.5 41,-437.5\"/>\n<text text-anchor=\"start\" x=\"45.75\" y=\"-443.15\" font-family=\"-apple-system, BlinkMacSystemFont, 'Segoe UI', Helvetica, Arial, sans-serif, 'Apple Color Emoji', 'Segoe UI Emoji', 'Segoe UI Symbol'\" font-size=\"13.00\">salesinvoicenumber</text>\n<polygon fill=\"#ffffff\" stroke=\"none\" points=\"169,-437.5 169,-460.5 219,-460.5 219,-437.5 169,-437.5\"/>\n<text text-anchor=\"start\" x=\"199.75\" y=\"-444.15\" font-family=\"-apple-system, BlinkMacSystemFont, 'Segoe UI', Helvetica, Arial, sans-serif, 'Apple Color Emoji', 'Segoe UI Emoji', 'Segoe UI Symbol'\" font-style=\"italic\" font-size=\"13.00\">int</text>\n<polygon fill=\"#f5f5f5\" stroke=\"none\" points=\"9,-414.5 9,-437.5 41,-437.5 41,-414.5 9,-414.5\"/>\n<polygon fill=\"#f5f5f5\" stroke=\"none\" points=\"41,-414.5 41,-437.5 169,-437.5 169,-414.5 41,-414.5\"/>\n<text text-anchor=\"start\" x=\"46\" y=\"-420.15\" font-family=\"-apple-system, BlinkMacSystemFont, 'Segoe UI', Helvetica, Arial, sans-serif, 'Apple Color Emoji', 'Segoe UI Emoji', 'Segoe UI Symbol'\" font-size=\"13.00\">storeid</text>\n<polygon fill=\"#f5f5f5\" stroke=\"none\" points=\"169,-414.5 169,-437.5 219,-437.5 219,-414.5 169,-414.5\"/>\n<text text-anchor=\"start\" x=\"199.75\" y=\"-421.15\" font-family=\"-apple-system, BlinkMacSystemFont, 'Segoe UI', Helvetica, Arial, sans-serif, 'Apple Color Emoji', 'Segoe UI Emoji', 'Segoe UI Symbol'\" font-style=\"italic\" font-size=\"13.00\">int</text>\n<polygon fill=\"#ffffff\" stroke=\"none\" points=\"9,-391.5 9,-414.5 41,-414.5 41,-391.5 9,-391.5\"/>\n<polygon fill=\"#ffffff\" stroke=\"none\" points=\"41,-391.5 41,-414.5 169,-414.5 169,-391.5 41,-391.5\"/>\n<text text-anchor=\"start\" x=\"46\" y=\"-397.15\" font-family=\"-apple-system, BlinkMacSystemFont, 'Segoe UI', Helvetica, Arial, sans-serif, 'Apple Color Emoji', 'Segoe UI Emoji', 'Segoe UI Symbol'\" font-size=\"13.00\">customerid</text>\n<polygon fill=\"#ffffff\" stroke=\"none\" points=\"169,-391.5 169,-414.5 219,-414.5 219,-391.5 169,-391.5\"/>\n<text text-anchor=\"start\" x=\"199.75\" y=\"-398.15\" font-family=\"-apple-system, BlinkMacSystemFont, 'Segoe UI', Helvetica, Arial, sans-serif, 'Apple Color Emoji', 'Segoe UI Emoji', 'Segoe UI Symbol'\" font-style=\"italic\" font-size=\"13.00\">int</text>\n<polygon fill=\"#f5f5f5\" stroke=\"none\" points=\"9,-368.5 9,-391.5 41,-391.5 41,-368.5 9,-368.5\"/>\n<polygon fill=\"#f5f5f5\" stroke=\"none\" points=\"41,-368.5 41,-391.5 169,-391.5 169,-368.5 41,-368.5\"/>\n<text text-anchor=\"start\" x=\"46\" y=\"-374.15\" font-family=\"-apple-system, BlinkMacSystemFont, 'Segoe UI', Helvetica, Arial, sans-serif, 'Apple Color Emoji', 'Segoe UI Emoji', 'Segoe UI Symbol'\" font-size=\"13.00\">productid</text>\n<polygon fill=\"#f5f5f5\" stroke=\"none\" points=\"169,-368.5 169,-391.5 219,-391.5 219,-368.5 169,-368.5\"/>\n<text text-anchor=\"start\" x=\"199.75\" y=\"-375.15\" font-family=\"-apple-system, BlinkMacSystemFont, 'Segoe UI', Helvetica, Arial, sans-serif, 'Apple Color Emoji', 'Segoe UI Emoji', 'Segoe UI Symbol'\" font-style=\"italic\" font-size=\"13.00\">int</text>\n<polygon fill=\"#ffffff\" stroke=\"none\" points=\"9,-345.5 9,-368.5 41,-368.5 41,-345.5 9,-345.5\"/>\n<polygon fill=\"#ffffff\" stroke=\"none\" points=\"41,-345.5 41,-368.5 169,-368.5 169,-345.5 41,-345.5\"/>\n<text text-anchor=\"start\" x=\"46\" y=\"-351.15\" font-family=\"-apple-system, BlinkMacSystemFont, 'Segoe UI', Helvetica, Arial, sans-serif, 'Apple Color Emoji', 'Segoe UI Emoji', 'Segoe UI Symbol'\" font-size=\"13.00\">salespersonid</text>\n<polygon fill=\"#ffffff\" stroke=\"none\" points=\"169,-345.5 169,-368.5 219,-368.5 219,-345.5 169,-345.5\"/>\n<text text-anchor=\"start\" x=\"199.75\" y=\"-352.15\" font-family=\"-apple-system, BlinkMacSystemFont, 'Segoe UI', Helvetica, Arial, sans-serif, 'Apple Color Emoji', 'Segoe UI Emoji', 'Segoe UI Symbol'\" font-style=\"italic\" font-size=\"13.00\">int</text>\n<polygon fill=\"#f5f5f5\" stroke=\"none\" points=\"9,-322.5 9,-345.5 41,-345.5 41,-322.5 9,-322.5\"/>\n<polygon fill=\"#f5f5f5\" stroke=\"none\" points=\"41,-322.5 41,-345.5 169,-345.5 169,-322.5 41,-322.5\"/>\n<text text-anchor=\"start\" x=\"46\" y=\"-328.15\" font-family=\"-apple-system, BlinkMacSystemFont, 'Segoe UI', Helvetica, Arial, sans-serif, 'Apple Color Emoji', 'Segoe UI Emoji', 'Segoe UI Symbol'\" font-size=\"13.00\">quantity</text>\n<polygon fill=\"#f5f5f5\" stroke=\"none\" points=\"169,-322.5 169,-345.5 219,-345.5 219,-322.5 169,-322.5\"/>\n<text text-anchor=\"start\" x=\"173.75\" y=\"-329.15\" font-family=\"-apple-system, BlinkMacSystemFont, 'Segoe UI', Helvetica, Arial, sans-serif, 'Apple Color Emoji', 'Segoe UI Emoji', 'Segoe UI Symbol'\" font-style=\"italic\" font-size=\"13.00\">double</text>\n<polygon fill=\"#ffffff\" stroke=\"none\" points=\"9,-299.5 9,-322.5 41,-322.5 41,-299.5 9,-299.5\"/>\n<polygon fill=\"#ffffff\" stroke=\"none\" points=\"41,-299.5 41,-322.5 169,-322.5 169,-299.5 41,-299.5\"/>\n<text text-anchor=\"start\" x=\"46\" y=\"-305.15\" font-family=\"-apple-system, BlinkMacSystemFont, 'Segoe UI', Helvetica, Arial, sans-serif, 'Apple Color Emoji', 'Segoe UI Emoji', 'Segoe UI Symbol'\" font-size=\"13.00\">salestotalcost</text>\n<polygon fill=\"#ffffff\" stroke=\"none\" points=\"169,-299.5 169,-322.5 219,-322.5 219,-299.5 169,-299.5\"/>\n<text text-anchor=\"start\" x=\"173.75\" y=\"-306.15\" font-family=\"-apple-system, BlinkMacSystemFont, 'Segoe UI', Helvetica, Arial, sans-serif, 'Apple Color Emoji', 'Segoe UI Emoji', 'Segoe UI Symbol'\" font-style=\"italic\" font-size=\"13.00\">double</text>\n<polygon fill=\"#f5f5f5\" stroke=\"none\" points=\"9,-276.5 9,-299.5 41,-299.5 41,-276.5 9,-276.5\"/>\n<polygon fill=\"#f5f5f5\" stroke=\"none\" points=\"41,-276.5 41,-299.5 169,-299.5 169,-276.5 41,-276.5\"/>\n<text text-anchor=\"start\" x=\"46\" y=\"-282.15\" font-family=\"-apple-system, BlinkMacSystemFont, 'Segoe UI', Helvetica, Arial, sans-serif, 'Apple Color Emoji', 'Segoe UI Emoji', 'Segoe UI Symbol'\" font-size=\"13.00\">productactualcost</text>\n<polygon fill=\"#f5f5f5\" stroke=\"none\" points=\"169,-276.5 169,-299.5 219,-299.5 219,-276.5 169,-276.5\"/>\n<text text-anchor=\"start\" x=\"173.75\" y=\"-283.15\" font-family=\"-apple-system, BlinkMacSystemFont, 'Segoe UI', Helvetica, Arial, sans-serif, 'Apple Color Emoji', 'Segoe UI Emoji', 'Segoe UI Symbol'\" font-style=\"italic\" font-size=\"13.00\">double</text>\n<polygon fill=\"#ffffff\" stroke=\"none\" points=\"9,-253.5 9,-276.5 41,-276.5 41,-253.5 9,-253.5\"/>\n<polygon fill=\"#ffffff\" stroke=\"none\" points=\"41,-253.5 41,-276.5 169,-276.5 169,-253.5 41,-253.5\"/>\n<text text-anchor=\"start\" x=\"46\" y=\"-259.15\" font-family=\"-apple-system, BlinkMacSystemFont, 'Segoe UI', Helvetica, Arial, sans-serif, 'Apple Color Emoji', 'Segoe UI Emoji', 'Segoe UI Symbol'\" font-size=\"13.00\">deviation</text>\n<polygon fill=\"#ffffff\" stroke=\"none\" points=\"169,-253.5 169,-276.5 219,-276.5 219,-253.5 169,-253.5\"/>\n<text text-anchor=\"start\" x=\"173.75\" y=\"-260.15\" font-family=\"-apple-system, BlinkMacSystemFont, 'Segoe UI', Helvetica, Arial, sans-serif, 'Apple Color Emoji', 'Segoe UI Emoji', 'Segoe UI Symbol'\" font-style=\"italic\" font-size=\"13.00\">double</text>\n<polygon fill=\"none\" stroke=\"black\" points=\"8,-252.5 8,-507.5 220,-507.5 220,-252.5 8,-252.5\"/>\n</g>\n<!-- ProductSales&#45;&gt;Customer -->\n<g id=\"edge3\" class=\"edge\">\n<title>ProductSales-&gt;Customer</title>\n<path fill=\"none\" stroke=\"black\" d=\"M227.75,-453.49C233.91,-457.4 240.03,-461.26 246,-465 314.82,-508.09 393.05,-555.34 453.87,-591.69\"/>\n<polygon fill=\"black\" stroke=\"black\" points=\"451.8,-594.53 462.18,-596.65 455.39,-588.52 451.8,-594.53\"/>\n<text text-anchor=\"middle\" x=\"339.38\" y=\"-579.65\" font-family=\"-apple-system, BlinkMacSystemFont, 'Segoe UI', Helvetica, Arial, sans-serif, 'Apple Color Emoji', 'Segoe UI Emoji', 'Segoe UI Symbol'\" font-size=\"13.00\">customerid → customerid</text>\n</g>\n<!-- ProductSales&#45;&gt;SalesPerson -->\n<g id=\"edge2\" class=\"edge\">\n<title>ProductSales-&gt;SalesPerson</title>\n<path fill=\"none\" stroke=\"black\" d=\"M227.74,-404.22C293.92,-418.43 377.31,-436.35 443.64,-450.6\"/>\n<polygon fill=\"black\" stroke=\"black\" points=\"442.56,-453.94 453.07,-452.62 444.03,-447.1 442.56,-453.94\"/>\n<text text-anchor=\"middle\" x=\"339.38\" y=\"-448.65\" font-family=\"-apple-system, BlinkMacSystemFont, 'Segoe UI', Helvetica, Arial, sans-serif, 'Apple Color Emoji', 'Segoe UI Emoji', 'Segoe UI Symbol'\" font-size=\"13.00\">salespersonid → salespersonid</text>\n</g>\n<!-- ProductSales&#45;&gt;Product -->\n<g id=\"edge4\" class=\"edge\">\n<title>ProductSales-&gt;Product</title>\n<path fill=\"none\" stroke=\"black\" d=\"M227.74,-356.04C292.58,-342.26 373.93,-324.97 439.57,-311.01\"/>\n<polygon fill=\"black\" stroke=\"black\" points=\"440.27,-314.44 449.32,-308.94 438.81,-307.6 440.27,-314.44\"/>\n<text text-anchor=\"middle\" x=\"339.38\" y=\"-351.65\" font-family=\"-apple-system, BlinkMacSystemFont, 'Segoe UI', Helvetica, Arial, sans-serif, 'Apple Color Emoji', 'Segoe UI Emoji', 'Segoe UI Symbol'\" font-size=\"13.00\">productid → productkey</text>\n</g>\n<!-- ProductSales&#45;&gt;Stores -->\n<g id=\"edge1\" class=\"edge\">\n<title>ProductSales-&gt;Stores</title>\n<path fill=\"none\" stroke=\"black\" d=\"M227.82,-305.76C233.97,-301.77 240.05,-297.83 246,-294 317.05,-248.2 397.7,-197.18 459.11,-158.53\"/>\n<polygon fill=\"black\" stroke=\"black\" points=\"460.91,-161.54 467.51,-153.25 457.18,-155.61 460.91,-161.54\"/>\n<text text-anchor=\"middle\" x=\"339.38\" y=\"-296.65\" font-family=\"-apple-system, BlinkMacSystemFont, 'Segoe UI', Helvetica, Arial, sans-serif, 'Apple Color Emoji', 'Segoe UI Emoji', 'Segoe UI Symbol'\" font-size=\"13.00\">storeid → storeid</text>\n</g>\n</g>\n</svg>"
     },
     "execution_count": 14,
     "metadata": {},
     "output_type": "execute_result"
    }
   ],
   "source": [
    "session.tables.schema"
   ]
  },
  {
   "cell_type": "code",
   "execution_count": 15,
   "id": "cef318a0-52c2-4c1a-a1c0-295b966aa4cf",
   "metadata": {
    "ExecuteTime": {
     "end_time": "2024-02-20T14:27:56.753053Z",
     "start_time": "2024-02-20T14:27:56.295670Z"
    }
   },
   "outputs": [],
   "source": [
    "cube = session.create_cube(product_sales_table)"
   ]
  },
  {
   "cell_type": "code",
   "execution_count": 16,
   "id": "16e2c037-0119-4732-b927-df06479addd9",
   "metadata": {
    "ExecuteTime": {
     "end_time": "2024-02-20T14:27:56.820209Z",
     "start_time": "2024-02-20T14:27:56.754055Z"
    }
   },
   "outputs": [
    {
     "data": {
      "text/plain": "<atoti.cube.Cube at 0x176b31150>",
      "text/html": "<ul>\n<li>ProductSales\n  <ul>\n  <li>Dimensions\n    <ul>\n    <li>Customer\n      <ul>\n      <li>customeraltid\n        <ol>\n        <li>customeraltid</li>\n        </ol>      </li>\n      <li>customername\n        <ol>\n        <li>customername</li>\n        </ol>      </li>\n      <li>gender\n        <ol>\n        <li>gender</li>\n        </ol>      </li>\n      </ul>\n    </li>\n    <li>Product\n      <ul>\n      <li>productaltkey\n        <ol>\n        <li>productaltkey</li>\n        </ol>      </li>\n      <li>productname\n        <ol>\n        <li>productname</li>\n        </ol>      </li>\n      </ul>\n    </li>\n    <li>ProductSales\n      <ul>\n      <li>transactionid\n        <ol>\n        <li>transactionid</li>\n        </ol>      </li>\n      </ul>\n    </li>\n    <li>SalesPerson\n      <ul>\n      <li>city\n        <ol>\n        <li>city</li>\n        </ol>      </li>\n      <li>country\n        <ol>\n        <li>country</li>\n        </ol>      </li>\n      <li>salespersonaltid\n        <ol>\n        <li>salespersonaltid</li>\n        </ol>      </li>\n      <li>salespersonname\n        <ol>\n        <li>salespersonname</li>\n        </ol>      </li>\n      <li>state\n        <ol>\n        <li>state</li>\n        </ol>      </li>\n      </ul>\n    </li>\n    <li>Stores\n      <ul>\n      <li>city\n        <ol>\n        <li>city</li>\n        </ol>      </li>\n      <li>country\n        <ol>\n        <li>country</li>\n        </ol>      </li>\n      <li>state\n        <ol>\n        <li>state</li>\n        </ol>      </li>\n      <li>storealtid\n        <ol>\n        <li>storealtid</li>\n        </ol>      </li>\n      <li>storelocation\n        <ol>\n        <li>storelocation</li>\n        </ol>      </li>\n      <li>storename\n        <ol>\n        <li>storename</li>\n        </ol>      </li>\n      </ul>\n    </li>\n    </ul>\n  </li>\n  <li>Measures\n    <ul>\n    <li>contributors.COUNT\n      <ul>\n      <li>formatter: INT[#,###]</li>\n      </ul>\n    </li>\n    <li>customerid.MEAN\n      <ul>\n      <li>formatter: DOUBLE[#,###.00]</li>\n      </ul>\n    </li>\n    <li>customerid.SUM\n      <ul>\n      <li>formatter: INT[#,###]</li>\n      </ul>\n    </li>\n    <li>deviation.MEAN\n      <ul>\n      <li>formatter: DOUBLE[#,###.00]</li>\n      </ul>\n    </li>\n    <li>deviation.SUM\n      <ul>\n      <li>formatter: DOUBLE[#,###.00]</li>\n      </ul>\n    </li>\n    <li>productactualcost.MEAN\n      <ul>\n      <li>formatter: DOUBLE[#,###.00]</li>\n      </ul>\n    </li>\n    <li>productactualcost.SUM\n      <ul>\n      <li>formatter: DOUBLE[#,###.00]</li>\n      </ul>\n    </li>\n    <li>productid.MEAN\n      <ul>\n      <li>formatter: DOUBLE[#,###.00]</li>\n      </ul>\n    </li>\n    <li>productid.SUM\n      <ul>\n      <li>formatter: INT[#,###]</li>\n      </ul>\n    </li>\n    <li>quantity.MEAN\n      <ul>\n      <li>formatter: DOUBLE[#,###.00]</li>\n      </ul>\n    </li>\n    <li>quantity.SUM\n      <ul>\n      <li>formatter: DOUBLE[#,###.00]</li>\n      </ul>\n    </li>\n    <li>salesinvoicenumber.MEAN\n      <ul>\n      <li>formatter: DOUBLE[#,###.00]</li>\n      </ul>\n    </li>\n    <li>salesinvoicenumber.SUM\n      <ul>\n      <li>formatter: INT[#,###]</li>\n      </ul>\n    </li>\n    <li>salespersonid.MEAN\n      <ul>\n      <li>formatter: DOUBLE[#,###.00]</li>\n      </ul>\n    </li>\n    <li>salespersonid.SUM\n      <ul>\n      <li>formatter: INT[#,###]</li>\n      </ul>\n    </li>\n    <li>salestotalcost.MEAN\n      <ul>\n      <li>formatter: DOUBLE[#,###.00]</li>\n      </ul>\n    </li>\n    <li>salestotalcost.SUM\n      <ul>\n      <li>formatter: DOUBLE[#,###.00]</li>\n      </ul>\n    </li>\n    <li>storeid.MEAN\n      <ul>\n      <li>formatter: DOUBLE[#,###.00]</li>\n      </ul>\n    </li>\n    <li>storeid.SUM\n      <ul>\n      <li>formatter: INT[#,###]</li>\n      </ul>\n    </li>\n    </ul>\n  </li>\n  </ul>\n</li>\n</ul>\n",
      "application/json": {
       "Dimensions": {
        "Customer": {
         "customeraltid": [
          "customeraltid"
         ],
         "customername": [
          "customername"
         ],
         "gender": [
          "gender"
         ]
        },
        "Product": {
         "productaltkey": [
          "productaltkey"
         ],
         "productname": [
          "productname"
         ]
        },
        "ProductSales": {
         "transactionid": [
          "transactionid"
         ]
        },
        "SalesPerson": {
         "city": [
          "city"
         ],
         "country": [
          "country"
         ],
         "salespersonaltid": [
          "salespersonaltid"
         ],
         "salespersonname": [
          "salespersonname"
         ],
         "state": [
          "state"
         ]
        },
        "Stores": {
         "city": [
          "city"
         ],
         "country": [
          "country"
         ],
         "state": [
          "state"
         ],
         "storealtid": [
          "storealtid"
         ],
         "storelocation": [
          "storelocation"
         ],
         "storename": [
          "storename"
         ]
        }
       },
       "Measures": {
        "contributors.COUNT": {
         "formatter": "INT[#,###]"
        },
        "customerid.MEAN": {
         "formatter": "DOUBLE[#,###.00]"
        },
        "customerid.SUM": {
         "formatter": "INT[#,###]"
        },
        "deviation.MEAN": {
         "formatter": "DOUBLE[#,###.00]"
        },
        "deviation.SUM": {
         "formatter": "DOUBLE[#,###.00]"
        },
        "productactualcost.MEAN": {
         "formatter": "DOUBLE[#,###.00]"
        },
        "productactualcost.SUM": {
         "formatter": "DOUBLE[#,###.00]"
        },
        "productid.MEAN": {
         "formatter": "DOUBLE[#,###.00]"
        },
        "productid.SUM": {
         "formatter": "INT[#,###]"
        },
        "quantity.MEAN": {
         "formatter": "DOUBLE[#,###.00]"
        },
        "quantity.SUM": {
         "formatter": "DOUBLE[#,###.00]"
        },
        "salesinvoicenumber.MEAN": {
         "formatter": "DOUBLE[#,###.00]"
        },
        "salesinvoicenumber.SUM": {
         "formatter": "INT[#,###]"
        },
        "salespersonid.MEAN": {
         "formatter": "DOUBLE[#,###.00]"
        },
        "salespersonid.SUM": {
         "formatter": "INT[#,###]"
        },
        "salestotalcost.MEAN": {
         "formatter": "DOUBLE[#,###.00]"
        },
        "salestotalcost.SUM": {
         "formatter": "DOUBLE[#,###.00]"
        },
        "storeid.MEAN": {
         "formatter": "DOUBLE[#,###.00]"
        },
        "storeid.SUM": {
         "formatter": "INT[#,###]"
        }
       }
      }
     },
     "execution_count": 16,
     "metadata": {
      "application/json": {
       "expanded": false,
       "root": "ProductSales"
      }
     },
     "output_type": "execute_result"
    }
   ],
   "source": [
    "cube"
   ]
  },
  {
   "cell_type": "code",
   "execution_count": 17,
   "id": "6cf0fe21-c3fb-4b65-9965-065de9277395",
   "metadata": {
    "ExecuteTime": {
     "end_time": "2024-02-20T14:27:56.825150Z",
     "start_time": "2024-02-20T14:27:56.820449Z"
    }
   },
   "outputs": [],
   "source": [
    "hierarchies, levels, measures = cube.hierarchies, cube.levels, cube.measures"
   ]
  },
  {
   "cell_type": "code",
   "execution_count": 18,
   "id": "e619517c-2f79-4169-b201-64fbff5d418e",
   "metadata": {
    "ExecuteTime": {
     "end_time": "2024-02-20T14:27:56.875379Z",
     "start_time": "2024-02-20T14:27:56.823356Z"
    }
   },
   "outputs": [
    {
     "data": {
      "text/plain": "{('Stores', 'storename'): <atoti.hierarchy.Hierarchy object at 0x1745227d0>, ('Stores', 'state'): <atoti.hierarchy.Hierarchy object at 0x1745c9310>, ('Product', 'productname'): <atoti.hierarchy.Hierarchy object at 0x1745c8110>, ('SalesPerson', 'city'): <atoti.hierarchy.Hierarchy object at 0x1745c8d50>, ('Product', 'productaltkey'): <atoti.hierarchy.Hierarchy object at 0x1745c88d0>, ('SalesPerson', 'salespersonaltid'): <atoti.hierarchy.Hierarchy object at 0x1745c9350>, ('Stores', 'storealtid'): <atoti.hierarchy.Hierarchy object at 0x1745c2f90>, ('Stores', 'city'): <atoti.hierarchy.Hierarchy object at 0x1745c0510>, ('ProductSales', 'transactionid'): <atoti.hierarchy.Hierarchy object at 0x1745c0210>, ('Customer', 'customername'): <atoti.hierarchy.Hierarchy object at 0x1745c3e90>, ('SalesPerson', 'salespersonname'): <atoti.hierarchy.Hierarchy object at 0x1745c3b90>, ('SalesPerson', 'country'): <atoti.hierarchy.Hierarchy object at 0x16bb48a90>, ('Customer', 'customeraltid'): <atoti.hierarchy.Hierarchy object at 0x1745bfc50>, ('Stores', 'storelocation'): <atoti.hierarchy.Hierarchy object at 0x1745bda10>, ('SalesPerson', 'state'): <atoti.hierarchy.Hierarchy object at 0x1745bd790>, ('Stores', 'country'): <atoti.hierarchy.Hierarchy object at 0x1745be050>, ('Customer', 'gender'): <atoti.hierarchy.Hierarchy object at 0x176b31810>}",
      "text/html": "<ul>\n<li>Dimensions\n  <ul>\n  <li>Customer\n    <ul>\n    <li>customeraltid\n      <ol>\n      <li>customeraltid</li>\n      </ol>    </li>\n    <li>customername\n      <ol>\n      <li>customername</li>\n      </ol>    </li>\n    <li>gender\n      <ol>\n      <li>gender</li>\n      </ol>    </li>\n    </ul>\n  </li>\n  <li>Product\n    <ul>\n    <li>productaltkey\n      <ol>\n      <li>productaltkey</li>\n      </ol>    </li>\n    <li>productname\n      <ol>\n      <li>productname</li>\n      </ol>    </li>\n    </ul>\n  </li>\n  <li>ProductSales\n    <ul>\n    <li>transactionid\n      <ol>\n      <li>transactionid</li>\n      </ol>    </li>\n    </ul>\n  </li>\n  <li>SalesPerson\n    <ul>\n    <li>city\n      <ol>\n      <li>city</li>\n      </ol>    </li>\n    <li>country\n      <ol>\n      <li>country</li>\n      </ol>    </li>\n    <li>salespersonaltid\n      <ol>\n      <li>salespersonaltid</li>\n      </ol>    </li>\n    <li>salespersonname\n      <ol>\n      <li>salespersonname</li>\n      </ol>    </li>\n    <li>state\n      <ol>\n      <li>state</li>\n      </ol>    </li>\n    </ul>\n  </li>\n  <li>Stores\n    <ul>\n    <li>city\n      <ol>\n      <li>city</li>\n      </ol>    </li>\n    <li>country\n      <ol>\n      <li>country</li>\n      </ol>    </li>\n    <li>state\n      <ol>\n      <li>state</li>\n      </ol>    </li>\n    <li>storealtid\n      <ol>\n      <li>storealtid</li>\n      </ol>    </li>\n    <li>storelocation\n      <ol>\n      <li>storelocation</li>\n      </ol>    </li>\n    <li>storename\n      <ol>\n      <li>storename</li>\n      </ol>    </li>\n    </ul>\n  </li>\n  </ul>\n</li>\n</ul>\n",
      "application/json": {
       "Customer": {
        "customeraltid": [
         "customeraltid"
        ],
        "customername": [
         "customername"
        ],
        "gender": [
         "gender"
        ]
       },
       "Product": {
        "productaltkey": [
         "productaltkey"
        ],
        "productname": [
         "productname"
        ]
       },
       "ProductSales": {
        "transactionid": [
         "transactionid"
        ]
       },
       "SalesPerson": {
        "city": [
         "city"
        ],
        "country": [
         "country"
        ],
        "salespersonaltid": [
         "salespersonaltid"
        ],
        "salespersonname": [
         "salespersonname"
        ],
        "state": [
         "state"
        ]
       },
       "Stores": {
        "city": [
         "city"
        ],
        "country": [
         "country"
        ],
        "state": [
         "state"
        ],
        "storealtid": [
         "storealtid"
        ],
        "storelocation": [
         "storelocation"
        ],
        "storename": [
         "storename"
        ]
       }
      }
     },
     "execution_count": 18,
     "metadata": {
      "application/json": {
       "expanded": true,
       "root": "Dimensions"
      }
     },
     "output_type": "execute_result"
    }
   ],
   "source": [
    "# original hierarchies\n",
    "hierarchies"
   ]
  },
  {
   "cell_type": "code",
   "execution_count": 19,
   "id": "dd91e63e-43f5-46bf-8e0d-8da58157f852",
   "metadata": {
    "ExecuteTime": {
     "end_time": "2024-02-20T14:27:56.931061Z",
     "start_time": "2024-02-20T14:27:56.870262Z"
    }
   },
   "outputs": [
    {
     "data": {
      "text/plain": "<atoti.levels.Levels at 0x1745b5d90>",
      "text/html": "<ul>\n<li>Levels\n  <ul>\n  <li>city (SalesPerson/city/city)\n    <ul>\n    <li>dimension: SalesPerson</li>\n    <li>hierarchy: city</li>\n    <li>type: String</li>\n    <li>order: NaturalOrder</li>\n    </ul>\n  </li>\n  <li>city (Stores/city/city)\n    <ul>\n    <li>dimension: Stores</li>\n    <li>hierarchy: city</li>\n    <li>type: String</li>\n    <li>order: NaturalOrder</li>\n    </ul>\n  </li>\n  <li>country (SalesPerson/country/country)\n    <ul>\n    <li>dimension: SalesPerson</li>\n    <li>hierarchy: country</li>\n    <li>type: String</li>\n    <li>order: NaturalOrder</li>\n    </ul>\n  </li>\n  <li>country (Stores/country/country)\n    <ul>\n    <li>dimension: Stores</li>\n    <li>hierarchy: country</li>\n    <li>type: String</li>\n    <li>order: NaturalOrder</li>\n    </ul>\n  </li>\n  <li>customeraltid (Customer/customeraltid/customeraltid)\n    <ul>\n    <li>dimension: Customer</li>\n    <li>hierarchy: customeraltid</li>\n    <li>type: String</li>\n    <li>order: NaturalOrder</li>\n    </ul>\n  </li>\n  <li>customername (Customer/customername/customername)\n    <ul>\n    <li>dimension: Customer</li>\n    <li>hierarchy: customername</li>\n    <li>type: String</li>\n    <li>order: NaturalOrder</li>\n    </ul>\n  </li>\n  <li>gender (Customer/gender/gender)\n    <ul>\n    <li>dimension: Customer</li>\n    <li>hierarchy: gender</li>\n    <li>type: String</li>\n    <li>order: NaturalOrder</li>\n    </ul>\n  </li>\n  <li>productaltkey (Product/productaltkey/productaltkey)\n    <ul>\n    <li>dimension: Product</li>\n    <li>hierarchy: productaltkey</li>\n    <li>type: String</li>\n    <li>order: NaturalOrder</li>\n    </ul>\n  </li>\n  <li>productname (Product/productname/productname)\n    <ul>\n    <li>dimension: Product</li>\n    <li>hierarchy: productname</li>\n    <li>type: String</li>\n    <li>order: NaturalOrder</li>\n    </ul>\n  </li>\n  <li>salespersonaltid (SalesPerson/salespersonaltid/salespersonaltid)\n    <ul>\n    <li>dimension: SalesPerson</li>\n    <li>hierarchy: salespersonaltid</li>\n    <li>type: String</li>\n    <li>order: NaturalOrder</li>\n    </ul>\n  </li>\n  <li>salespersonname (SalesPerson/salespersonname/salespersonname)\n    <ul>\n    <li>dimension: SalesPerson</li>\n    <li>hierarchy: salespersonname</li>\n    <li>type: String</li>\n    <li>order: NaturalOrder</li>\n    </ul>\n  </li>\n  <li>state (SalesPerson/state/state)\n    <ul>\n    <li>dimension: SalesPerson</li>\n    <li>hierarchy: state</li>\n    <li>type: String</li>\n    <li>order: NaturalOrder</li>\n    </ul>\n  </li>\n  <li>state (Stores/state/state)\n    <ul>\n    <li>dimension: Stores</li>\n    <li>hierarchy: state</li>\n    <li>type: String</li>\n    <li>order: NaturalOrder</li>\n    </ul>\n  </li>\n  <li>storealtid (Stores/storealtid/storealtid)\n    <ul>\n    <li>dimension: Stores</li>\n    <li>hierarchy: storealtid</li>\n    <li>type: String</li>\n    <li>order: NaturalOrder</li>\n    </ul>\n  </li>\n  <li>storelocation (Stores/storelocation/storelocation)\n    <ul>\n    <li>dimension: Stores</li>\n    <li>hierarchy: storelocation</li>\n    <li>type: String</li>\n    <li>order: NaturalOrder</li>\n    </ul>\n  </li>\n  <li>storename (Stores/storename/storename)\n    <ul>\n    <li>dimension: Stores</li>\n    <li>hierarchy: storename</li>\n    <li>type: String</li>\n    <li>order: NaturalOrder</li>\n    </ul>\n  </li>\n  <li>transactionid (ProductSales/transactionid/transactionid)\n    <ul>\n    <li>dimension: ProductSales</li>\n    <li>hierarchy: transactionid</li>\n    <li>type: long</li>\n    <li>order: NaturalOrder</li>\n    </ul>\n  </li>\n  </ul>\n</li>\n</ul>\n",
      "application/json": {
       "city (SalesPerson/city/city)": {
        "dimension": "SalesPerson",
        "hierarchy": "city",
        "type": "String",
        "order": "NaturalOrder"
       },
       "city (Stores/city/city)": {
        "dimension": "Stores",
        "hierarchy": "city",
        "type": "String",
        "order": "NaturalOrder"
       },
       "country (SalesPerson/country/country)": {
        "dimension": "SalesPerson",
        "hierarchy": "country",
        "type": "String",
        "order": "NaturalOrder"
       },
       "country (Stores/country/country)": {
        "dimension": "Stores",
        "hierarchy": "country",
        "type": "String",
        "order": "NaturalOrder"
       },
       "customeraltid (Customer/customeraltid/customeraltid)": {
        "dimension": "Customer",
        "hierarchy": "customeraltid",
        "type": "String",
        "order": "NaturalOrder"
       },
       "customername (Customer/customername/customername)": {
        "dimension": "Customer",
        "hierarchy": "customername",
        "type": "String",
        "order": "NaturalOrder"
       },
       "gender (Customer/gender/gender)": {
        "dimension": "Customer",
        "hierarchy": "gender",
        "type": "String",
        "order": "NaturalOrder"
       },
       "productaltkey (Product/productaltkey/productaltkey)": {
        "dimension": "Product",
        "hierarchy": "productaltkey",
        "type": "String",
        "order": "NaturalOrder"
       },
       "productname (Product/productname/productname)": {
        "dimension": "Product",
        "hierarchy": "productname",
        "type": "String",
        "order": "NaturalOrder"
       },
       "salespersonaltid (SalesPerson/salespersonaltid/salespersonaltid)": {
        "dimension": "SalesPerson",
        "hierarchy": "salespersonaltid",
        "type": "String",
        "order": "NaturalOrder"
       },
       "salespersonname (SalesPerson/salespersonname/salespersonname)": {
        "dimension": "SalesPerson",
        "hierarchy": "salespersonname",
        "type": "String",
        "order": "NaturalOrder"
       },
       "state (SalesPerson/state/state)": {
        "dimension": "SalesPerson",
        "hierarchy": "state",
        "type": "String",
        "order": "NaturalOrder"
       },
       "state (Stores/state/state)": {
        "dimension": "Stores",
        "hierarchy": "state",
        "type": "String",
        "order": "NaturalOrder"
       },
       "storealtid (Stores/storealtid/storealtid)": {
        "dimension": "Stores",
        "hierarchy": "storealtid",
        "type": "String",
        "order": "NaturalOrder"
       },
       "storelocation (Stores/storelocation/storelocation)": {
        "dimension": "Stores",
        "hierarchy": "storelocation",
        "type": "String",
        "order": "NaturalOrder"
       },
       "storename (Stores/storename/storename)": {
        "dimension": "Stores",
        "hierarchy": "storename",
        "type": "String",
        "order": "NaturalOrder"
       },
       "transactionid (ProductSales/transactionid/transactionid)": {
        "dimension": "ProductSales",
        "hierarchy": "transactionid",
        "type": "long",
        "order": "NaturalOrder"
       }
      }
     },
     "execution_count": 19,
     "metadata": {
      "application/json": {
       "expanded": true,
       "root": "Levels"
      }
     },
     "output_type": "execute_result"
    }
   ],
   "source": [
    "# original levels\n",
    "levels"
   ]
  },
  {
   "cell_type": "code",
   "execution_count": 20,
   "id": "8b013aca-3857-4909-a210-7d7401a55bd0",
   "metadata": {
    "ExecuteTime": {
     "end_time": "2024-02-20T14:27:56.989329Z",
     "start_time": "2024-02-20T14:27:56.931953Z"
    }
   },
   "outputs": [
    {
     "data": {
      "text/plain": "<atoti.levels.Levels at 0x1745b5d90>",
      "text/html": "<ul>\n<li>Levels\n  <ul>\n  <li>city (SalesPerson/city/city)\n    <ul>\n    <li>dimension: SalesPerson</li>\n    <li>hierarchy: city</li>\n    <li>type: String</li>\n    <li>order: NaturalOrder</li>\n    </ul>\n  </li>\n  <li>city (Stores/city/city)\n    <ul>\n    <li>dimension: Stores</li>\n    <li>hierarchy: city</li>\n    <li>type: String</li>\n    <li>order: NaturalOrder</li>\n    </ul>\n  </li>\n  <li>country (SalesPerson/country/country)\n    <ul>\n    <li>dimension: SalesPerson</li>\n    <li>hierarchy: country</li>\n    <li>type: String</li>\n    <li>order: NaturalOrder</li>\n    </ul>\n  </li>\n  <li>country (Stores/country/country)\n    <ul>\n    <li>dimension: Stores</li>\n    <li>hierarchy: country</li>\n    <li>type: String</li>\n    <li>order: NaturalOrder</li>\n    </ul>\n  </li>\n  <li>customeraltid (Customer/customeraltid/customeraltid)\n    <ul>\n    <li>dimension: Customer</li>\n    <li>hierarchy: customeraltid</li>\n    <li>type: String</li>\n    <li>order: NaturalOrder</li>\n    </ul>\n  </li>\n  <li>customername (Customer/customername/customername)\n    <ul>\n    <li>dimension: Customer</li>\n    <li>hierarchy: customername</li>\n    <li>type: String</li>\n    <li>order: NaturalOrder</li>\n    </ul>\n  </li>\n  <li>gender (Customer/gender/gender)\n    <ul>\n    <li>dimension: Customer</li>\n    <li>hierarchy: gender</li>\n    <li>type: String</li>\n    <li>order: NaturalOrder</li>\n    </ul>\n  </li>\n  <li>productaltkey (Product/productaltkey/productaltkey)\n    <ul>\n    <li>dimension: Product</li>\n    <li>hierarchy: productaltkey</li>\n    <li>type: String</li>\n    <li>order: NaturalOrder</li>\n    </ul>\n  </li>\n  <li>productname (Product/productname/productname)\n    <ul>\n    <li>dimension: Product</li>\n    <li>hierarchy: productname</li>\n    <li>type: String</li>\n    <li>order: NaturalOrder</li>\n    </ul>\n  </li>\n  <li>salespersonaltid (SalesPerson/salespersonaltid/salespersonaltid)\n    <ul>\n    <li>dimension: SalesPerson</li>\n    <li>hierarchy: salespersonaltid</li>\n    <li>type: String</li>\n    <li>order: NaturalOrder</li>\n    </ul>\n  </li>\n  <li>salespersonname (SalesPerson/salespersonname/salespersonname)\n    <ul>\n    <li>dimension: SalesPerson</li>\n    <li>hierarchy: salespersonname</li>\n    <li>type: String</li>\n    <li>order: NaturalOrder</li>\n    </ul>\n  </li>\n  <li>state (SalesPerson/state/state)\n    <ul>\n    <li>dimension: SalesPerson</li>\n    <li>hierarchy: state</li>\n    <li>type: String</li>\n    <li>order: NaturalOrder</li>\n    </ul>\n  </li>\n  <li>state (Stores/state/state)\n    <ul>\n    <li>dimension: Stores</li>\n    <li>hierarchy: state</li>\n    <li>type: String</li>\n    <li>order: NaturalOrder</li>\n    </ul>\n  </li>\n  <li>storealtid (Stores/storealtid/storealtid)\n    <ul>\n    <li>dimension: Stores</li>\n    <li>hierarchy: storealtid</li>\n    <li>type: String</li>\n    <li>order: NaturalOrder</li>\n    </ul>\n  </li>\n  <li>storelocation (Stores/storelocation/storelocation)\n    <ul>\n    <li>dimension: Stores</li>\n    <li>hierarchy: storelocation</li>\n    <li>type: String</li>\n    <li>order: NaturalOrder</li>\n    </ul>\n  </li>\n  <li>storename (Stores/storename/storename)\n    <ul>\n    <li>dimension: Stores</li>\n    <li>hierarchy: storename</li>\n    <li>type: String</li>\n    <li>order: NaturalOrder</li>\n    </ul>\n  </li>\n  <li>transactionid (ProductSales/transactionid/transactionid)\n    <ul>\n    <li>dimension: ProductSales</li>\n    <li>hierarchy: transactionid</li>\n    <li>type: long</li>\n    <li>order: NaturalOrder</li>\n    </ul>\n  </li>\n  </ul>\n</li>\n</ul>\n",
      "application/json": {
       "city (SalesPerson/city/city)": {
        "dimension": "SalesPerson",
        "hierarchy": "city",
        "type": "String",
        "order": "NaturalOrder"
       },
       "city (Stores/city/city)": {
        "dimension": "Stores",
        "hierarchy": "city",
        "type": "String",
        "order": "NaturalOrder"
       },
       "country (SalesPerson/country/country)": {
        "dimension": "SalesPerson",
        "hierarchy": "country",
        "type": "String",
        "order": "NaturalOrder"
       },
       "country (Stores/country/country)": {
        "dimension": "Stores",
        "hierarchy": "country",
        "type": "String",
        "order": "NaturalOrder"
       },
       "customeraltid (Customer/customeraltid/customeraltid)": {
        "dimension": "Customer",
        "hierarchy": "customeraltid",
        "type": "String",
        "order": "NaturalOrder"
       },
       "customername (Customer/customername/customername)": {
        "dimension": "Customer",
        "hierarchy": "customername",
        "type": "String",
        "order": "NaturalOrder"
       },
       "gender (Customer/gender/gender)": {
        "dimension": "Customer",
        "hierarchy": "gender",
        "type": "String",
        "order": "NaturalOrder"
       },
       "productaltkey (Product/productaltkey/productaltkey)": {
        "dimension": "Product",
        "hierarchy": "productaltkey",
        "type": "String",
        "order": "NaturalOrder"
       },
       "productname (Product/productname/productname)": {
        "dimension": "Product",
        "hierarchy": "productname",
        "type": "String",
        "order": "NaturalOrder"
       },
       "salespersonaltid (SalesPerson/salespersonaltid/salespersonaltid)": {
        "dimension": "SalesPerson",
        "hierarchy": "salespersonaltid",
        "type": "String",
        "order": "NaturalOrder"
       },
       "salespersonname (SalesPerson/salespersonname/salespersonname)": {
        "dimension": "SalesPerson",
        "hierarchy": "salespersonname",
        "type": "String",
        "order": "NaturalOrder"
       },
       "state (SalesPerson/state/state)": {
        "dimension": "SalesPerson",
        "hierarchy": "state",
        "type": "String",
        "order": "NaturalOrder"
       },
       "state (Stores/state/state)": {
        "dimension": "Stores",
        "hierarchy": "state",
        "type": "String",
        "order": "NaturalOrder"
       },
       "storealtid (Stores/storealtid/storealtid)": {
        "dimension": "Stores",
        "hierarchy": "storealtid",
        "type": "String",
        "order": "NaturalOrder"
       },
       "storelocation (Stores/storelocation/storelocation)": {
        "dimension": "Stores",
        "hierarchy": "storelocation",
        "type": "String",
        "order": "NaturalOrder"
       },
       "storename (Stores/storename/storename)": {
        "dimension": "Stores",
        "hierarchy": "storename",
        "type": "String",
        "order": "NaturalOrder"
       },
       "transactionid (ProductSales/transactionid/transactionid)": {
        "dimension": "ProductSales",
        "hierarchy": "transactionid",
        "type": "long",
        "order": "NaturalOrder"
       }
      }
     },
     "execution_count": 20,
     "metadata": {
      "application/json": {
       "expanded": true,
       "root": "Levels"
      }
     },
     "output_type": "execute_result"
    }
   ],
   "source": [
    "levels"
   ]
  },
  {
   "cell_type": "code",
   "execution_count": 21,
   "id": "25f9d042-4f46-411d-ae5e-cf5503a8c212",
   "metadata": {
    "ExecuteTime": {
     "end_time": "2024-02-20T14:27:56.991745Z",
     "start_time": "2024-02-20T14:27:56.988820Z"
    }
   },
   "outputs": [],
   "source": [
    "# dimensions\n",
    "# Customer: CustomerName, Gender\n",
    "# SalesPerson: SalesPersonName, City, State, Country\n",
    "# Product: ProductName\n",
    "# Store: StoreName, City, State"
   ]
  },
  {
   "cell_type": "code",
   "execution_count": 22,
   "id": "a1e60270-b699-4f79-82cd-8d114a7d843f",
   "metadata": {
    "ExecuteTime": {
     "end_time": "2024-02-20T14:27:57.054533Z",
     "start_time": "2024-02-20T14:27:56.991144Z"
    }
   },
   "outputs": [],
   "source": [
    "hierarchies[\"Customer\"] = [levels[\"customername\"], levels[\"gender\"]]"
   ]
  },
  {
   "cell_type": "code",
   "execution_count": 23,
   "id": "7e33c4c5-a9c1-4724-8dd7-1e26d61d35ca",
   "metadata": {
    "ExecuteTime": {
     "end_time": "2024-02-20T14:27:57.099413Z",
     "start_time": "2024-02-20T14:27:57.055451Z"
    }
   },
   "outputs": [],
   "source": [
    "hierarchies[\"Product\"] = [levels[\"productname\"]]"
   ]
  },
  {
   "cell_type": "code",
   "execution_count": 24,
   "id": "1eb03503-ca6d-49c6-bb59-f971aef72c31",
   "metadata": {
    "ExecuteTime": {
     "end_time": "2024-02-20T14:27:57.165537Z",
     "start_time": "2024-02-20T14:27:57.100465Z"
    }
   },
   "outputs": [],
   "source": [
    "hierarchies[\"SalesPerson\"] = [levels[\"salespersonname\"], levels[('SalesPerson', 'city', 'city')],\n",
    "                              levels[('SalesPerson', 'state', 'state')], levels[('SalesPerson', 'country', 'country')]]"
   ]
  },
  {
   "cell_type": "code",
   "execution_count": 25,
   "id": "0caf22ae-3873-4699-89ed-0589a690a12f",
   "metadata": {
    "ExecuteTime": {
     "end_time": "2024-02-20T14:27:57.218578Z",
     "start_time": "2024-02-20T14:27:57.166614Z"
    }
   },
   "outputs": [],
   "source": [
    "hierarchies[\"Stores\"] = [levels[('Stores', 'storename', 'storename')], levels[('Stores', 'city', 'city')],\n",
    "                         levels[('Stores', 'state', 'state')], levels[('Stores', 'country', 'country')]]"
   ]
  },
  {
   "cell_type": "code",
   "execution_count": 26,
   "id": "ce72cc29-6ad8-4ab7-a52f-a91641dc225c",
   "metadata": {
    "ExecuteTime": {
     "end_time": "2024-02-20T14:27:57.275030Z",
     "start_time": "2024-02-20T14:27:57.220074Z"
    }
   },
   "outputs": [
    {
     "data": {
      "text/plain": "{('Stores', 'storename'): <atoti.hierarchy.Hierarchy object at 0x174639d50>, ('Stores', 'state'): <atoti.hierarchy.Hierarchy object at 0x1746a5590>, ('Stores', 'Stores'): <atoti.hierarchy.Hierarchy object at 0x1746a5750>, ('Customer', 'Customer'): <atoti.hierarchy.Hierarchy object at 0x1746a5b50>, ('Product', 'productname'): <atoti.hierarchy.Hierarchy object at 0x1746a5dd0>, ('SalesPerson', 'city'): <atoti.hierarchy.Hierarchy object at 0x17469bf10>, ('Product', 'productaltkey'): <atoti.hierarchy.Hierarchy object at 0x17469bf50>, ('SalesPerson', 'salespersonaltid'): <atoti.hierarchy.Hierarchy object at 0x17469bc90>, ('Stores', 'storealtid'): <atoti.hierarchy.Hierarchy object at 0x17469b610>, ('Stores', 'city'): <atoti.hierarchy.Hierarchy object at 0x17469b1d0>, ('ProductSales', 'transactionid'): <atoti.hierarchy.Hierarchy object at 0x17469b110>, ('Customer', 'customername'): <atoti.hierarchy.Hierarchy object at 0x17469af50>, ('SalesPerson', 'SalesPerson'): <atoti.hierarchy.Hierarchy object at 0x17469a750>, ('SalesPerson', 'salespersonname'): <atoti.hierarchy.Hierarchy object at 0x17469a1d0>, ('SalesPerson', 'country'): <atoti.hierarchy.Hierarchy object at 0x174699d10>, ('Product', 'Product'): <atoti.hierarchy.Hierarchy object at 0x174699ad0>, ('Customer', 'customeraltid'): <atoti.hierarchy.Hierarchy object at 0x174699750>, ('Stores', 'storelocation'): <atoti.hierarchy.Hierarchy object at 0x174699890>, ('SalesPerson', 'state'): <atoti.hierarchy.Hierarchy object at 0x1746995d0>, ('Stores', 'country'): <atoti.hierarchy.Hierarchy object at 0x174698f50>, ('Customer', 'gender'): <atoti.hierarchy.Hierarchy object at 0x174698b10>}",
      "text/html": "<ul>\n<li>Dimensions\n  <ul>\n  <li>Customer\n    <ul>\n    <li>Customer\n      <ol>\n      <li>customername</li>\n      <li>gender</li>\n      </ol>    </li>\n    <li>customeraltid\n      <ol>\n      <li>customeraltid</li>\n      </ol>    </li>\n    <li>customername\n      <ol>\n      <li>customername</li>\n      </ol>    </li>\n    <li>gender\n      <ol>\n      <li>gender</li>\n      </ol>    </li>\n    </ul>\n  </li>\n  <li>Product\n    <ul>\n    <li>Product\n      <ol>\n      <li>productname</li>\n      </ol>    </li>\n    <li>productaltkey\n      <ol>\n      <li>productaltkey</li>\n      </ol>    </li>\n    <li>productname\n      <ol>\n      <li>productname</li>\n      </ol>    </li>\n    </ul>\n  </li>\n  <li>ProductSales\n    <ul>\n    <li>transactionid\n      <ol>\n      <li>transactionid</li>\n      </ol>    </li>\n    </ul>\n  </li>\n  <li>SalesPerson\n    <ul>\n    <li>SalesPerson\n      <ol>\n      <li>salespersonname</li>\n      <li>city</li>\n      <li>state</li>\n      <li>country</li>\n      </ol>    </li>\n    <li>city\n      <ol>\n      <li>city</li>\n      </ol>    </li>\n    <li>country\n      <ol>\n      <li>country</li>\n      </ol>    </li>\n    <li>salespersonaltid\n      <ol>\n      <li>salespersonaltid</li>\n      </ol>    </li>\n    <li>salespersonname\n      <ol>\n      <li>salespersonname</li>\n      </ol>    </li>\n    <li>state\n      <ol>\n      <li>state</li>\n      </ol>    </li>\n    </ul>\n  </li>\n  <li>Stores\n    <ul>\n    <li>Stores\n      <ol>\n      <li>storename</li>\n      <li>city</li>\n      <li>state</li>\n      <li>country</li>\n      </ol>    </li>\n    <li>city\n      <ol>\n      <li>city</li>\n      </ol>    </li>\n    <li>country\n      <ol>\n      <li>country</li>\n      </ol>    </li>\n    <li>state\n      <ol>\n      <li>state</li>\n      </ol>    </li>\n    <li>storealtid\n      <ol>\n      <li>storealtid</li>\n      </ol>    </li>\n    <li>storelocation\n      <ol>\n      <li>storelocation</li>\n      </ol>    </li>\n    <li>storename\n      <ol>\n      <li>storename</li>\n      </ol>    </li>\n    </ul>\n  </li>\n  </ul>\n</li>\n</ul>\n",
      "application/json": {
       "Customer": {
        "Customer": [
         "customername",
         "gender"
        ],
        "customeraltid": [
         "customeraltid"
        ],
        "customername": [
         "customername"
        ],
        "gender": [
         "gender"
        ]
       },
       "Product": {
        "Product": [
         "productname"
        ],
        "productaltkey": [
         "productaltkey"
        ],
        "productname": [
         "productname"
        ]
       },
       "ProductSales": {
        "transactionid": [
         "transactionid"
        ]
       },
       "SalesPerson": {
        "SalesPerson": [
         "salespersonname",
         "city",
         "state",
         "country"
        ],
        "city": [
         "city"
        ],
        "country": [
         "country"
        ],
        "salespersonaltid": [
         "salespersonaltid"
        ],
        "salespersonname": [
         "salespersonname"
        ],
        "state": [
         "state"
        ]
       },
       "Stores": {
        "Stores": [
         "storename",
         "city",
         "state",
         "country"
        ],
        "city": [
         "city"
        ],
        "country": [
         "country"
        ],
        "state": [
         "state"
        ],
        "storealtid": [
         "storealtid"
        ],
        "storelocation": [
         "storelocation"
        ],
        "storename": [
         "storename"
        ]
       }
      }
     },
     "execution_count": 26,
     "metadata": {
      "application/json": {
       "expanded": true,
       "root": "Dimensions"
      }
     },
     "output_type": "execute_result"
    }
   ],
   "source": [
    "hierarchies"
   ]
  },
  {
   "cell_type": "code",
   "execution_count": 27,
   "id": "ffcb9bdc-946f-4091-ad1f-59dbf644182c",
   "metadata": {
    "ExecuteTime": {
     "end_time": "2024-02-20T14:27:57.373938Z",
     "start_time": "2024-02-20T14:27:57.275678Z"
    }
   },
   "outputs": [],
   "source": [
    "# clean customer\n",
    "del hierarchies[('Customer', 'customeraltid')]\n",
    "del hierarchies[('Customer', 'customername')]\n",
    "del hierarchies[('Customer', 'gender')]"
   ]
  },
  {
   "cell_type": "code",
   "execution_count": 28,
   "id": "e5f48877-b317-40f5-a7af-65717a158965",
   "metadata": {
    "ExecuteTime": {
     "end_time": "2024-02-20T14:27:57.438090Z",
     "start_time": "2024-02-20T14:27:57.378622Z"
    }
   },
   "outputs": [],
   "source": [
    "# clean product\n",
    "del hierarchies[('Product', 'productname')]\n",
    "del hierarchies[('Product', 'productaltkey')]"
   ]
  },
  {
   "cell_type": "code",
   "execution_count": 29,
   "id": "fa5e840c-a8a9-417d-b221-3492a0c396d3",
   "metadata": {
    "ExecuteTime": {
     "end_time": "2024-02-20T14:27:57.575212Z",
     "start_time": "2024-02-20T14:27:57.439379Z"
    }
   },
   "outputs": [],
   "source": [
    "# clean salesperson\n",
    "del hierarchies[('SalesPerson', 'city')]\n",
    "del hierarchies[('SalesPerson', 'salespersonname')]\n",
    "del hierarchies[('SalesPerson', 'country')]\n",
    "del hierarchies[('SalesPerson', 'state')]\n",
    "del hierarchies[('SalesPerson', 'salespersonaltid')]"
   ]
  },
  {
   "cell_type": "code",
   "execution_count": 30,
   "id": "46c974d2-9bd4-4399-a64e-153fd9d78b29",
   "metadata": {
    "ExecuteTime": {
     "end_time": "2024-02-20T14:27:57.706155Z",
     "start_time": "2024-02-20T14:27:57.575397Z"
    }
   },
   "outputs": [],
   "source": [
    "# clean stores\n",
    "del hierarchies[('Stores', 'storename')]\n",
    "del hierarchies[('Stores', 'state')]\n",
    "del hierarchies[('Stores', 'country')]\n",
    "del hierarchies[('Stores', 'storealtid')]\n",
    "del hierarchies[('Stores', 'city')]"
   ]
  },
  {
   "cell_type": "code",
   "execution_count": 31,
   "id": "d3aaa105-253d-4c41-9e05-a375c0545779",
   "metadata": {
    "ExecuteTime": {
     "end_time": "2024-02-20T14:27:57.729568Z",
     "start_time": "2024-02-20T14:27:57.702604Z"
    }
   },
   "outputs": [],
   "source": [
    "# clean product sales\n",
    "del hierarchies[('ProductSales', 'transactionid')]"
   ]
  },
  {
   "cell_type": "code",
   "execution_count": 32,
   "id": "3e72dcbf-3fbe-4f0c-b031-d3d9339a98fb",
   "metadata": {
    "ExecuteTime": {
     "end_time": "2024-02-20T14:27:57.746589Z",
     "start_time": "2024-02-20T14:27:57.728258Z"
    }
   },
   "outputs": [
    {
     "data": {
      "text/plain": "{('SalesPerson', 'SalesPerson'): <atoti.hierarchy.Hierarchy object at 0x17466a790>, ('Stores', 'Stores'): <atoti.hierarchy.Hierarchy object at 0x17466bc10>, ('Product', 'Product'): <atoti.hierarchy.Hierarchy object at 0x17466f210>, ('Customer', 'Customer'): <atoti.hierarchy.Hierarchy object at 0x17466f090>, ('Stores', 'storelocation'): <atoti.hierarchy.Hierarchy object at 0x17466e250>}",
      "text/html": "<ul>\n<li>Dimensions\n  <ul>\n  <li>Customer\n    <ul>\n    <li>Customer\n      <ol>\n      <li>customername</li>\n      <li>gender</li>\n      </ol>    </li>\n    </ul>\n  </li>\n  <li>Product\n    <ul>\n    <li>Product\n      <ol>\n      <li>productname</li>\n      </ol>    </li>\n    </ul>\n  </li>\n  <li>SalesPerson\n    <ul>\n    <li>SalesPerson\n      <ol>\n      <li>salespersonname</li>\n      <li>city</li>\n      <li>state</li>\n      <li>country</li>\n      </ol>    </li>\n    </ul>\n  </li>\n  <li>Stores\n    <ul>\n    <li>Stores\n      <ol>\n      <li>storename</li>\n      <li>city</li>\n      <li>state</li>\n      <li>country</li>\n      </ol>    </li>\n    <li>storelocation\n      <ol>\n      <li>storelocation</li>\n      </ol>    </li>\n    </ul>\n  </li>\n  </ul>\n</li>\n</ul>\n",
      "application/json": {
       "Customer": {
        "Customer": [
         "customername",
         "gender"
        ]
       },
       "Product": {
        "Product": [
         "productname"
        ]
       },
       "SalesPerson": {
        "SalesPerson": [
         "salespersonname",
         "city",
         "state",
         "country"
        ]
       },
       "Stores": {
        "Stores": [
         "storename",
         "city",
         "state",
         "country"
        ],
        "storelocation": [
         "storelocation"
        ]
       }
      }
     },
     "execution_count": 32,
     "metadata": {
      "application/json": {
       "expanded": true,
       "root": "Dimensions"
      }
     },
     "output_type": "execute_result"
    }
   ],
   "source": [
    "hierarchies"
   ]
  },
  {
   "cell_type": "code",
   "execution_count": 33,
   "id": "aa9efd8b-cf0d-43d0-9733-b1d21a3b3dc9",
   "metadata": {
    "ExecuteTime": {
     "end_time": "2024-02-20T14:27:58.065463Z",
     "start_time": "2024-02-20T14:27:57.748569Z"
    }
   },
   "outputs": [],
   "source": [
    "# clean measures\n",
    "del measures[\"contributors.COUNT\"]\n",
    "del measures[\"customerid.MEAN\"]\n",
    "del measures[\"customerid.SUM\"]\n",
    "del measures[\"deviation.MEAN\"]\n",
    "del measures[\"deviation.SUM\"]\n",
    "del measures[\"productactualcost.MEAN\"]\n",
    "del measures[\"productid.MEAN\"]\n",
    "del measures[\"productid.SUM\"]\n",
    "del measures[\"salesinvoicenumber.MEAN\"]\n",
    "del measures[\"salesinvoicenumber.SUM\"]\n",
    "del measures[\"salespersonid.MEAN\"]\n",
    "del measures[\"salespersonid.SUM\"]\n",
    "del measures[\"storeid.MEAN\"]\n",
    "del measures[\"storeid.SUM\"]\n",
    "del measures[\"salestotalcost.MEAN\"]\n",
    "del measures[\"quantity.MEAN\"]"
   ]
  },
  {
   "cell_type": "code",
   "execution_count": 34,
   "id": "77526eac-4025-469b-ab16-4eb9c2d4f64e",
   "metadata": {
    "ExecuteTime": {
     "end_time": "2024-02-20T14:27:58.076133Z",
     "start_time": "2024-02-20T14:27:58.066588Z"
    }
   },
   "outputs": [
    {
     "data": {
      "text/plain": "{'update.TIMESTAMP': <atoti.measure.Measure object at 0x174674650>, 'quantity.SUM': <atoti.measure.Measure object at 0x174674f10>, 'salestotalcost.SUM': <atoti.measure.Measure object at 0x174674dd0>, 'productactualcost.SUM': <atoti.measure.Measure object at 0x174677950>}",
      "text/html": "<ul>\n<li>Measures\n  <ul>\n  <li>productactualcost.SUM\n    <ul>\n    <li>formatter: DOUBLE[#,###.00]</li>\n    </ul>\n  </li>\n  <li>quantity.SUM\n    <ul>\n    <li>formatter: DOUBLE[#,###.00]</li>\n    </ul>\n  </li>\n  <li>salestotalcost.SUM\n    <ul>\n    <li>formatter: DOUBLE[#,###.00]</li>\n    </ul>\n  </li>\n  </ul>\n</li>\n</ul>\n",
      "application/json": {
       "productactualcost.SUM": {
        "formatter": "DOUBLE[#,###.00]"
       },
       "quantity.SUM": {
        "formatter": "DOUBLE[#,###.00]"
       },
       "salestotalcost.SUM": {
        "formatter": "DOUBLE[#,###.00]"
       }
      }
     },
     "execution_count": 34,
     "metadata": {
      "application/json": {
       "expanded": false,
       "root": "Measures"
      }
     },
     "output_type": "execute_result"
    }
   ],
   "source": [
    "measures"
   ]
  },
  {
   "cell_type": "code",
   "execution_count": 35,
   "id": "1e874102-e542-458d-a120-f06f2cc7f905",
   "metadata": {
    "ExecuteTime": {
     "end_time": "2024-02-20T14:27:58.630959Z",
     "start_time": "2024-02-20T14:27:58.077184Z"
    }
   },
   "outputs": [
    {
     "data": {
      "text/html": "<div>\n<style scoped>\n    .dataframe tbody tr th:only-of-type {\n        vertical-align: middle;\n    }\n\n    .dataframe tbody tr th {\n        vertical-align: top;\n    }\n\n    .dataframe thead th {\n        text-align: right;\n    }\n</style>\n<table border=\"1\" class=\"dataframe\">\n  <thead>\n    <tr style=\"text-align: right;\">\n      <th></th>\n      <th></th>\n      <th>quantity.SUM</th>\n    </tr>\n    <tr>\n      <th>storename</th>\n      <th>city</th>\n      <th></th>\n    </tr>\n  </thead>\n  <tbody>\n    <tr>\n      <th>X-Mart</th>\n      <th>Ahmedabad</th>\n      <td>43.00</td>\n    </tr>\n  </tbody>\n</table>\n</div>",
      "text/plain": "                    quantity.SUM\nstorename city                  \nX-Mart    Ahmedabad        43.00"
     },
     "execution_count": 35,
     "metadata": {},
     "output_type": "execute_result"
    }
   ],
   "source": [
    "cube.query(measures[\"quantity.SUM\"], levels=[levels[('Stores', 'Stores', 'city')]])"
   ]
  },
  {
   "cell_type": "code",
   "outputs": [],
   "source": [
    "cost = tt.agg.sum(\n",
    "    measures[\"quantity.SUM\"] * tt.agg.single_value(product_table[\"productactualcost\"]),\n",
    "    scope=tt.OriginScope(levels[\"productname\"]),\n",
    ")\n",
    "\n",
    "income = tt.agg.sum(\n",
    "    measures[\"quantity.SUM\"] * tt.agg.single_value(product_table[\"productsalescost\"]),\n",
    "    scope=tt.OriginScope(levels[\"productname\"]),\n",
    ")\n"
   ],
   "metadata": {
    "collapsed": false,
    "ExecuteTime": {
     "end_time": "2024-02-20T14:27:58.640325Z",
     "start_time": "2024-02-20T14:27:58.631759Z"
    }
   },
   "id": "d6faed66f9e436ce",
   "execution_count": 36
  },
  {
   "cell_type": "code",
   "outputs": [],
   "source": [
    "measures[\"Margin\"] = income - cost"
   ],
   "metadata": {
    "collapsed": false,
    "ExecuteTime": {
     "end_time": "2024-02-20T14:27:58.724670Z",
     "start_time": "2024-02-20T14:27:58.641123Z"
    }
   },
   "id": "a68f25eb1d166ceb",
   "execution_count": 37
  },
  {
   "cell_type": "code",
   "outputs": [
    {
     "data": {
      "text/html": "<div>\n<style scoped>\n    .dataframe tbody tr th:only-of-type {\n        vertical-align: middle;\n    }\n\n    .dataframe tbody tr th {\n        vertical-align: top;\n    }\n\n    .dataframe thead th {\n        text-align: right;\n    }\n</style>\n<table border=\"1\" class=\"dataframe\">\n  <thead>\n    <tr style=\"text-align: right;\">\n      <th></th>\n      <th>Margin</th>\n    </tr>\n    <tr>\n      <th>productname</th>\n      <th></th>\n    </tr>\n  </thead>\n  <tbody>\n    <tr>\n      <th>Arial Washing Powder 1kg</th>\n      <td>12.00</td>\n    </tr>\n    <tr>\n      <th>Nirma Soap</th>\n      <td>36.00</td>\n    </tr>\n    <tr>\n      <th>Rice Grains 1kg</th>\n      <td>12.00</td>\n    </tr>\n    <tr>\n      <th>SunFlower Oil 1 ltr</th>\n      <td>10.50</td>\n    </tr>\n    <tr>\n      <th>Wheat Floor 1kg</th>\n      <td>7.00</td>\n    </tr>\n  </tbody>\n</table>\n</div>",
      "text/plain": "                         Margin\nproductname                    \nArial Washing Powder 1kg  12.00\nNirma Soap                36.00\nRice Grains 1kg           12.00\nSunFlower Oil 1 ltr       10.50\nWheat Floor 1kg            7.00"
     },
     "execution_count": 38,
     "metadata": {},
     "output_type": "execute_result"
    }
   ],
   "source": [
    "cube.query(measures[\"Margin\"], levels=[levels[('Product', 'Product', 'productname')]])"
   ],
   "metadata": {
    "collapsed": false,
    "ExecuteTime": {
     "end_time": "2024-02-20T14:27:58.757621Z",
     "start_time": "2024-02-20T14:27:58.700234Z"
    }
   },
   "id": "9db203315b8f378",
   "execution_count": 38
  },
  {
   "cell_type": "markdown",
   "id": "8281cb2d-013a-4d57-abc4-f20cbcaaca17",
   "metadata": {},
   "source": [
    "## Presentation"
   ]
  },
  {
   "cell_type": "code",
   "execution_count": 39,
   "id": "70508704-ba4e-439d-84d2-f6078b52ef0a",
   "metadata": {
    "atoti": {
     "widget": {
      "mapping": {
       "color": [
        "[Customer].[Customer].[gender]"
       ],
       "horizontalSubplots": [],
       "size": [],
       "splitBy": [
        "[SalesPerson].[SalesPerson].[state]"
       ],
       "verticalSubplots": [],
       "xValues": [
        "[Measures].[quantity.SUM]"
       ],
       "yValues": []
      },
      "query": {
       "mdx": "SELECT NON EMPTY Crossjoin(Hierarchize(Descendants({[Customer].[Customer].[ALL].[AllMember]}, 2, SELF_AND_BEFORE)), Hierarchize(Descendants({[SalesPerson].[SalesPerson].[ALL].[AllMember]}, 3, SELF_AND_BEFORE))) ON ROWS, NON EMPTY {[Measures].[quantity.SUM]} ON COLUMNS FROM [ProductSales] CELL PROPERTIES VALUE, FORMATTED_VALUE, BACK_COLOR, FORE_COLOR, FONT_FLAGS",
       "updateMode": "once"
      },
      "serverKey": "default",
      "switchedTo": "plotly-pie-chart",
      "widgetKey": "plotly-scatter-plot"
     }
    },
    "ExecuteTime": {
     "end_time": "2024-02-20T14:27:58.758660Z",
     "start_time": "2024-02-20T14:27:58.750304Z"
    }
   },
   "outputs": [
    {
     "data": {
      "text/plain": "Open the notebook in JupyterLab with the Atoti JupyterLab extension enabled to build this widget.",
      "application/vnd.atoti.widget.v0+json": {
       "sessionId": "1708439267_2LGM71",
       "sessionLocation": {
        "https": false,
        "port": 9092
       },
       "widgetCreationCode": "session.widget"
      }
     },
     "metadata": {},
     "output_type": "display_data"
    }
   ],
   "source": [
    "session.widget"
   ]
  },
  {
   "cell_type": "code",
   "execution_count": 40,
   "id": "679b108a-e6ee-4bb9-ae66-f5503e318520",
   "metadata": {
    "ExecuteTime": {
     "end_time": "2024-02-20T14:27:58.759484Z",
     "start_time": "2024-02-20T14:27:58.753828Z"
    }
   },
   "outputs": [
    {
     "data": {
      "application/vnd.atoti.link.v0+json": {
       "path": "",
       "sessionLocation": {
        "https": false,
        "port": 9092
       }
      },
      "text/markdown": "http://localhost:9092\n\n_Note_: This is the session's local URL: it may not be reachable if Atoti is running on another machine.",
      "text/plain": "http://localhost:9092 (This is the session's local URL: it may not be reachable if Atoti is running on another machine.)"
     },
     "execution_count": 40,
     "metadata": {},
     "output_type": "execute_result"
    }
   ],
   "source": [
    "session.link"
   ]
  },
  {
   "cell_type": "markdown",
   "source": [
    "## What-if Analysis"
   ],
   "metadata": {
    "collapsed": false
   },
   "id": "d6d44dcc28e9d4b6"
  },
  {
   "cell_type": "code",
   "outputs": [],
   "source": [
    "import pandas as pd\n",
    "from sqlalchemy import create_engine"
   ],
   "metadata": {
    "collapsed": false,
    "ExecuteTime": {
     "end_time": "2024-02-20T14:27:58.854207Z",
     "start_time": "2024-02-20T14:27:58.756494Z"
    }
   },
   "id": "85f5820e858f2b68",
   "execution_count": 41
  },
  {
   "cell_type": "code",
   "outputs": [],
   "source": [
    "connection_url = f\"postgresql://{db_user}:{db_password}@{db_host}:{db_port}/{db_name}\"\n",
    "\n",
    "# Create the engine\n",
    "engine = create_engine(connection_url)"
   ],
   "metadata": {
    "collapsed": false,
    "ExecuteTime": {
     "end_time": "2024-02-20T14:27:58.892700Z",
     "start_time": "2024-02-20T14:27:58.827594Z"
    }
   },
   "id": "e886a3678a4f98bf",
   "execution_count": 42
  },
  {
   "cell_type": "code",
   "outputs": [],
   "source": [
    "product_df = pd.read_sql_query(\"SELECT * FROM dimproduct\", engine)"
   ],
   "metadata": {
    "collapsed": false,
    "ExecuteTime": {
     "end_time": "2024-02-20T14:27:58.909027Z",
     "start_time": "2024-02-20T14:27:58.856609Z"
    }
   },
   "id": "8c91d436778af08a",
   "execution_count": 43
  },
  {
   "cell_type": "code",
   "outputs": [
    {
     "data": {
      "text/plain": "   productkey productaltkey               productname  productactualcost  \\\n0           1       ITM-001           Wheat Floor 1kg                5.5   \n1           2       ITM-002           Rice Grains 1kg               22.5   \n2           3       ITM-003       SunFlower Oil 1 ltr               42.0   \n3           4       ITM-004                Nirma Soap               18.0   \n4           5       ITM-005  Arial Washing Powder 1kg              135.0   \n\n   productsalescost  \n0               6.5  \n1              24.0  \n2              43.5  \n3              20.0  \n4             139.0  ",
      "text/html": "<div>\n<style scoped>\n    .dataframe tbody tr th:only-of-type {\n        vertical-align: middle;\n    }\n\n    .dataframe tbody tr th {\n        vertical-align: top;\n    }\n\n    .dataframe thead th {\n        text-align: right;\n    }\n</style>\n<table border=\"1\" class=\"dataframe\">\n  <thead>\n    <tr style=\"text-align: right;\">\n      <th></th>\n      <th>productkey</th>\n      <th>productaltkey</th>\n      <th>productname</th>\n      <th>productactualcost</th>\n      <th>productsalescost</th>\n    </tr>\n  </thead>\n  <tbody>\n    <tr>\n      <th>0</th>\n      <td>1</td>\n      <td>ITM-001</td>\n      <td>Wheat Floor 1kg</td>\n      <td>5.5</td>\n      <td>6.5</td>\n    </tr>\n    <tr>\n      <th>1</th>\n      <td>2</td>\n      <td>ITM-002</td>\n      <td>Rice Grains 1kg</td>\n      <td>22.5</td>\n      <td>24.0</td>\n    </tr>\n    <tr>\n      <th>2</th>\n      <td>3</td>\n      <td>ITM-003</td>\n      <td>SunFlower Oil 1 ltr</td>\n      <td>42.0</td>\n      <td>43.5</td>\n    </tr>\n    <tr>\n      <th>3</th>\n      <td>4</td>\n      <td>ITM-004</td>\n      <td>Nirma Soap</td>\n      <td>18.0</td>\n      <td>20.0</td>\n    </tr>\n    <tr>\n      <th>4</th>\n      <td>5</td>\n      <td>ITM-005</td>\n      <td>Arial Washing Powder 1kg</td>\n      <td>135.0</td>\n      <td>139.0</td>\n    </tr>\n  </tbody>\n</table>\n</div>"
     },
     "execution_count": 44,
     "metadata": {},
     "output_type": "execute_result"
    }
   ],
   "source": [
    "product_df"
   ],
   "metadata": {
    "collapsed": false,
    "ExecuteTime": {
     "end_time": "2024-02-20T14:27:58.911929Z",
     "start_time": "2024-02-20T14:27:58.891630Z"
    }
   },
   "id": "4bdf253b849eee1d",
   "execution_count": 44
  },
  {
   "cell_type": "code",
   "outputs": [],
   "source": [
    "better_actual_cost = {\n",
    "    \"ITM-001\": 4.5,\n",
    "    \"ITM-002\": 10,\n",
    "    \"ITM-003\": 30,\n",
    "    \"ITM-004\": 15,\n",
    "    \"ITM-005\": 135,\n",
    "}"
   ],
   "metadata": {
    "collapsed": false,
    "ExecuteTime": {
     "end_time": "2024-02-20T14:27:58.912698Z",
     "start_time": "2024-02-20T14:27:58.894218Z"
    }
   },
   "id": "f8311b70a085b68e",
   "execution_count": 45
  },
  {
   "cell_type": "code",
   "outputs": [
    {
     "data": {
      "text/plain": "   productkey productaltkey               productname  productactualcost  \\\n0           1       ITM-001           Wheat Floor 1kg                4.5   \n1           2       ITM-002           Rice Grains 1kg               10.0   \n2           3       ITM-003       SunFlower Oil 1 ltr               30.0   \n3           4       ITM-004                Nirma Soap               15.0   \n4           5       ITM-005  Arial Washing Powder 1kg              135.0   \n\n   productsalescost  \n0               6.5  \n1              24.0  \n2              43.5  \n3              20.0  \n4             139.0  ",
      "text/html": "<div>\n<style scoped>\n    .dataframe tbody tr th:only-of-type {\n        vertical-align: middle;\n    }\n\n    .dataframe tbody tr th {\n        vertical-align: top;\n    }\n\n    .dataframe thead th {\n        text-align: right;\n    }\n</style>\n<table border=\"1\" class=\"dataframe\">\n  <thead>\n    <tr style=\"text-align: right;\">\n      <th></th>\n      <th>productkey</th>\n      <th>productaltkey</th>\n      <th>productname</th>\n      <th>productactualcost</th>\n      <th>productsalescost</th>\n    </tr>\n  </thead>\n  <tbody>\n    <tr>\n      <th>0</th>\n      <td>1</td>\n      <td>ITM-001</td>\n      <td>Wheat Floor 1kg</td>\n      <td>4.5</td>\n      <td>6.5</td>\n    </tr>\n    <tr>\n      <th>1</th>\n      <td>2</td>\n      <td>ITM-002</td>\n      <td>Rice Grains 1kg</td>\n      <td>10.0</td>\n      <td>24.0</td>\n    </tr>\n    <tr>\n      <th>2</th>\n      <td>3</td>\n      <td>ITM-003</td>\n      <td>SunFlower Oil 1 ltr</td>\n      <td>30.0</td>\n      <td>43.5</td>\n    </tr>\n    <tr>\n      <th>3</th>\n      <td>4</td>\n      <td>ITM-004</td>\n      <td>Nirma Soap</td>\n      <td>15.0</td>\n      <td>20.0</td>\n    </tr>\n    <tr>\n      <th>4</th>\n      <td>5</td>\n      <td>ITM-005</td>\n      <td>Arial Washing Powder 1kg</td>\n      <td>135.0</td>\n      <td>139.0</td>\n    </tr>\n  </tbody>\n</table>\n</div>"
     },
     "execution_count": 46,
     "metadata": {},
     "output_type": "execute_result"
    }
   ],
   "source": [
    "for product, actual_cost in better_actual_cost.items():\n",
    "    product_df.loc[\n",
    "        product_df[\"productaltkey\"] == product, \"productactualcost\"\n",
    "    ] = actual_cost\n",
    "product_df"
   ],
   "metadata": {
    "collapsed": false,
    "ExecuteTime": {
     "end_time": "2024-02-20T14:27:58.913586Z",
     "start_time": "2024-02-20T14:27:58.899833Z"
    }
   },
   "id": "fdee0fdf92085ef2",
   "execution_count": 46
  },
  {
   "cell_type": "code",
   "outputs": [],
   "source": [
    "product_table.scenarios[\"Lower actual cost\"].load_pandas(product_df)"
   ],
   "metadata": {
    "collapsed": false,
    "ExecuteTime": {
     "end_time": "2024-02-20T14:27:59.091357Z",
     "start_time": "2024-02-20T14:27:58.902378Z"
    }
   },
   "id": "948c8798bc249a8e",
   "execution_count": 47
  }
 ],
 "metadata": {
  "kernelspec": {
   "display_name": "Python 3 (ipykernel)",
   "language": "python",
   "name": "python3"
  },
  "language_info": {
   "codemirror_mode": {
    "name": "ipython",
    "version": 3
   },
   "file_extension": ".py",
   "mimetype": "text/x-python",
   "name": "python",
   "nbconvert_exporter": "python",
   "pygments_lexer": "ipython3",
   "version": "3.10.12"
  }
 },
 "nbformat": 4,
 "nbformat_minor": 5
}
