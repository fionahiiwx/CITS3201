{
 "cells": [
  {
   "cell_type": "markdown",
   "id": "186ceb2ddf615eea",
   "metadata": {
    "collapsed": false,
    "jupyter": {
     "outputs_hidden": false
    }
   },
   "source": [
    "# Cube and Data Warehouse mini Demo\n",
    "This aims to implement a cube and do presentation\n",
    "## Cube"
   ]
  },
  {
   "cell_type": "code",
   "execution_count": 1,
   "id": "initial_id",
   "metadata": {},
   "outputs": [
    {
     "name": "stdout",
     "output_type": "stream",
     "text": [
      "Welcome to Atoti 0.8.10!\n",
      "\n",
      "By using this community edition, you agree with the license available at https://docs.atoti.io/latest/eula.html.\n",
      "Browse the official documentation at https://docs.atoti.io.\n",
      "Join the community at https://www.atoti.io/register.\n",
      "\n",
      "Atoti collects telemetry data, which is used to help understand how to improve the product.\n",
      "If you don't wish to send usage data, you can request a trial license at https://www.atoti.io/evaluation-license-request.\n",
      "\n",
      "You can hide this message by setting the `ATOTI_HIDE_EULA_MESSAGE` environment variable to True.\n"
     ]
    }
   ],
   "source": [
    "import atoti as tt"
   ]
  },
  {
   "cell_type": "code",
   "execution_count": 2,
   "id": "1ce9e2fb78351f0d",
   "metadata": {
    "collapsed": false,
    "jupyter": {
     "outputs_hidden": false
    }
   },
   "outputs": [],
   "source": [
    "session = tt.Session(\n",
    "    user_content_storage=\".content\",\n",
    "    port=9092,\n",
    "    java_options=[\"-Xms1G\", \"-Xmx10G\"]\n",
    ")"
   ]
  },
  {
   "cell_type": "code",
   "execution_count": 3,
   "id": "8d2096c5d9043d33",
   "metadata": {
    "collapsed": false,
    "jupyter": {
     "outputs_hidden": false
    }
   },
   "outputs": [],
   "source": [
    "db_name = \"AdventureworksDWDemo\"\n",
    "db_user = \"postgres\"\n",
    "db_password = \"postgres\"  # Update with your password\n",
    "db_host = \"pgdb\"  # Update if your DB is hosted elsewhere\n",
    "db_port = \"5432\"\n",
    "\n",
    "jdbc_url = f\"jdbc:postgresql://{db_host}:{db_port}/{db_name}?user={db_user}&password={db_password}\""
   ]
  },
  {
   "cell_type": "code",
   "execution_count": 4,
   "id": "b26b1ae1-20b6-4c60-bdf3-4e1c9987cb8f",
   "metadata": {},
   "outputs": [],
   "source": [
    "product_sales_table = session.read_sql(\n",
    "    \"SELECT * FROM factproductsales\",\n",
    "    keys=[\"transactionid\"],\n",
    "    table_name=\"ProductSales\",\n",
    "    url=jdbc_url,\n",
    ")"
   ]
  },
  {
   "cell_type": "code",
   "execution_count": 5,
   "id": "d342d8d3-417b-4f00-81f5-334869f829a1",
   "metadata": {},
   "outputs": [],
   "source": [
    "customer_table = session.read_sql(\n",
    "    \"SELECT * FROM dimcustomer\",\n",
    "    keys=[\"customerid\"],\n",
    "    table_name=\"Customer\",\n",
    "    url=jdbc_url)"
   ]
  },
  {
   "cell_type": "code",
   "execution_count": 6,
   "id": "828e934c-6723-4911-82ec-9759a2fff9fe",
   "metadata": {},
   "outputs": [],
   "source": [
    "product_table = session.read_sql(\n",
    "    \"SELECT * FROM dimproduct\",\n",
    "    keys=[\"productkey\"],\n",
    "    table_name=\"Product\",\n",
    "    url=jdbc_url\n",
    ")"
   ]
  },
  {
   "cell_type": "code",
   "execution_count": 7,
   "id": "47d5d135-02d8-48b0-ba4e-5e00a692cee1",
   "metadata": {},
   "outputs": [],
   "source": [
    "sales_person_table = session.read_sql(\n",
    "    \"SELECT * FROM dimsalesperson\",\n",
    "    keys=[\"salespersonid\"],\n",
    "    table_name=\"SalesPerson\",\n",
    "    url=jdbc_url\n",
    ")"
   ]
  },
  {
   "cell_type": "code",
   "execution_count": 8,
   "id": "fdfcc73e-9d56-4020-bf5f-b1e774c033a9",
   "metadata": {},
   "outputs": [],
   "source": [
    "stores_table = session.read_sql(\n",
    "    \"SELECT * FROM dimstores\",\n",
    "    keys=[\"storeid\"],\n",
    "    table_name=\"Stores\",\n",
    "    url=jdbc_url\n",
    ")"
   ]
  },
  {
   "cell_type": "code",
   "execution_count": 9,
   "id": "e971bb41-0045-4abf-85e0-edb77988bd78",
   "metadata": {},
   "outputs": [
    {
     "data": {
      "text/html": [
       "<div>\n",
       "<style scoped>\n",
       "    .dataframe tbody tr th:only-of-type {\n",
       "        vertical-align: middle;\n",
       "    }\n",
       "\n",
       "    .dataframe tbody tr th {\n",
       "        vertical-align: top;\n",
       "    }\n",
       "\n",
       "    .dataframe thead th {\n",
       "        text-align: right;\n",
       "    }\n",
       "</style>\n",
       "<table border=\"1\" class=\"dataframe\">\n",
       "  <thead>\n",
       "    <tr style=\"text-align: right;\">\n",
       "      <th></th>\n",
       "      <th>salesinvoicenumber</th>\n",
       "      <th>storeid</th>\n",
       "      <th>customerid</th>\n",
       "      <th>productid</th>\n",
       "      <th>salespersonid</th>\n",
       "      <th>quantity</th>\n",
       "      <th>salestotalcost</th>\n",
       "      <th>productactualcost</th>\n",
       "      <th>deviation</th>\n",
       "    </tr>\n",
       "    <tr>\n",
       "      <th>transactionid</th>\n",
       "      <th></th>\n",
       "      <th></th>\n",
       "      <th></th>\n",
       "      <th></th>\n",
       "      <th></th>\n",
       "      <th></th>\n",
       "      <th></th>\n",
       "      <th></th>\n",
       "      <th></th>\n",
       "    </tr>\n",
       "  </thead>\n",
       "  <tbody>\n",
       "    <tr>\n",
       "      <th>9</th>\n",
       "      <td>3</td>\n",
       "      <td>1</td>\n",
       "      <td>3</td>\n",
       "      <td>5</td>\n",
       "      <td>2</td>\n",
       "      <td>1.0</td>\n",
       "      <td>139.0</td>\n",
       "      <td>135.0</td>\n",
       "      <td>4.0</td>\n",
       "    </tr>\n",
       "    <tr>\n",
       "      <th>25</th>\n",
       "      <td>11</td>\n",
       "      <td>2</td>\n",
       "      <td>1</td>\n",
       "      <td>3</td>\n",
       "      <td>3</td>\n",
       "      <td>1.0</td>\n",
       "      <td>43.5</td>\n",
       "      <td>42.0</td>\n",
       "      <td>1.5</td>\n",
       "    </tr>\n",
       "    <tr>\n",
       "      <th>22</th>\n",
       "      <td>10</td>\n",
       "      <td>1</td>\n",
       "      <td>3</td>\n",
       "      <td>1</td>\n",
       "      <td>2</td>\n",
       "      <td>2.0</td>\n",
       "      <td>13.0</td>\n",
       "      <td>11.0</td>\n",
       "      <td>2.0</td>\n",
       "    </tr>\n",
       "    <tr>\n",
       "      <th>10</th>\n",
       "      <td>4</td>\n",
       "      <td>1</td>\n",
       "      <td>1</td>\n",
       "      <td>1</td>\n",
       "      <td>1</td>\n",
       "      <td>2.0</td>\n",
       "      <td>13.0</td>\n",
       "      <td>11.0</td>\n",
       "      <td>2.0</td>\n",
       "    </tr>\n",
       "    <tr>\n",
       "      <th>2</th>\n",
       "      <td>1</td>\n",
       "      <td>1</td>\n",
       "      <td>1</td>\n",
       "      <td>2</td>\n",
       "      <td>1</td>\n",
       "      <td>1.0</td>\n",
       "      <td>24.0</td>\n",
       "      <td>22.5</td>\n",
       "      <td>1.5</td>\n",
       "    </tr>\n",
       "  </tbody>\n",
       "</table>\n",
       "</div>"
      ],
      "text/plain": [
       "               salesinvoicenumber  storeid  customerid  productid  \\\n",
       "transactionid                                                       \n",
       "9                               3        1           3          5   \n",
       "25                             11        2           1          3   \n",
       "22                             10        1           3          1   \n",
       "10                              4        1           1          1   \n",
       "2                               1        1           1          2   \n",
       "\n",
       "               salespersonid  quantity  salestotalcost  productactualcost  \\\n",
       "transactionid                                                               \n",
       "9                          2       1.0           139.0              135.0   \n",
       "25                         3       1.0            43.5               42.0   \n",
       "22                         2       2.0            13.0               11.0   \n",
       "10                         1       2.0            13.0               11.0   \n",
       "2                          1       1.0            24.0               22.5   \n",
       "\n",
       "               deviation  \n",
       "transactionid             \n",
       "9                    4.0  \n",
       "25                   1.5  \n",
       "22                   2.0  \n",
       "10                   2.0  \n",
       "2                    1.5  "
      ]
     },
     "execution_count": 9,
     "metadata": {},
     "output_type": "execute_result"
    }
   ],
   "source": [
    "product_sales_table.head()"
   ]
  },
  {
   "cell_type": "code",
   "execution_count": 10,
   "id": "3bb09fbd-1d25-472b-b5c9-f4ead3f96795",
   "metadata": {},
   "outputs": [],
   "source": [
    "product_sales_table.join(customer_table, product_sales_table[\"customerid\"] == customer_table[\"customerid\"])"
   ]
  },
  {
   "cell_type": "code",
   "execution_count": 11,
   "id": "a2ee4df7-a3ea-4d34-91e9-c83312d48e7e",
   "metadata": {},
   "outputs": [],
   "source": [
    "product_sales_table.join(product_table, product_sales_table[\"productid\"] == product_table[\"productkey\"])"
   ]
  },
  {
   "cell_type": "code",
   "execution_count": 12,
   "id": "99b1cec9-c379-4072-aab8-c94bd3cc7e4a",
   "metadata": {},
   "outputs": [],
   "source": [
    "product_sales_table.join(sales_person_table,\n",
    "                         product_sales_table[\"salespersonid\"] == sales_person_table[\"salespersonid\"])"
   ]
  },
  {
   "cell_type": "code",
   "execution_count": 13,
   "id": "86b33b06-6faf-4951-af83-b8c16ec381e4",
   "metadata": {},
   "outputs": [],
   "source": [
    "product_sales_table.join(stores_table, product_sales_table[\"storeid\"] == stores_table[\"storeid\"])"
   ]
  },
  {
   "cell_type": "code",
   "execution_count": 14,
   "id": "11350840-0849-45ec-9b28-a535b5aa8975",
   "metadata": {},
   "outputs": [
    {
     "data": {
      "text/markdown": [
       "```mermaid\n",
       "erDiagram\n",
       "  \"Customer\" {\n",
       "    _ int PK \"customerid\"\n",
       "    _ String \"customeraltid\"\n",
       "    _ String \"customername\"\n",
       "    _ String \"gender\"\n",
       "  }\n",
       "  \"SalesPerson\" {\n",
       "    _ int PK \"salespersonid\"\n",
       "    _ String \"salespersonaltid\"\n",
       "    _ String \"salespersonname\"\n",
       "    nullable int \"storeid\"\n",
       "    _ String \"city\"\n",
       "    _ String \"state\"\n",
       "    _ String \"country\"\n",
       "  }\n",
       "  \"Product\" {\n",
       "    _ int PK \"productkey\"\n",
       "    _ String \"productaltkey\"\n",
       "    _ String \"productname\"\n",
       "    nullable double \"productactualcost\"\n",
       "    nullable double \"productsalescost\"\n",
       "  }\n",
       "  \"Stores\" {\n",
       "    _ int PK \"storeid\"\n",
       "    _ String \"storealtid\"\n",
       "    _ String \"storename\"\n",
       "    _ String \"storelocation\"\n",
       "    _ String \"city\"\n",
       "    _ String \"state\"\n",
       "    _ String \"country\"\n",
       "  }\n",
       "  \"ProductSales\" {\n",
       "    _ long PK \"transactionid\"\n",
       "    nullable int \"salesinvoicenumber\"\n",
       "    nullable int \"storeid\"\n",
       "    nullable int \"customerid\"\n",
       "    nullable int \"productid\"\n",
       "    nullable int \"salespersonid\"\n",
       "    nullable double \"quantity\"\n",
       "    nullable double \"salestotalcost\"\n",
       "    nullable double \"productactualcost\"\n",
       "    nullable double \"deviation\"\n",
       "  }\n",
       "  \"ProductSales\" }o--o| \"Product\" : \"`productid` == `productkey`\"\n",
       "  \"ProductSales\" }o--o| \"Customer\" : \"`customerid` == `customerid`\"\n",
       "  \"ProductSales\" }o--o| \"SalesPerson\" : \"`salespersonid` == `salespersonid`\"\n",
       "  \"ProductSales\" }o--o| \"Stores\" : \"`storeid` == `storeid`\"\n",
       "```\n"
      ],
      "text/plain": [
       "erDiagram\n",
       "  \"Customer\" {\n",
       "    _ int PK \"customerid\"\n",
       "    _ String \"customeraltid\"\n",
       "    _ String \"customername\"\n",
       "    _ String \"gender\"\n",
       "  }\n",
       "  \"SalesPerson\" {\n",
       "    _ int PK \"salespersonid\"\n",
       "    _ String \"salespersonaltid\"\n",
       "    _ String \"salespersonname\"\n",
       "    nullable int \"storeid\"\n",
       "    _ String \"city\"\n",
       "    _ String \"state\"\n",
       "    _ String \"country\"\n",
       "  }\n",
       "  \"Product\" {\n",
       "    _ int PK \"productkey\"\n",
       "    _ String \"productaltkey\"\n",
       "    _ String \"productname\"\n",
       "    nullable double \"productactualcost\"\n",
       "    nullable double \"productsalescost\"\n",
       "  }\n",
       "  \"Stores\" {\n",
       "    _ int PK \"storeid\"\n",
       "    _ String \"storealtid\"\n",
       "    _ String \"storename\"\n",
       "    _ String \"storelocation\"\n",
       "    _ String \"city\"\n",
       "    _ String \"state\"\n",
       "    _ String \"country\"\n",
       "  }\n",
       "  \"ProductSales\" {\n",
       "    _ long PK \"transactionid\"\n",
       "    nullable int \"salesinvoicenumber\"\n",
       "    nullable int \"storeid\"\n",
       "    nullable int \"customerid\"\n",
       "    nullable int \"productid\"\n",
       "    nullable int \"salespersonid\"\n",
       "    nullable double \"quantity\"\n",
       "    nullable double \"salestotalcost\"\n",
       "    nullable double \"productactualcost\"\n",
       "    nullable double \"deviation\"\n",
       "  }\n",
       "  \"ProductSales\" }o--o| \"Product\" : \"`productid` == `productkey`\"\n",
       "  \"ProductSales\" }o--o| \"Customer\" : \"`customerid` == `customerid`\"\n",
       "  \"ProductSales\" }o--o| \"SalesPerson\" : \"`salespersonid` == `salespersonid`\"\n",
       "  \"ProductSales\" }o--o| \"Stores\" : \"`storeid` == `storeid`\""
      ]
     },
     "execution_count": 14,
     "metadata": {},
     "output_type": "execute_result"
    }
   ],
   "source": [
    "session.tables.schema"
   ]
  },
  {
   "cell_type": "code",
   "execution_count": 15,
   "id": "cef318a0-52c2-4c1a-a1c0-295b966aa4cf",
   "metadata": {},
   "outputs": [],
   "source": [
    "cube = session.create_cube(product_sales_table)"
   ]
  },
  {
   "cell_type": "code",
   "execution_count": 16,
   "id": "16e2c037-0119-4732-b927-df06479addd9",
   "metadata": {},
   "outputs": [
    {
     "data": {
      "application/json": {
       "Dimensions": {
        "Customer": {
         "customeraltid": [
          "customeraltid"
         ],
         "customername": [
          "customername"
         ],
         "gender": [
          "gender"
         ]
        },
        "Product": {
         "productaltkey": [
          "productaltkey"
         ],
         "productname": [
          "productname"
         ]
        },
        "ProductSales": {
         "transactionid": [
          "transactionid"
         ]
        },
        "SalesPerson": {
         "city": [
          "city"
         ],
         "country": [
          "country"
         ],
         "salespersonaltid": [
          "salespersonaltid"
         ],
         "salespersonname": [
          "salespersonname"
         ],
         "state": [
          "state"
         ]
        },
        "Stores": {
         "city": [
          "city"
         ],
         "country": [
          "country"
         ],
         "state": [
          "state"
         ],
         "storealtid": [
          "storealtid"
         ],
         "storelocation": [
          "storelocation"
         ],
         "storename": [
          "storename"
         ]
        }
       },
       "Measures": {
        "contributors.COUNT": {
         "formatter": "INT[#,###]"
        },
        "customerid.MEAN": {
         "formatter": "DOUBLE[#,###.00]"
        },
        "customerid.SUM": {
         "formatter": "INT[#,###]"
        },
        "deviation.MEAN": {
         "formatter": "DOUBLE[#,###.00]"
        },
        "deviation.SUM": {
         "formatter": "DOUBLE[#,###.00]"
        },
        "productactualcost.MEAN": {
         "formatter": "DOUBLE[#,###.00]"
        },
        "productactualcost.SUM": {
         "formatter": "DOUBLE[#,###.00]"
        },
        "productid.MEAN": {
         "formatter": "DOUBLE[#,###.00]"
        },
        "productid.SUM": {
         "formatter": "INT[#,###]"
        },
        "quantity.MEAN": {
         "formatter": "DOUBLE[#,###.00]"
        },
        "quantity.SUM": {
         "formatter": "DOUBLE[#,###.00]"
        },
        "salesinvoicenumber.MEAN": {
         "formatter": "DOUBLE[#,###.00]"
        },
        "salesinvoicenumber.SUM": {
         "formatter": "INT[#,###]"
        },
        "salespersonid.MEAN": {
         "formatter": "DOUBLE[#,###.00]"
        },
        "salespersonid.SUM": {
         "formatter": "INT[#,###]"
        },
        "salestotalcost.MEAN": {
         "formatter": "DOUBLE[#,###.00]"
        },
        "salestotalcost.SUM": {
         "formatter": "DOUBLE[#,###.00]"
        },
        "storeid.MEAN": {
         "formatter": "DOUBLE[#,###.00]"
        },
        "storeid.SUM": {
         "formatter": "INT[#,###]"
        }
       }
      },
      "text/html": [
       "<ul>\n",
       "<li>ProductSales\n",
       "  <ul>\n",
       "  <li>Dimensions\n",
       "    <ul>\n",
       "    <li>Customer\n",
       "      <ul>\n",
       "      <li>customeraltid\n",
       "        <ol>\n",
       "        <li>customeraltid</li>\n",
       "        </ol>      </li>\n",
       "      <li>customername\n",
       "        <ol>\n",
       "        <li>customername</li>\n",
       "        </ol>      </li>\n",
       "      <li>gender\n",
       "        <ol>\n",
       "        <li>gender</li>\n",
       "        </ol>      </li>\n",
       "      </ul>\n",
       "    </li>\n",
       "    <li>Product\n",
       "      <ul>\n",
       "      <li>productaltkey\n",
       "        <ol>\n",
       "        <li>productaltkey</li>\n",
       "        </ol>      </li>\n",
       "      <li>productname\n",
       "        <ol>\n",
       "        <li>productname</li>\n",
       "        </ol>      </li>\n",
       "      </ul>\n",
       "    </li>\n",
       "    <li>ProductSales\n",
       "      <ul>\n",
       "      <li>transactionid\n",
       "        <ol>\n",
       "        <li>transactionid</li>\n",
       "        </ol>      </li>\n",
       "      </ul>\n",
       "    </li>\n",
       "    <li>SalesPerson\n",
       "      <ul>\n",
       "      <li>city\n",
       "        <ol>\n",
       "        <li>city</li>\n",
       "        </ol>      </li>\n",
       "      <li>country\n",
       "        <ol>\n",
       "        <li>country</li>\n",
       "        </ol>      </li>\n",
       "      <li>salespersonaltid\n",
       "        <ol>\n",
       "        <li>salespersonaltid</li>\n",
       "        </ol>      </li>\n",
       "      <li>salespersonname\n",
       "        <ol>\n",
       "        <li>salespersonname</li>\n",
       "        </ol>      </li>\n",
       "      <li>state\n",
       "        <ol>\n",
       "        <li>state</li>\n",
       "        </ol>      </li>\n",
       "      </ul>\n",
       "    </li>\n",
       "    <li>Stores\n",
       "      <ul>\n",
       "      <li>city\n",
       "        <ol>\n",
       "        <li>city</li>\n",
       "        </ol>      </li>\n",
       "      <li>country\n",
       "        <ol>\n",
       "        <li>country</li>\n",
       "        </ol>      </li>\n",
       "      <li>state\n",
       "        <ol>\n",
       "        <li>state</li>\n",
       "        </ol>      </li>\n",
       "      <li>storealtid\n",
       "        <ol>\n",
       "        <li>storealtid</li>\n",
       "        </ol>      </li>\n",
       "      <li>storelocation\n",
       "        <ol>\n",
       "        <li>storelocation</li>\n",
       "        </ol>      </li>\n",
       "      <li>storename\n",
       "        <ol>\n",
       "        <li>storename</li>\n",
       "        </ol>      </li>\n",
       "      </ul>\n",
       "    </li>\n",
       "    </ul>\n",
       "  </li>\n",
       "  <li>Measures\n",
       "    <ul>\n",
       "    <li>contributors.COUNT\n",
       "      <ul>\n",
       "      <li>formatter: INT[#,###]</li>\n",
       "      </ul>\n",
       "    </li>\n",
       "    <li>customerid.MEAN\n",
       "      <ul>\n",
       "      <li>formatter: DOUBLE[#,###.00]</li>\n",
       "      </ul>\n",
       "    </li>\n",
       "    <li>customerid.SUM\n",
       "      <ul>\n",
       "      <li>formatter: INT[#,###]</li>\n",
       "      </ul>\n",
       "    </li>\n",
       "    <li>deviation.MEAN\n",
       "      <ul>\n",
       "      <li>formatter: DOUBLE[#,###.00]</li>\n",
       "      </ul>\n",
       "    </li>\n",
       "    <li>deviation.SUM\n",
       "      <ul>\n",
       "      <li>formatter: DOUBLE[#,###.00]</li>\n",
       "      </ul>\n",
       "    </li>\n",
       "    <li>productactualcost.MEAN\n",
       "      <ul>\n",
       "      <li>formatter: DOUBLE[#,###.00]</li>\n",
       "      </ul>\n",
       "    </li>\n",
       "    <li>productactualcost.SUM\n",
       "      <ul>\n",
       "      <li>formatter: DOUBLE[#,###.00]</li>\n",
       "      </ul>\n",
       "    </li>\n",
       "    <li>productid.MEAN\n",
       "      <ul>\n",
       "      <li>formatter: DOUBLE[#,###.00]</li>\n",
       "      </ul>\n",
       "    </li>\n",
       "    <li>productid.SUM\n",
       "      <ul>\n",
       "      <li>formatter: INT[#,###]</li>\n",
       "      </ul>\n",
       "    </li>\n",
       "    <li>quantity.MEAN\n",
       "      <ul>\n",
       "      <li>formatter: DOUBLE[#,###.00]</li>\n",
       "      </ul>\n",
       "    </li>\n",
       "    <li>quantity.SUM\n",
       "      <ul>\n",
       "      <li>formatter: DOUBLE[#,###.00]</li>\n",
       "      </ul>\n",
       "    </li>\n",
       "    <li>salesinvoicenumber.MEAN\n",
       "      <ul>\n",
       "      <li>formatter: DOUBLE[#,###.00]</li>\n",
       "      </ul>\n",
       "    </li>\n",
       "    <li>salesinvoicenumber.SUM\n",
       "      <ul>\n",
       "      <li>formatter: INT[#,###]</li>\n",
       "      </ul>\n",
       "    </li>\n",
       "    <li>salespersonid.MEAN\n",
       "      <ul>\n",
       "      <li>formatter: DOUBLE[#,###.00]</li>\n",
       "      </ul>\n",
       "    </li>\n",
       "    <li>salespersonid.SUM\n",
       "      <ul>\n",
       "      <li>formatter: INT[#,###]</li>\n",
       "      </ul>\n",
       "    </li>\n",
       "    <li>salestotalcost.MEAN\n",
       "      <ul>\n",
       "      <li>formatter: DOUBLE[#,###.00]</li>\n",
       "      </ul>\n",
       "    </li>\n",
       "    <li>salestotalcost.SUM\n",
       "      <ul>\n",
       "      <li>formatter: DOUBLE[#,###.00]</li>\n",
       "      </ul>\n",
       "    </li>\n",
       "    <li>storeid.MEAN\n",
       "      <ul>\n",
       "      <li>formatter: DOUBLE[#,###.00]</li>\n",
       "      </ul>\n",
       "    </li>\n",
       "    <li>storeid.SUM\n",
       "      <ul>\n",
       "      <li>formatter: INT[#,###]</li>\n",
       "      </ul>\n",
       "    </li>\n",
       "    </ul>\n",
       "  </li>\n",
       "  </ul>\n",
       "</li>\n",
       "</ul>\n"
      ],
      "text/plain": [
       "<atoti.cube.Cube at 0x7f967c77b510>"
      ]
     },
     "execution_count": 16,
     "metadata": {
      "application/json": {
       "expanded": false,
       "root": "ProductSales"
      }
     },
     "output_type": "execute_result"
    }
   ],
   "source": [
    "cube"
   ]
  },
  {
   "cell_type": "code",
   "execution_count": 17,
   "id": "6cf0fe21-c3fb-4b65-9965-065de9277395",
   "metadata": {},
   "outputs": [],
   "source": [
    "hierarchies, levels, measures = cube.hierarchies, cube.levels, cube.measures"
   ]
  },
  {
   "cell_type": "code",
   "execution_count": 18,
   "id": "e619517c-2f79-4169-b201-64fbff5d418e",
   "metadata": {},
   "outputs": [
    {
     "data": {
      "application/json": {
       "Customer": {
        "customeraltid": [
         "customeraltid"
        ],
        "customername": [
         "customername"
        ],
        "gender": [
         "gender"
        ]
       },
       "Product": {
        "productaltkey": [
         "productaltkey"
        ],
        "productname": [
         "productname"
        ]
       },
       "ProductSales": {
        "transactionid": [
         "transactionid"
        ]
       },
       "SalesPerson": {
        "city": [
         "city"
        ],
        "country": [
         "country"
        ],
        "salespersonaltid": [
         "salespersonaltid"
        ],
        "salespersonname": [
         "salespersonname"
        ],
        "state": [
         "state"
        ]
       },
       "Stores": {
        "city": [
         "city"
        ],
        "country": [
         "country"
        ],
        "state": [
         "state"
        ],
        "storealtid": [
         "storealtid"
        ],
        "storelocation": [
         "storelocation"
        ],
        "storename": [
         "storename"
        ]
       }
      },
      "text/html": [
       "<ul>\n",
       "<li>Dimensions\n",
       "  <ul>\n",
       "  <li>Customer\n",
       "    <ul>\n",
       "    <li>customeraltid\n",
       "      <ol>\n",
       "      <li>customeraltid</li>\n",
       "      </ol>    </li>\n",
       "    <li>customername\n",
       "      <ol>\n",
       "      <li>customername</li>\n",
       "      </ol>    </li>\n",
       "    <li>gender\n",
       "      <ol>\n",
       "      <li>gender</li>\n",
       "      </ol>    </li>\n",
       "    </ul>\n",
       "  </li>\n",
       "  <li>Product\n",
       "    <ul>\n",
       "    <li>productaltkey\n",
       "      <ol>\n",
       "      <li>productaltkey</li>\n",
       "      </ol>    </li>\n",
       "    <li>productname\n",
       "      <ol>\n",
       "      <li>productname</li>\n",
       "      </ol>    </li>\n",
       "    </ul>\n",
       "  </li>\n",
       "  <li>ProductSales\n",
       "    <ul>\n",
       "    <li>transactionid\n",
       "      <ol>\n",
       "      <li>transactionid</li>\n",
       "      </ol>    </li>\n",
       "    </ul>\n",
       "  </li>\n",
       "  <li>SalesPerson\n",
       "    <ul>\n",
       "    <li>city\n",
       "      <ol>\n",
       "      <li>city</li>\n",
       "      </ol>    </li>\n",
       "    <li>country\n",
       "      <ol>\n",
       "      <li>country</li>\n",
       "      </ol>    </li>\n",
       "    <li>salespersonaltid\n",
       "      <ol>\n",
       "      <li>salespersonaltid</li>\n",
       "      </ol>    </li>\n",
       "    <li>salespersonname\n",
       "      <ol>\n",
       "      <li>salespersonname</li>\n",
       "      </ol>    </li>\n",
       "    <li>state\n",
       "      <ol>\n",
       "      <li>state</li>\n",
       "      </ol>    </li>\n",
       "    </ul>\n",
       "  </li>\n",
       "  <li>Stores\n",
       "    <ul>\n",
       "    <li>city\n",
       "      <ol>\n",
       "      <li>city</li>\n",
       "      </ol>    </li>\n",
       "    <li>country\n",
       "      <ol>\n",
       "      <li>country</li>\n",
       "      </ol>    </li>\n",
       "    <li>state\n",
       "      <ol>\n",
       "      <li>state</li>\n",
       "      </ol>    </li>\n",
       "    <li>storealtid\n",
       "      <ol>\n",
       "      <li>storealtid</li>\n",
       "      </ol>    </li>\n",
       "    <li>storelocation\n",
       "      <ol>\n",
       "      <li>storelocation</li>\n",
       "      </ol>    </li>\n",
       "    <li>storename\n",
       "      <ol>\n",
       "      <li>storename</li>\n",
       "      </ol>    </li>\n",
       "    </ul>\n",
       "  </li>\n",
       "  </ul>\n",
       "</li>\n",
       "</ul>\n"
      ],
      "text/plain": [
       "{('Stores', 'storename'): <atoti.hierarchy.Hierarchy object at 0x7f967c768ed0>, ('Stores', 'state'): <atoti.hierarchy.Hierarchy object at 0x7f967c7a4590>, ('Product', 'productname'): <atoti.hierarchy.Hierarchy object at 0x7f967c7a46d0>, ('SalesPerson', 'city'): <atoti.hierarchy.Hierarchy object at 0x7f967c7a4810>, ('Product', 'productaltkey'): <atoti.hierarchy.Hierarchy object at 0x7f967c7a4950>, ('SalesPerson', 'salespersonaltid'): <atoti.hierarchy.Hierarchy object at 0x7f967c7a4a90>, ('Stores', 'storealtid'): <atoti.hierarchy.Hierarchy object at 0x7f967c7a4bd0>, ('Stores', 'city'): <atoti.hierarchy.Hierarchy object at 0x7f967c7a4d10>, ('ProductSales', 'transactionid'): <atoti.hierarchy.Hierarchy object at 0x7f967c7a4e50>, ('Customer', 'customername'): <atoti.hierarchy.Hierarchy object at 0x7f967c7a4f90>, ('SalesPerson', 'salespersonname'): <atoti.hierarchy.Hierarchy object at 0x7f967c7a50d0>, ('SalesPerson', 'country'): <atoti.hierarchy.Hierarchy object at 0x7f967c7a5210>, ('Customer', 'customeraltid'): <atoti.hierarchy.Hierarchy object at 0x7f967c7a5350>, ('Stores', 'storelocation'): <atoti.hierarchy.Hierarchy object at 0x7f967c7a5490>, ('SalesPerson', 'state'): <atoti.hierarchy.Hierarchy object at 0x7f967c7a55d0>, ('Stores', 'country'): <atoti.hierarchy.Hierarchy object at 0x7f967c7a5710>, ('Customer', 'gender'): <atoti.hierarchy.Hierarchy object at 0x7f967c7a5850>}"
      ]
     },
     "execution_count": 18,
     "metadata": {
      "application/json": {
       "expanded": true,
       "root": "Dimensions"
      }
     },
     "output_type": "execute_result"
    }
   ],
   "source": [
    "# original hierarchies\n",
    "hierarchies"
   ]
  },
  {
   "cell_type": "code",
   "execution_count": 19,
   "id": "dd91e63e-43f5-46bf-8e0d-8da58157f852",
   "metadata": {},
   "outputs": [
    {
     "data": {
      "application/json": {
       "city (SalesPerson/city/city)": {
        "dimension": "SalesPerson",
        "hierarchy": "city",
        "order": "NaturalOrder",
        "type": "String"
       },
       "city (Stores/city/city)": {
        "dimension": "Stores",
        "hierarchy": "city",
        "order": "NaturalOrder",
        "type": "String"
       },
       "country (SalesPerson/country/country)": {
        "dimension": "SalesPerson",
        "hierarchy": "country",
        "order": "NaturalOrder",
        "type": "String"
       },
       "country (Stores/country/country)": {
        "dimension": "Stores",
        "hierarchy": "country",
        "order": "NaturalOrder",
        "type": "String"
       },
       "customeraltid (Customer/customeraltid/customeraltid)": {
        "dimension": "Customer",
        "hierarchy": "customeraltid",
        "order": "NaturalOrder",
        "type": "String"
       },
       "customername (Customer/customername/customername)": {
        "dimension": "Customer",
        "hierarchy": "customername",
        "order": "NaturalOrder",
        "type": "String"
       },
       "gender (Customer/gender/gender)": {
        "dimension": "Customer",
        "hierarchy": "gender",
        "order": "NaturalOrder",
        "type": "String"
       },
       "productaltkey (Product/productaltkey/productaltkey)": {
        "dimension": "Product",
        "hierarchy": "productaltkey",
        "order": "NaturalOrder",
        "type": "String"
       },
       "productname (Product/productname/productname)": {
        "dimension": "Product",
        "hierarchy": "productname",
        "order": "NaturalOrder",
        "type": "String"
       },
       "salespersonaltid (SalesPerson/salespersonaltid/salespersonaltid)": {
        "dimension": "SalesPerson",
        "hierarchy": "salespersonaltid",
        "order": "NaturalOrder",
        "type": "String"
       },
       "salespersonname (SalesPerson/salespersonname/salespersonname)": {
        "dimension": "SalesPerson",
        "hierarchy": "salespersonname",
        "order": "NaturalOrder",
        "type": "String"
       },
       "state (SalesPerson/state/state)": {
        "dimension": "SalesPerson",
        "hierarchy": "state",
        "order": "NaturalOrder",
        "type": "String"
       },
       "state (Stores/state/state)": {
        "dimension": "Stores",
        "hierarchy": "state",
        "order": "NaturalOrder",
        "type": "String"
       },
       "storealtid (Stores/storealtid/storealtid)": {
        "dimension": "Stores",
        "hierarchy": "storealtid",
        "order": "NaturalOrder",
        "type": "String"
       },
       "storelocation (Stores/storelocation/storelocation)": {
        "dimension": "Stores",
        "hierarchy": "storelocation",
        "order": "NaturalOrder",
        "type": "String"
       },
       "storename (Stores/storename/storename)": {
        "dimension": "Stores",
        "hierarchy": "storename",
        "order": "NaturalOrder",
        "type": "String"
       },
       "transactionid (ProductSales/transactionid/transactionid)": {
        "dimension": "ProductSales",
        "hierarchy": "transactionid",
        "order": "NaturalOrder",
        "type": "long"
       }
      },
      "text/html": [
       "<ul>\n",
       "<li>Levels\n",
       "  <ul>\n",
       "  <li>city (SalesPerson/city/city)\n",
       "    <ul>\n",
       "    <li>dimension: SalesPerson</li>\n",
       "    <li>hierarchy: city</li>\n",
       "    <li>type: String</li>\n",
       "    <li>order: NaturalOrder</li>\n",
       "    </ul>\n",
       "  </li>\n",
       "  <li>city (Stores/city/city)\n",
       "    <ul>\n",
       "    <li>dimension: Stores</li>\n",
       "    <li>hierarchy: city</li>\n",
       "    <li>type: String</li>\n",
       "    <li>order: NaturalOrder</li>\n",
       "    </ul>\n",
       "  </li>\n",
       "  <li>country (SalesPerson/country/country)\n",
       "    <ul>\n",
       "    <li>dimension: SalesPerson</li>\n",
       "    <li>hierarchy: country</li>\n",
       "    <li>type: String</li>\n",
       "    <li>order: NaturalOrder</li>\n",
       "    </ul>\n",
       "  </li>\n",
       "  <li>country (Stores/country/country)\n",
       "    <ul>\n",
       "    <li>dimension: Stores</li>\n",
       "    <li>hierarchy: country</li>\n",
       "    <li>type: String</li>\n",
       "    <li>order: NaturalOrder</li>\n",
       "    </ul>\n",
       "  </li>\n",
       "  <li>customeraltid (Customer/customeraltid/customeraltid)\n",
       "    <ul>\n",
       "    <li>dimension: Customer</li>\n",
       "    <li>hierarchy: customeraltid</li>\n",
       "    <li>type: String</li>\n",
       "    <li>order: NaturalOrder</li>\n",
       "    </ul>\n",
       "  </li>\n",
       "  <li>customername (Customer/customername/customername)\n",
       "    <ul>\n",
       "    <li>dimension: Customer</li>\n",
       "    <li>hierarchy: customername</li>\n",
       "    <li>type: String</li>\n",
       "    <li>order: NaturalOrder</li>\n",
       "    </ul>\n",
       "  </li>\n",
       "  <li>gender (Customer/gender/gender)\n",
       "    <ul>\n",
       "    <li>dimension: Customer</li>\n",
       "    <li>hierarchy: gender</li>\n",
       "    <li>type: String</li>\n",
       "    <li>order: NaturalOrder</li>\n",
       "    </ul>\n",
       "  </li>\n",
       "  <li>productaltkey (Product/productaltkey/productaltkey)\n",
       "    <ul>\n",
       "    <li>dimension: Product</li>\n",
       "    <li>hierarchy: productaltkey</li>\n",
       "    <li>type: String</li>\n",
       "    <li>order: NaturalOrder</li>\n",
       "    </ul>\n",
       "  </li>\n",
       "  <li>productname (Product/productname/productname)\n",
       "    <ul>\n",
       "    <li>dimension: Product</li>\n",
       "    <li>hierarchy: productname</li>\n",
       "    <li>type: String</li>\n",
       "    <li>order: NaturalOrder</li>\n",
       "    </ul>\n",
       "  </li>\n",
       "  <li>salespersonaltid (SalesPerson/salespersonaltid/salespersonaltid)\n",
       "    <ul>\n",
       "    <li>dimension: SalesPerson</li>\n",
       "    <li>hierarchy: salespersonaltid</li>\n",
       "    <li>type: String</li>\n",
       "    <li>order: NaturalOrder</li>\n",
       "    </ul>\n",
       "  </li>\n",
       "  <li>salespersonname (SalesPerson/salespersonname/salespersonname)\n",
       "    <ul>\n",
       "    <li>dimension: SalesPerson</li>\n",
       "    <li>hierarchy: salespersonname</li>\n",
       "    <li>type: String</li>\n",
       "    <li>order: NaturalOrder</li>\n",
       "    </ul>\n",
       "  </li>\n",
       "  <li>state (SalesPerson/state/state)\n",
       "    <ul>\n",
       "    <li>dimension: SalesPerson</li>\n",
       "    <li>hierarchy: state</li>\n",
       "    <li>type: String</li>\n",
       "    <li>order: NaturalOrder</li>\n",
       "    </ul>\n",
       "  </li>\n",
       "  <li>state (Stores/state/state)\n",
       "    <ul>\n",
       "    <li>dimension: Stores</li>\n",
       "    <li>hierarchy: state</li>\n",
       "    <li>type: String</li>\n",
       "    <li>order: NaturalOrder</li>\n",
       "    </ul>\n",
       "  </li>\n",
       "  <li>storealtid (Stores/storealtid/storealtid)\n",
       "    <ul>\n",
       "    <li>dimension: Stores</li>\n",
       "    <li>hierarchy: storealtid</li>\n",
       "    <li>type: String</li>\n",
       "    <li>order: NaturalOrder</li>\n",
       "    </ul>\n",
       "  </li>\n",
       "  <li>storelocation (Stores/storelocation/storelocation)\n",
       "    <ul>\n",
       "    <li>dimension: Stores</li>\n",
       "    <li>hierarchy: storelocation</li>\n",
       "    <li>type: String</li>\n",
       "    <li>order: NaturalOrder</li>\n",
       "    </ul>\n",
       "  </li>\n",
       "  <li>storename (Stores/storename/storename)\n",
       "    <ul>\n",
       "    <li>dimension: Stores</li>\n",
       "    <li>hierarchy: storename</li>\n",
       "    <li>type: String</li>\n",
       "    <li>order: NaturalOrder</li>\n",
       "    </ul>\n",
       "  </li>\n",
       "  <li>transactionid (ProductSales/transactionid/transactionid)\n",
       "    <ul>\n",
       "    <li>dimension: ProductSales</li>\n",
       "    <li>hierarchy: transactionid</li>\n",
       "    <li>type: long</li>\n",
       "    <li>order: NaturalOrder</li>\n",
       "    </ul>\n",
       "  </li>\n",
       "  </ul>\n",
       "</li>\n",
       "</ul>\n"
      ],
      "text/plain": [
       "<atoti.levels.Levels at 0x7f967c779710>"
      ]
     },
     "execution_count": 19,
     "metadata": {
      "application/json": {
       "expanded": true,
       "root": "Levels"
      }
     },
     "output_type": "execute_result"
    }
   ],
   "source": [
    "# original levels\n",
    "levels"
   ]
  },
  {
   "cell_type": "code",
   "execution_count": 20,
   "id": "8b013aca-3857-4909-a210-7d7401a55bd0",
   "metadata": {},
   "outputs": [
    {
     "data": {
      "application/json": {
       "city (SalesPerson/city/city)": {
        "dimension": "SalesPerson",
        "hierarchy": "city",
        "order": "NaturalOrder",
        "type": "String"
       },
       "city (Stores/city/city)": {
        "dimension": "Stores",
        "hierarchy": "city",
        "order": "NaturalOrder",
        "type": "String"
       },
       "country (SalesPerson/country/country)": {
        "dimension": "SalesPerson",
        "hierarchy": "country",
        "order": "NaturalOrder",
        "type": "String"
       },
       "country (Stores/country/country)": {
        "dimension": "Stores",
        "hierarchy": "country",
        "order": "NaturalOrder",
        "type": "String"
       },
       "customeraltid (Customer/customeraltid/customeraltid)": {
        "dimension": "Customer",
        "hierarchy": "customeraltid",
        "order": "NaturalOrder",
        "type": "String"
       },
       "customername (Customer/customername/customername)": {
        "dimension": "Customer",
        "hierarchy": "customername",
        "order": "NaturalOrder",
        "type": "String"
       },
       "gender (Customer/gender/gender)": {
        "dimension": "Customer",
        "hierarchy": "gender",
        "order": "NaturalOrder",
        "type": "String"
       },
       "productaltkey (Product/productaltkey/productaltkey)": {
        "dimension": "Product",
        "hierarchy": "productaltkey",
        "order": "NaturalOrder",
        "type": "String"
       },
       "productname (Product/productname/productname)": {
        "dimension": "Product",
        "hierarchy": "productname",
        "order": "NaturalOrder",
        "type": "String"
       },
       "salespersonaltid (SalesPerson/salespersonaltid/salespersonaltid)": {
        "dimension": "SalesPerson",
        "hierarchy": "salespersonaltid",
        "order": "NaturalOrder",
        "type": "String"
       },
       "salespersonname (SalesPerson/salespersonname/salespersonname)": {
        "dimension": "SalesPerson",
        "hierarchy": "salespersonname",
        "order": "NaturalOrder",
        "type": "String"
       },
       "state (SalesPerson/state/state)": {
        "dimension": "SalesPerson",
        "hierarchy": "state",
        "order": "NaturalOrder",
        "type": "String"
       },
       "state (Stores/state/state)": {
        "dimension": "Stores",
        "hierarchy": "state",
        "order": "NaturalOrder",
        "type": "String"
       },
       "storealtid (Stores/storealtid/storealtid)": {
        "dimension": "Stores",
        "hierarchy": "storealtid",
        "order": "NaturalOrder",
        "type": "String"
       },
       "storelocation (Stores/storelocation/storelocation)": {
        "dimension": "Stores",
        "hierarchy": "storelocation",
        "order": "NaturalOrder",
        "type": "String"
       },
       "storename (Stores/storename/storename)": {
        "dimension": "Stores",
        "hierarchy": "storename",
        "order": "NaturalOrder",
        "type": "String"
       },
       "transactionid (ProductSales/transactionid/transactionid)": {
        "dimension": "ProductSales",
        "hierarchy": "transactionid",
        "order": "NaturalOrder",
        "type": "long"
       }
      },
      "text/html": [
       "<ul>\n",
       "<li>Levels\n",
       "  <ul>\n",
       "  <li>city (SalesPerson/city/city)\n",
       "    <ul>\n",
       "    <li>dimension: SalesPerson</li>\n",
       "    <li>hierarchy: city</li>\n",
       "    <li>type: String</li>\n",
       "    <li>order: NaturalOrder</li>\n",
       "    </ul>\n",
       "  </li>\n",
       "  <li>city (Stores/city/city)\n",
       "    <ul>\n",
       "    <li>dimension: Stores</li>\n",
       "    <li>hierarchy: city</li>\n",
       "    <li>type: String</li>\n",
       "    <li>order: NaturalOrder</li>\n",
       "    </ul>\n",
       "  </li>\n",
       "  <li>country (SalesPerson/country/country)\n",
       "    <ul>\n",
       "    <li>dimension: SalesPerson</li>\n",
       "    <li>hierarchy: country</li>\n",
       "    <li>type: String</li>\n",
       "    <li>order: NaturalOrder</li>\n",
       "    </ul>\n",
       "  </li>\n",
       "  <li>country (Stores/country/country)\n",
       "    <ul>\n",
       "    <li>dimension: Stores</li>\n",
       "    <li>hierarchy: country</li>\n",
       "    <li>type: String</li>\n",
       "    <li>order: NaturalOrder</li>\n",
       "    </ul>\n",
       "  </li>\n",
       "  <li>customeraltid (Customer/customeraltid/customeraltid)\n",
       "    <ul>\n",
       "    <li>dimension: Customer</li>\n",
       "    <li>hierarchy: customeraltid</li>\n",
       "    <li>type: String</li>\n",
       "    <li>order: NaturalOrder</li>\n",
       "    </ul>\n",
       "  </li>\n",
       "  <li>customername (Customer/customername/customername)\n",
       "    <ul>\n",
       "    <li>dimension: Customer</li>\n",
       "    <li>hierarchy: customername</li>\n",
       "    <li>type: String</li>\n",
       "    <li>order: NaturalOrder</li>\n",
       "    </ul>\n",
       "  </li>\n",
       "  <li>gender (Customer/gender/gender)\n",
       "    <ul>\n",
       "    <li>dimension: Customer</li>\n",
       "    <li>hierarchy: gender</li>\n",
       "    <li>type: String</li>\n",
       "    <li>order: NaturalOrder</li>\n",
       "    </ul>\n",
       "  </li>\n",
       "  <li>productaltkey (Product/productaltkey/productaltkey)\n",
       "    <ul>\n",
       "    <li>dimension: Product</li>\n",
       "    <li>hierarchy: productaltkey</li>\n",
       "    <li>type: String</li>\n",
       "    <li>order: NaturalOrder</li>\n",
       "    </ul>\n",
       "  </li>\n",
       "  <li>productname (Product/productname/productname)\n",
       "    <ul>\n",
       "    <li>dimension: Product</li>\n",
       "    <li>hierarchy: productname</li>\n",
       "    <li>type: String</li>\n",
       "    <li>order: NaturalOrder</li>\n",
       "    </ul>\n",
       "  </li>\n",
       "  <li>salespersonaltid (SalesPerson/salespersonaltid/salespersonaltid)\n",
       "    <ul>\n",
       "    <li>dimension: SalesPerson</li>\n",
       "    <li>hierarchy: salespersonaltid</li>\n",
       "    <li>type: String</li>\n",
       "    <li>order: NaturalOrder</li>\n",
       "    </ul>\n",
       "  </li>\n",
       "  <li>salespersonname (SalesPerson/salespersonname/salespersonname)\n",
       "    <ul>\n",
       "    <li>dimension: SalesPerson</li>\n",
       "    <li>hierarchy: salespersonname</li>\n",
       "    <li>type: String</li>\n",
       "    <li>order: NaturalOrder</li>\n",
       "    </ul>\n",
       "  </li>\n",
       "  <li>state (SalesPerson/state/state)\n",
       "    <ul>\n",
       "    <li>dimension: SalesPerson</li>\n",
       "    <li>hierarchy: state</li>\n",
       "    <li>type: String</li>\n",
       "    <li>order: NaturalOrder</li>\n",
       "    </ul>\n",
       "  </li>\n",
       "  <li>state (Stores/state/state)\n",
       "    <ul>\n",
       "    <li>dimension: Stores</li>\n",
       "    <li>hierarchy: state</li>\n",
       "    <li>type: String</li>\n",
       "    <li>order: NaturalOrder</li>\n",
       "    </ul>\n",
       "  </li>\n",
       "  <li>storealtid (Stores/storealtid/storealtid)\n",
       "    <ul>\n",
       "    <li>dimension: Stores</li>\n",
       "    <li>hierarchy: storealtid</li>\n",
       "    <li>type: String</li>\n",
       "    <li>order: NaturalOrder</li>\n",
       "    </ul>\n",
       "  </li>\n",
       "  <li>storelocation (Stores/storelocation/storelocation)\n",
       "    <ul>\n",
       "    <li>dimension: Stores</li>\n",
       "    <li>hierarchy: storelocation</li>\n",
       "    <li>type: String</li>\n",
       "    <li>order: NaturalOrder</li>\n",
       "    </ul>\n",
       "  </li>\n",
       "  <li>storename (Stores/storename/storename)\n",
       "    <ul>\n",
       "    <li>dimension: Stores</li>\n",
       "    <li>hierarchy: storename</li>\n",
       "    <li>type: String</li>\n",
       "    <li>order: NaturalOrder</li>\n",
       "    </ul>\n",
       "  </li>\n",
       "  <li>transactionid (ProductSales/transactionid/transactionid)\n",
       "    <ul>\n",
       "    <li>dimension: ProductSales</li>\n",
       "    <li>hierarchy: transactionid</li>\n",
       "    <li>type: long</li>\n",
       "    <li>order: NaturalOrder</li>\n",
       "    </ul>\n",
       "  </li>\n",
       "  </ul>\n",
       "</li>\n",
       "</ul>\n"
      ],
      "text/plain": [
       "<atoti.levels.Levels at 0x7f967c779710>"
      ]
     },
     "execution_count": 20,
     "metadata": {
      "application/json": {
       "expanded": true,
       "root": "Levels"
      }
     },
     "output_type": "execute_result"
    }
   ],
   "source": [
    "levels"
   ]
  },
  {
   "cell_type": "code",
   "execution_count": 21,
   "id": "25f9d042-4f46-411d-ae5e-cf5503a8c212",
   "metadata": {},
   "outputs": [],
   "source": [
    "# dimensions\n",
    "# Customer: CustomerName, Gender\n",
    "# SalesPerson: SalesPersonName, City, State, Country\n",
    "# Product: ProductName\n",
    "# Store: StoreName, City, State"
   ]
  },
  {
   "cell_type": "code",
   "execution_count": 22,
   "id": "a1e60270-b699-4f79-82cd-8d114a7d843f",
   "metadata": {},
   "outputs": [],
   "source": [
    "hierarchies[\"Customer\"] = [levels[\"customername\"], levels[\"gender\"]]"
   ]
  },
  {
   "cell_type": "code",
   "execution_count": 23,
   "id": "7e33c4c5-a9c1-4724-8dd7-1e26d61d35ca",
   "metadata": {},
   "outputs": [],
   "source": [
    "hierarchies[\"Product\"] = [levels[\"productname\"]]"
   ]
  },
  {
   "cell_type": "code",
   "execution_count": 24,
   "id": "1eb03503-ca6d-49c6-bb59-f971aef72c31",
   "metadata": {},
   "outputs": [],
   "source": [
    "hierarchies[\"SalesPerson\"] = [levels[\"salespersonname\"], levels[('SalesPerson', 'city', 'city')],\n",
    "                              levels[('SalesPerson', 'state', 'state')], levels[('SalesPerson', 'country', 'country')]]"
   ]
  },
  {
   "cell_type": "code",
   "execution_count": 25,
   "id": "0caf22ae-3873-4699-89ed-0589a690a12f",
   "metadata": {},
   "outputs": [],
   "source": [
    "hierarchies[\"Stores\"] = [levels[('Stores', 'storename', 'storename')], levels[('Stores', 'city', 'city')],\n",
    "                         levels[('Stores', 'state', 'state')], levels[('Stores', 'country', 'country')]]"
   ]
  },
  {
   "cell_type": "code",
   "execution_count": 26,
   "id": "ce72cc29-6ad8-4ab7-a52f-a91641dc225c",
   "metadata": {},
   "outputs": [
    {
     "data": {
      "application/json": {
       "Customer": {
        "Customer": [
         "customername",
         "gender"
        ],
        "customeraltid": [
         "customeraltid"
        ],
        "customername": [
         "customername"
        ],
        "gender": [
         "gender"
        ]
       },
       "Product": {
        "Product": [
         "productname"
        ],
        "productaltkey": [
         "productaltkey"
        ],
        "productname": [
         "productname"
        ]
       },
       "ProductSales": {
        "transactionid": [
         "transactionid"
        ]
       },
       "SalesPerson": {
        "SalesPerson": [
         "salespersonname",
         "city",
         "state",
         "country"
        ],
        "city": [
         "city"
        ],
        "country": [
         "country"
        ],
        "salespersonaltid": [
         "salespersonaltid"
        ],
        "salespersonname": [
         "salespersonname"
        ],
        "state": [
         "state"
        ]
       },
       "Stores": {
        "Stores": [
         "storename",
         "city",
         "state",
         "country"
        ],
        "city": [
         "city"
        ],
        "country": [
         "country"
        ],
        "state": [
         "state"
        ],
        "storealtid": [
         "storealtid"
        ],
        "storelocation": [
         "storelocation"
        ],
        "storename": [
         "storename"
        ]
       }
      },
      "text/html": [
       "<ul>\n",
       "<li>Dimensions\n",
       "  <ul>\n",
       "  <li>Customer\n",
       "    <ul>\n",
       "    <li>Customer\n",
       "      <ol>\n",
       "      <li>customername</li>\n",
       "      <li>gender</li>\n",
       "      </ol>    </li>\n",
       "    <li>customeraltid\n",
       "      <ol>\n",
       "      <li>customeraltid</li>\n",
       "      </ol>    </li>\n",
       "    <li>customername\n",
       "      <ol>\n",
       "      <li>customername</li>\n",
       "      </ol>    </li>\n",
       "    <li>gender\n",
       "      <ol>\n",
       "      <li>gender</li>\n",
       "      </ol>    </li>\n",
       "    </ul>\n",
       "  </li>\n",
       "  <li>Product\n",
       "    <ul>\n",
       "    <li>Product\n",
       "      <ol>\n",
       "      <li>productname</li>\n",
       "      </ol>    </li>\n",
       "    <li>productaltkey\n",
       "      <ol>\n",
       "      <li>productaltkey</li>\n",
       "      </ol>    </li>\n",
       "    <li>productname\n",
       "      <ol>\n",
       "      <li>productname</li>\n",
       "      </ol>    </li>\n",
       "    </ul>\n",
       "  </li>\n",
       "  <li>ProductSales\n",
       "    <ul>\n",
       "    <li>transactionid\n",
       "      <ol>\n",
       "      <li>transactionid</li>\n",
       "      </ol>    </li>\n",
       "    </ul>\n",
       "  </li>\n",
       "  <li>SalesPerson\n",
       "    <ul>\n",
       "    <li>SalesPerson\n",
       "      <ol>\n",
       "      <li>salespersonname</li>\n",
       "      <li>city</li>\n",
       "      <li>state</li>\n",
       "      <li>country</li>\n",
       "      </ol>    </li>\n",
       "    <li>city\n",
       "      <ol>\n",
       "      <li>city</li>\n",
       "      </ol>    </li>\n",
       "    <li>country\n",
       "      <ol>\n",
       "      <li>country</li>\n",
       "      </ol>    </li>\n",
       "    <li>salespersonaltid\n",
       "      <ol>\n",
       "      <li>salespersonaltid</li>\n",
       "      </ol>    </li>\n",
       "    <li>salespersonname\n",
       "      <ol>\n",
       "      <li>salespersonname</li>\n",
       "      </ol>    </li>\n",
       "    <li>state\n",
       "      <ol>\n",
       "      <li>state</li>\n",
       "      </ol>    </li>\n",
       "    </ul>\n",
       "  </li>\n",
       "  <li>Stores\n",
       "    <ul>\n",
       "    <li>Stores\n",
       "      <ol>\n",
       "      <li>storename</li>\n",
       "      <li>city</li>\n",
       "      <li>state</li>\n",
       "      <li>country</li>\n",
       "      </ol>    </li>\n",
       "    <li>city\n",
       "      <ol>\n",
       "      <li>city</li>\n",
       "      </ol>    </li>\n",
       "    <li>country\n",
       "      <ol>\n",
       "      <li>country</li>\n",
       "      </ol>    </li>\n",
       "    <li>state\n",
       "      <ol>\n",
       "      <li>state</li>\n",
       "      </ol>    </li>\n",
       "    <li>storealtid\n",
       "      <ol>\n",
       "      <li>storealtid</li>\n",
       "      </ol>    </li>\n",
       "    <li>storelocation\n",
       "      <ol>\n",
       "      <li>storelocation</li>\n",
       "      </ol>    </li>\n",
       "    <li>storename\n",
       "      <ol>\n",
       "      <li>storename</li>\n",
       "      </ol>    </li>\n",
       "    </ul>\n",
       "  </li>\n",
       "  </ul>\n",
       "</li>\n",
       "</ul>\n"
      ],
      "text/plain": [
       "{('Stores', 'storename'): <atoti.hierarchy.Hierarchy object at 0x7f967c76aa90>, ('Stores', 'state'): <atoti.hierarchy.Hierarchy object at 0x7f967c769050>, ('Stores', 'Stores'): <atoti.hierarchy.Hierarchy object at 0x7f967c738350>, ('Customer', 'Customer'): <atoti.hierarchy.Hierarchy object at 0x7f967c794f90>, ('Product', 'productname'): <atoti.hierarchy.Hierarchy object at 0x7f967c795ed0>, ('SalesPerson', 'city'): <atoti.hierarchy.Hierarchy object at 0x7f967c795650>, ('Product', 'productaltkey'): <atoti.hierarchy.Hierarchy object at 0x7f967c6f3090>, ('SalesPerson', 'salespersonaltid'): <atoti.hierarchy.Hierarchy object at 0x7f967c743e10>, ('Stores', 'storealtid'): <atoti.hierarchy.Hierarchy object at 0x7f967c742390>, ('Stores', 'city'): <atoti.hierarchy.Hierarchy object at 0x7f967c7aa1d0>, ('ProductSales', 'transactionid'): <atoti.hierarchy.Hierarchy object at 0x7f967c7a9a10>, ('Customer', 'customername'): <atoti.hierarchy.Hierarchy object at 0x7f967c702cd0>, ('SalesPerson', 'SalesPerson'): <atoti.hierarchy.Hierarchy object at 0x7f967c7909d0>, ('SalesPerson', 'salespersonname'): <atoti.hierarchy.Hierarchy object at 0x7f967c790890>, ('SalesPerson', 'country'): <atoti.hierarchy.Hierarchy object at 0x7f967c790450>, ('Product', 'Product'): <atoti.hierarchy.Hierarchy object at 0x7f967c792dd0>, ('Customer', 'customeraltid'): <atoti.hierarchy.Hierarchy object at 0x7f967c791b90>, ('Stores', 'storelocation'): <atoti.hierarchy.Hierarchy object at 0x7f967c779010>, ('SalesPerson', 'state'): <atoti.hierarchy.Hierarchy object at 0x7f967c5dbc50>, ('Stores', 'country'): <atoti.hierarchy.Hierarchy object at 0x7f967c5d8410>, ('Customer', 'gender'): <atoti.hierarchy.Hierarchy object at 0x7f967c5d95d0>}"
      ]
     },
     "execution_count": 26,
     "metadata": {
      "application/json": {
       "expanded": true,
       "root": "Dimensions"
      }
     },
     "output_type": "execute_result"
    }
   ],
   "source": [
    "hierarchies"
   ]
  },
  {
   "cell_type": "code",
   "execution_count": 27,
   "id": "ffcb9bdc-946f-4091-ad1f-59dbf644182c",
   "metadata": {},
   "outputs": [],
   "source": [
    "# clean customer\n",
    "del hierarchies[('Customer', 'customeraltid')]\n",
    "del hierarchies[('Customer', 'customername')]\n",
    "del hierarchies[('Customer', 'gender')]"
   ]
  },
  {
   "cell_type": "code",
   "execution_count": 28,
   "id": "e5f48877-b317-40f5-a7af-65717a158965",
   "metadata": {},
   "outputs": [],
   "source": [
    "# clean product\n",
    "del hierarchies[('Product', 'productname')]\n",
    "del hierarchies[('Product', 'productaltkey')]"
   ]
  },
  {
   "cell_type": "code",
   "execution_count": 29,
   "id": "fa5e840c-a8a9-417d-b221-3492a0c396d3",
   "metadata": {},
   "outputs": [],
   "source": [
    "# clean salesperson\n",
    "del hierarchies[('SalesPerson', 'city')]\n",
    "del hierarchies[('SalesPerson', 'salespersonname')]\n",
    "del hierarchies[('SalesPerson', 'country')]\n",
    "del hierarchies[('SalesPerson', 'state')]\n",
    "del hierarchies[('SalesPerson', 'salespersonaltid')]"
   ]
  },
  {
   "cell_type": "code",
   "execution_count": 30,
   "id": "46c974d2-9bd4-4399-a64e-153fd9d78b29",
   "metadata": {},
   "outputs": [],
   "source": [
    "# clean stores\n",
    "del hierarchies[('Stores', 'storename')]\n",
    "del hierarchies[('Stores', 'state')]\n",
    "del hierarchies[('Stores', 'country')]\n",
    "del hierarchies[('Stores', 'storealtid')]\n",
    "del hierarchies[('Stores', 'city')]"
   ]
  },
  {
   "cell_type": "code",
   "execution_count": 31,
   "id": "d3aaa105-253d-4c41-9e05-a375c0545779",
   "metadata": {},
   "outputs": [],
   "source": [
    "# clean product sales\n",
    "del hierarchies[('ProductSales', 'transactionid')]"
   ]
  },
  {
   "cell_type": "code",
   "execution_count": 32,
   "id": "3e72dcbf-3fbe-4f0c-b031-d3d9339a98fb",
   "metadata": {},
   "outputs": [
    {
     "data": {
      "application/json": {
       "Customer": {
        "Customer": [
         "customername",
         "gender"
        ]
       },
       "Product": {
        "Product": [
         "productname"
        ]
       },
       "SalesPerson": {
        "SalesPerson": [
         "salespersonname",
         "city",
         "state",
         "country"
        ]
       },
       "Stores": {
        "Stores": [
         "storename",
         "city",
         "state",
         "country"
        ],
        "storelocation": [
         "storelocation"
        ]
       }
      },
      "text/html": [
       "<ul>\n",
       "<li>Dimensions\n",
       "  <ul>\n",
       "  <li>Customer\n",
       "    <ul>\n",
       "    <li>Customer\n",
       "      <ol>\n",
       "      <li>customername</li>\n",
       "      <li>gender</li>\n",
       "      </ol>    </li>\n",
       "    </ul>\n",
       "  </li>\n",
       "  <li>Product\n",
       "    <ul>\n",
       "    <li>Product\n",
       "      <ol>\n",
       "      <li>productname</li>\n",
       "      </ol>    </li>\n",
       "    </ul>\n",
       "  </li>\n",
       "  <li>SalesPerson\n",
       "    <ul>\n",
       "    <li>SalesPerson\n",
       "      <ol>\n",
       "      <li>salespersonname</li>\n",
       "      <li>city</li>\n",
       "      <li>state</li>\n",
       "      <li>country</li>\n",
       "      </ol>    </li>\n",
       "    </ul>\n",
       "  </li>\n",
       "  <li>Stores\n",
       "    <ul>\n",
       "    <li>Stores\n",
       "      <ol>\n",
       "      <li>storename</li>\n",
       "      <li>city</li>\n",
       "      <li>state</li>\n",
       "      <li>country</li>\n",
       "      </ol>    </li>\n",
       "    <li>storelocation\n",
       "      <ol>\n",
       "      <li>storelocation</li>\n",
       "      </ol>    </li>\n",
       "    </ul>\n",
       "  </li>\n",
       "  </ul>\n",
       "</li>\n",
       "</ul>\n"
      ],
      "text/plain": [
       "{('SalesPerson', 'SalesPerson'): <atoti.hierarchy.Hierarchy object at 0x7f967c769050>, ('Stores', 'Stores'): <atoti.hierarchy.Hierarchy object at 0x7f967c76aed0>, ('Product', 'Product'): <atoti.hierarchy.Hierarchy object at 0x7f967c742bd0>, ('Customer', 'Customer'): <atoti.hierarchy.Hierarchy object at 0x7f967c7c9e10>, ('Stores', 'storelocation'): <atoti.hierarchy.Hierarchy object at 0x7f967c7ca0d0>}"
      ]
     },
     "execution_count": 32,
     "metadata": {
      "application/json": {
       "expanded": true,
       "root": "Dimensions"
      }
     },
     "output_type": "execute_result"
    }
   ],
   "source": [
    "hierarchies"
   ]
  },
  {
   "cell_type": "code",
   "execution_count": 33,
   "id": "aa9efd8b-cf0d-43d0-9733-b1d21a3b3dc9",
   "metadata": {},
   "outputs": [],
   "source": [
    "# clean measures\n",
    "del measures[\"contributors.COUNT\"]\n",
    "del measures[\"customerid.MEAN\"]\n",
    "del measures[\"customerid.SUM\"]\n",
    "del measures[\"deviation.MEAN\"]\n",
    "del measures[\"deviation.SUM\"]\n",
    "del measures[\"productactualcost.MEAN\"]\n",
    "del measures[\"productid.MEAN\"]\n",
    "del measures[\"productid.SUM\"]\n",
    "del measures[\"salesinvoicenumber.MEAN\"]\n",
    "del measures[\"salesinvoicenumber.SUM\"]\n",
    "del measures[\"salespersonid.MEAN\"]\n",
    "del measures[\"salespersonid.SUM\"]\n",
    "del measures[\"storeid.MEAN\"]\n",
    "del measures[\"storeid.SUM\"]\n",
    "del measures[\"salestotalcost.MEAN\"]\n",
    "del measures[\"quantity.MEAN\"]"
   ]
  },
  {
   "cell_type": "code",
   "execution_count": 34,
   "id": "77526eac-4025-469b-ab16-4eb9c2d4f64e",
   "metadata": {},
   "outputs": [
    {
     "data": {
      "application/json": {
       "productactualcost.SUM": {
        "formatter": "DOUBLE[#,###.00]"
       },
       "quantity.SUM": {
        "formatter": "DOUBLE[#,###.00]"
       },
       "salestotalcost.SUM": {
        "formatter": "DOUBLE[#,###.00]"
       }
      },
      "text/html": [
       "<ul>\n",
       "<li>Measures\n",
       "  <ul>\n",
       "  <li>productactualcost.SUM\n",
       "    <ul>\n",
       "    <li>formatter: DOUBLE[#,###.00]</li>\n",
       "    </ul>\n",
       "  </li>\n",
       "  <li>quantity.SUM\n",
       "    <ul>\n",
       "    <li>formatter: DOUBLE[#,###.00]</li>\n",
       "    </ul>\n",
       "  </li>\n",
       "  <li>salestotalcost.SUM\n",
       "    <ul>\n",
       "    <li>formatter: DOUBLE[#,###.00]</li>\n",
       "    </ul>\n",
       "  </li>\n",
       "  </ul>\n",
       "</li>\n",
       "</ul>\n"
      ],
      "text/plain": [
       "{'update.TIMESTAMP': <atoti.measure.Measure object at 0x7f967c608490>, 'quantity.SUM': <atoti.measure.Measure object at 0x7f967c6097d0>, 'salestotalcost.SUM': <atoti.measure.Measure object at 0x7f967c609010>, 'productactualcost.SUM': <atoti.measure.Measure object at 0x7f967c6098d0>}"
      ]
     },
     "execution_count": 34,
     "metadata": {
      "application/json": {
       "expanded": false,
       "root": "Measures"
      }
     },
     "output_type": "execute_result"
    }
   ],
   "source": [
    "measures"
   ]
  },
  {
   "cell_type": "code",
   "execution_count": 35,
   "id": "1e874102-e542-458d-a120-f06f2cc7f905",
   "metadata": {},
   "outputs": [
    {
     "data": {
      "text/html": [
       "<div>\n",
       "<style scoped>\n",
       "    .dataframe tbody tr th:only-of-type {\n",
       "        vertical-align: middle;\n",
       "    }\n",
       "\n",
       "    .dataframe tbody tr th {\n",
       "        vertical-align: top;\n",
       "    }\n",
       "\n",
       "    .dataframe thead th {\n",
       "        text-align: right;\n",
       "    }\n",
       "</style>\n",
       "<table border=\"1\" class=\"dataframe\">\n",
       "  <thead>\n",
       "    <tr style=\"text-align: right;\">\n",
       "      <th></th>\n",
       "      <th></th>\n",
       "      <th>quantity.SUM</th>\n",
       "    </tr>\n",
       "    <tr>\n",
       "      <th>storename</th>\n",
       "      <th>city</th>\n",
       "      <th></th>\n",
       "    </tr>\n",
       "  </thead>\n",
       "  <tbody>\n",
       "    <tr>\n",
       "      <th>X-Mart</th>\n",
       "      <th>Ahmedabad</th>\n",
       "      <td>43.00</td>\n",
       "    </tr>\n",
       "  </tbody>\n",
       "</table>\n",
       "</div>"
      ],
      "text/plain": [
       "                    quantity.SUM\n",
       "storename city                  \n",
       "X-Mart    Ahmedabad        43.00"
      ]
     },
     "execution_count": 35,
     "metadata": {},
     "output_type": "execute_result"
    }
   ],
   "source": [
    "cube.query(measures[\"quantity.SUM\"], levels=[levels[('Stores', 'Stores', 'city')]])"
   ]
  },
  {
   "cell_type": "code",
   "execution_count": 36,
   "id": "d6faed66f9e436ce",
   "metadata": {
    "collapsed": false,
    "jupyter": {
     "outputs_hidden": false
    }
   },
   "outputs": [
    {
     "name": "stderr",
     "output_type": "stream",
     "text": [
      "/opt/conda/lib/python3.11/site-packages/pydantic/_internal/_dataclasses.py:135: FutureWarning: The variadic constructor is deprecated, pass a named `levels` parameter instead.\n",
      "  s.__pydantic_validator__.validate_python(ArgsKwargs(args, kwargs), self_instance=s)\n"
     ]
    }
   ],
   "source": [
    "cost = tt.agg.sum(\n",
    "    measures[\"quantity.SUM\"] * tt.agg.single_value(product_table[\"productactualcost\"]),\n",
    "    scope=tt.OriginScope(levels[\"productname\"]),\n",
    ")\n",
    "\n",
    "income = tt.agg.sum(\n",
    "    measures[\"quantity.SUM\"] * tt.agg.single_value(product_table[\"productsalescost\"]),\n",
    "    scope=tt.OriginScope(levels[\"productname\"]),\n",
    ")\n"
   ]
  },
  {
   "cell_type": "code",
   "execution_count": 37,
   "id": "a68f25eb1d166ceb",
   "metadata": {
    "collapsed": false,
    "jupyter": {
     "outputs_hidden": false
    }
   },
   "outputs": [],
   "source": [
    "measures[\"Margin\"] = income - cost"
   ]
  },
  {
   "cell_type": "code",
   "execution_count": 38,
   "id": "9db203315b8f378",
   "metadata": {
    "collapsed": false,
    "jupyter": {
     "outputs_hidden": false
    }
   },
   "outputs": [
    {
     "data": {
      "text/html": [
       "<div>\n",
       "<style scoped>\n",
       "    .dataframe tbody tr th:only-of-type {\n",
       "        vertical-align: middle;\n",
       "    }\n",
       "\n",
       "    .dataframe tbody tr th {\n",
       "        vertical-align: top;\n",
       "    }\n",
       "\n",
       "    .dataframe thead th {\n",
       "        text-align: right;\n",
       "    }\n",
       "</style>\n",
       "<table border=\"1\" class=\"dataframe\">\n",
       "  <thead>\n",
       "    <tr style=\"text-align: right;\">\n",
       "      <th></th>\n",
       "      <th>Margin</th>\n",
       "    </tr>\n",
       "    <tr>\n",
       "      <th>productname</th>\n",
       "      <th></th>\n",
       "    </tr>\n",
       "  </thead>\n",
       "  <tbody>\n",
       "    <tr>\n",
       "      <th>Arial Washing Powder 1kg</th>\n",
       "      <td>12.00</td>\n",
       "    </tr>\n",
       "    <tr>\n",
       "      <th>Nirma Soap</th>\n",
       "      <td>36.00</td>\n",
       "    </tr>\n",
       "    <tr>\n",
       "      <th>Rice Grains 1kg</th>\n",
       "      <td>12.00</td>\n",
       "    </tr>\n",
       "    <tr>\n",
       "      <th>SunFlower Oil 1 ltr</th>\n",
       "      <td>10.50</td>\n",
       "    </tr>\n",
       "    <tr>\n",
       "      <th>Wheat Floor 1kg</th>\n",
       "      <td>7.00</td>\n",
       "    </tr>\n",
       "  </tbody>\n",
       "</table>\n",
       "</div>"
      ],
      "text/plain": [
       "                         Margin\n",
       "productname                    \n",
       "Arial Washing Powder 1kg  12.00\n",
       "Nirma Soap                36.00\n",
       "Rice Grains 1kg           12.00\n",
       "SunFlower Oil 1 ltr       10.50\n",
       "Wheat Floor 1kg            7.00"
      ]
     },
     "execution_count": 38,
     "metadata": {},
     "output_type": "execute_result"
    }
   ],
   "source": [
    "cube.query(measures[\"Margin\"], levels=[levels[('Product', 'Product', 'productname')]])"
   ]
  },
  {
   "cell_type": "markdown",
   "id": "8281cb2d-013a-4d57-abc4-f20cbcaaca17",
   "metadata": {},
   "source": [
    "## Presentation"
   ]
  },
  {
   "cell_type": "code",
   "execution_count": 39,
   "id": "70508704-ba4e-439d-84d2-f6078b52ef0a",
   "metadata": {
    "atoti": {
     "widget": {
      "mapping": {
       "color": [
        "[Customer].[Customer].[gender]"
       ],
       "horizontalSubplots": [],
       "size": [],
       "splitBy": [
        "[SalesPerson].[SalesPerson].[state]"
       ],
       "verticalSubplots": [],
       "xValues": [
        "[Measures].[quantity.SUM]"
       ],
       "yValues": []
      },
      "query": {
       "mdx": "SELECT NON EMPTY Crossjoin(Hierarchize(Descendants({[Customer].[Customer].[ALL].[AllMember]}, 2, SELF_AND_BEFORE)), Hierarchize(Descendants({[SalesPerson].[SalesPerson].[ALL].[AllMember]}, 3, SELF_AND_BEFORE))) ON ROWS, NON EMPTY {[Measures].[quantity.SUM]} ON COLUMNS FROM [ProductSales] CELL PROPERTIES VALUE, FORMATTED_VALUE, BACK_COLOR, FORE_COLOR, FONT_FLAGS",
       "updateMode": "once"
      },
      "serverKey": "default",
      "switchedTo": "plotly-pie-chart",
      "widgetKey": "plotly-scatter-plot"
     }
    }
   },
   "outputs": [
    {
     "data": {
      "application/vnd.atoti.widget.v0+json": {
       "sessionId": "1710730154_SL2XTM",
       "sessionLocation": {
        "https": false,
        "port": 9092
       },
       "widgetCreationCode": "session.widget"
      },
      "text/html": [
       "<img height=\"352\" width=\"992\" src=\"data:image/png;base64,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\" />"
      ],
      "text/plain": [
       "Open the notebook in JupyterLab with the Atoti JupyterLab extension enabled to build this widget."
      ]
     },
     "metadata": {},
     "output_type": "display_data"
    }
   ],
   "source": [
    "session.widget"
   ]
  },
  {
   "cell_type": "code",
   "execution_count": 40,
   "id": "679b108a-e6ee-4bb9-ae66-f5503e318520",
   "metadata": {},
   "outputs": [
    {
     "data": {
      "application/vnd.atoti.link.v0+json": {
       "path": "",
       "sessionLocation": {
        "https": false,
        "port": 9092
       }
      },
      "text/markdown": [
       "http://localhost:9092\n",
       "\n",
       "_Note_: This is the session's local URL: it may not be reachable if Atoti is running on another machine."
      ],
      "text/plain": [
       "http://localhost:9092 (This is the session's local URL: it may not be reachable if Atoti is running on another machine.)"
      ]
     },
     "execution_count": 40,
     "metadata": {},
     "output_type": "execute_result"
    }
   ],
   "source": [
    "session.link"
   ]
  },
  {
   "cell_type": "markdown",
   "id": "d6d44dcc28e9d4b6",
   "metadata": {
    "collapsed": false,
    "jupyter": {
     "outputs_hidden": false
    }
   },
   "source": [
    "## What-if Analysis"
   ]
  },
  {
   "cell_type": "code",
   "execution_count": 41,
   "id": "85f5820e858f2b68",
   "metadata": {
    "collapsed": false,
    "jupyter": {
     "outputs_hidden": false
    }
   },
   "outputs": [],
   "source": [
    "import pandas as pd\n",
    "from sqlalchemy import create_engine"
   ]
  },
  {
   "cell_type": "code",
   "execution_count": 42,
   "id": "e886a3678a4f98bf",
   "metadata": {
    "collapsed": false,
    "jupyter": {
     "outputs_hidden": false
    }
   },
   "outputs": [],
   "source": [
    "connection_url = f\"postgresql://{db_user}:{db_password}@{db_host}:{db_port}/{db_name}\"\n",
    "\n",
    "# Create the engine\n",
    "engine = create_engine(connection_url)"
   ]
  },
  {
   "cell_type": "code",
   "execution_count": 43,
   "id": "8c91d436778af08a",
   "metadata": {
    "collapsed": false,
    "jupyter": {
     "outputs_hidden": false
    }
   },
   "outputs": [],
   "source": [
    "product_df = pd.read_sql_query(\"SELECT * FROM dimproduct\", engine)"
   ]
  },
  {
   "cell_type": "code",
   "execution_count": 44,
   "id": "4bdf253b849eee1d",
   "metadata": {
    "collapsed": false,
    "jupyter": {
     "outputs_hidden": false
    }
   },
   "outputs": [
    {
     "data": {
      "text/html": [
       "<div>\n",
       "<style scoped>\n",
       "    .dataframe tbody tr th:only-of-type {\n",
       "        vertical-align: middle;\n",
       "    }\n",
       "\n",
       "    .dataframe tbody tr th {\n",
       "        vertical-align: top;\n",
       "    }\n",
       "\n",
       "    .dataframe thead th {\n",
       "        text-align: right;\n",
       "    }\n",
       "</style>\n",
       "<table border=\"1\" class=\"dataframe\">\n",
       "  <thead>\n",
       "    <tr style=\"text-align: right;\">\n",
       "      <th></th>\n",
       "      <th>productkey</th>\n",
       "      <th>productaltkey</th>\n",
       "      <th>productname</th>\n",
       "      <th>productactualcost</th>\n",
       "      <th>productsalescost</th>\n",
       "    </tr>\n",
       "  </thead>\n",
       "  <tbody>\n",
       "    <tr>\n",
       "      <th>0</th>\n",
       "      <td>1</td>\n",
       "      <td>ITM-001</td>\n",
       "      <td>Wheat Floor 1kg</td>\n",
       "      <td>5.5</td>\n",
       "      <td>6.5</td>\n",
       "    </tr>\n",
       "    <tr>\n",
       "      <th>1</th>\n",
       "      <td>2</td>\n",
       "      <td>ITM-002</td>\n",
       "      <td>Rice Grains 1kg</td>\n",
       "      <td>22.5</td>\n",
       "      <td>24.0</td>\n",
       "    </tr>\n",
       "    <tr>\n",
       "      <th>2</th>\n",
       "      <td>3</td>\n",
       "      <td>ITM-003</td>\n",
       "      <td>SunFlower Oil 1 ltr</td>\n",
       "      <td>42.0</td>\n",
       "      <td>43.5</td>\n",
       "    </tr>\n",
       "    <tr>\n",
       "      <th>3</th>\n",
       "      <td>4</td>\n",
       "      <td>ITM-004</td>\n",
       "      <td>Nirma Soap</td>\n",
       "      <td>18.0</td>\n",
       "      <td>20.0</td>\n",
       "    </tr>\n",
       "    <tr>\n",
       "      <th>4</th>\n",
       "      <td>5</td>\n",
       "      <td>ITM-005</td>\n",
       "      <td>Arial Washing Powder 1kg</td>\n",
       "      <td>135.0</td>\n",
       "      <td>139.0</td>\n",
       "    </tr>\n",
       "  </tbody>\n",
       "</table>\n",
       "</div>"
      ],
      "text/plain": [
       "   productkey productaltkey               productname  productactualcost  \\\n",
       "0           1       ITM-001           Wheat Floor 1kg                5.5   \n",
       "1           2       ITM-002           Rice Grains 1kg               22.5   \n",
       "2           3       ITM-003       SunFlower Oil 1 ltr               42.0   \n",
       "3           4       ITM-004                Nirma Soap               18.0   \n",
       "4           5       ITM-005  Arial Washing Powder 1kg              135.0   \n",
       "\n",
       "   productsalescost  \n",
       "0               6.5  \n",
       "1              24.0  \n",
       "2              43.5  \n",
       "3              20.0  \n",
       "4             139.0  "
      ]
     },
     "execution_count": 44,
     "metadata": {},
     "output_type": "execute_result"
    }
   ],
   "source": [
    "product_df"
   ]
  },
  {
   "cell_type": "code",
   "execution_count": 45,
   "id": "f8311b70a085b68e",
   "metadata": {
    "collapsed": false,
    "jupyter": {
     "outputs_hidden": false
    }
   },
   "outputs": [],
   "source": [
    "better_actual_cost = {\n",
    "    \"ITM-001\": 4.5,\n",
    "    \"ITM-002\": 10,\n",
    "    \"ITM-003\": 30,\n",
    "    \"ITM-004\": 15,\n",
    "    \"ITM-005\": 135,\n",
    "}"
   ]
  },
  {
   "cell_type": "code",
   "execution_count": 46,
   "id": "fdee0fdf92085ef2",
   "metadata": {
    "collapsed": false,
    "jupyter": {
     "outputs_hidden": false
    }
   },
   "outputs": [
    {
     "data": {
      "text/html": [
       "<div>\n",
       "<style scoped>\n",
       "    .dataframe tbody tr th:only-of-type {\n",
       "        vertical-align: middle;\n",
       "    }\n",
       "\n",
       "    .dataframe tbody tr th {\n",
       "        vertical-align: top;\n",
       "    }\n",
       "\n",
       "    .dataframe thead th {\n",
       "        text-align: right;\n",
       "    }\n",
       "</style>\n",
       "<table border=\"1\" class=\"dataframe\">\n",
       "  <thead>\n",
       "    <tr style=\"text-align: right;\">\n",
       "      <th></th>\n",
       "      <th>productkey</th>\n",
       "      <th>productaltkey</th>\n",
       "      <th>productname</th>\n",
       "      <th>productactualcost</th>\n",
       "      <th>productsalescost</th>\n",
       "    </tr>\n",
       "  </thead>\n",
       "  <tbody>\n",
       "    <tr>\n",
       "      <th>0</th>\n",
       "      <td>1</td>\n",
       "      <td>ITM-001</td>\n",
       "      <td>Wheat Floor 1kg</td>\n",
       "      <td>4.5</td>\n",
       "      <td>6.5</td>\n",
       "    </tr>\n",
       "    <tr>\n",
       "      <th>1</th>\n",
       "      <td>2</td>\n",
       "      <td>ITM-002</td>\n",
       "      <td>Rice Grains 1kg</td>\n",
       "      <td>10.0</td>\n",
       "      <td>24.0</td>\n",
       "    </tr>\n",
       "    <tr>\n",
       "      <th>2</th>\n",
       "      <td>3</td>\n",
       "      <td>ITM-003</td>\n",
       "      <td>SunFlower Oil 1 ltr</td>\n",
       "      <td>30.0</td>\n",
       "      <td>43.5</td>\n",
       "    </tr>\n",
       "    <tr>\n",
       "      <th>3</th>\n",
       "      <td>4</td>\n",
       "      <td>ITM-004</td>\n",
       "      <td>Nirma Soap</td>\n",
       "      <td>15.0</td>\n",
       "      <td>20.0</td>\n",
       "    </tr>\n",
       "    <tr>\n",
       "      <th>4</th>\n",
       "      <td>5</td>\n",
       "      <td>ITM-005</td>\n",
       "      <td>Arial Washing Powder 1kg</td>\n",
       "      <td>135.0</td>\n",
       "      <td>139.0</td>\n",
       "    </tr>\n",
       "  </tbody>\n",
       "</table>\n",
       "</div>"
      ],
      "text/plain": [
       "   productkey productaltkey               productname  productactualcost  \\\n",
       "0           1       ITM-001           Wheat Floor 1kg                4.5   \n",
       "1           2       ITM-002           Rice Grains 1kg               10.0   \n",
       "2           3       ITM-003       SunFlower Oil 1 ltr               30.0   \n",
       "3           4       ITM-004                Nirma Soap               15.0   \n",
       "4           5       ITM-005  Arial Washing Powder 1kg              135.0   \n",
       "\n",
       "   productsalescost  \n",
       "0               6.5  \n",
       "1              24.0  \n",
       "2              43.5  \n",
       "3              20.0  \n",
       "4             139.0  "
      ]
     },
     "execution_count": 46,
     "metadata": {},
     "output_type": "execute_result"
    }
   ],
   "source": [
    "for product, actual_cost in better_actual_cost.items():\n",
    "    product_df.loc[\n",
    "        product_df[\"productaltkey\"] == product, \"productactualcost\"\n",
    "    ] = actual_cost\n",
    "product_df"
   ]
  },
  {
   "cell_type": "code",
   "execution_count": 47,
   "id": "948c8798bc249a8e",
   "metadata": {
    "collapsed": false,
    "jupyter": {
     "outputs_hidden": false
    }
   },
   "outputs": [],
   "source": [
    "product_table.scenarios[\"Lower actual cost\"].load_pandas(product_df)"
   ]
  },
  {
   "cell_type": "code",
   "execution_count": null,
   "id": "375eede1-b61a-479b-89c7-667e3e80d994",
   "metadata": {},
   "outputs": [],
   "source": []
  }
 ],
 "metadata": {
  "kernelspec": {
   "display_name": "Python 3 (ipykernel)",
   "language": "python",
   "name": "python3"
  },
  "language_info": {
   "codemirror_mode": {
    "name": "ipython",
    "version": 3
   },
   "file_extension": ".py",
   "mimetype": "text/x-python",
   "name": "python",
   "nbconvert_exporter": "python",
   "pygments_lexer": "ipython3",
   "version": "3.11.6"
  }
 },
 "nbformat": 4,
 "nbformat_minor": 5
}
