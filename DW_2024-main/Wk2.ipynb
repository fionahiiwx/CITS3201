{
 "cells": [
  {
   "cell_type": "code",
   "execution_count": 17,
   "id": "817ca249-92cb-4817-b1a7-62bf980b741d",
   "metadata": {},
   "outputs": [],
   "source": [
    "import pymssql\n",
    "\n",
    "# Define your connection parameters\n",
    "server_name = 'sqlserver' # try to change to sqlserver if you encouter connection error\n",
    "database_name = 'AdventureworksDWDemo'\n",
    "username = 'sa'\n",
    "password = 'YourStrongPassw0rd'"
   ]
  },
  {
   "cell_type": "code",
   "execution_count": 18,
   "id": "53bd8620-3258-4e93-ae7f-c233058cee9d",
   "metadata": {},
   "outputs": [],
   "source": [
    "conn = pymssql.connect(server_name, username, password, database_name)\n",
    "\n",
    "cursor = conn.cursor()\n",
    "\n",
    "#Create tables and relationships between tables\n",
    "script_parts = [\n",
    "    \"USE AdventureworksDWDemo\",\n",
    "    \"IF OBJECT_ID('DimCustomer', 'U') IS NOT NULL DROP TABLE DimCustomer\",\n",
    "    \"IF OBJECT_ID('DimProduct', 'U') IS NOT NULL DROP TABLE DimProduct\",\n",
    "    \"IF OBJECT_ID('DimStores', 'U') IS NOT NULL DROP TABLE DimStores\",\n",
    "    \"IF OBJECT_ID('DimSalesPerson', 'U') IS NOT NULL DROP TABLE DimSalesPerson\",\n",
    "    \"IF OBJECT_ID('FactProductSales', 'U') IS NOT NULL DROP TABLE FactProductSales\",\n",
    "    \"CREATE TABLE DimCustomer (CustomerID int PRIMARY KEY IDENTITY, CustomerAltID varchar(50) NOT NULL, CustomerName varchar(256), Gender varchar(20))\",\n",
    "    \"CREATE TABLE DimProduct (ProductKey int PRIMARY KEY IDENTITY, ProductAltKey varchar(10) NOT NULL, ProductName varchar(100), ProductActualCost money, ProductSalesCost money)\",\n",
    "    '''\n",
    "      CREATE TABLE DimStores\n",
    "    (\n",
    "        StoreID int PRIMARY KEY IDENTITY,\n",
    "        StoreAltID varchar(10) NOT NULL,\n",
    "        StoreName varchar(100),\n",
    "        StoreLocation varchar(100),\n",
    "        City varchar(100),\n",
    "        State varchar(100),\n",
    "        Country varchar(100)\n",
    "    )\n",
    "    ''',\n",
    "    '''\n",
    "    CREATE TABLE DimSalesPerson\n",
    "    (\n",
    "        SalesPersonID int PRIMARY KEY IDENTITY,\n",
    "        SalesPersonAltID varchar(10) NOT NULL,\n",
    "        SalesPersonName varchar(100),\n",
    "        StoreID int,\n",
    "        City varchar(100),\n",
    "        State varchar(100),\n",
    "        Country varchar(100)\n",
    "    )\n",
    "    ''',\n",
    "    '''\n",
    "    CREATE TABLE FactProductSales\n",
    "    (\n",
    "        TransactionId bigint PRIMARY KEY IDENTITY,\n",
    "        SalesInvoiceNumber int NOT NULL,\n",
    "        StoreID int NOT NULL,\n",
    "        CustomerID int NOT NULL,\n",
    "        ProductID int NOT NULL,\n",
    "        SalesPersonID int NOT NULL,\n",
    "        Quantity float,\n",
    "        SalesTotalCost money,\n",
    "        ProductActualCost money,\n",
    "        Deviation float\n",
    "    )\n",
    "    ''',\n",
    "    '''\n",
    "    ALTER TABLE FactProductSales ADD CONSTRAINT FK_StoreID FOREIGN KEY (StoreID) REFERENCES DimStores(StoreID)\n",
    "    ''',\n",
    "    '''\n",
    "    ALTER TABLE FactProductSales ADD CONSTRAINT FK_CustomerID FOREIGN KEY (CustomerID) REFERENCES DimCustomer(CustomerID)\n",
    "    ''',\n",
    "    '''\n",
    "    ALTER TABLE FactProductSales ADD CONSTRAINT FK_ProductKey FOREIGN KEY (ProductID) REFERENCES DimProduct(ProductKey)\n",
    "    ''',\n",
    "    '''\n",
    "    ALTER TABLE FactProductSales ADD CONSTRAINT FK_SalesPersonID FOREIGN KEY (SalesPersonID) REFERENCES DimSalesPerson(SalesPersonID)\n",
    "    '''\n",
    "]\n",
    "\n",
    "for part in script_parts:\n",
    "    try:\n",
    "        cursor.execute(part)\n",
    "        conn.commit()  # Commit changes for DDL statements\n",
    "    except Exception as e:\n",
    "        print(f\"Error executing SQL script: {e}\")\n",
    "        break  # Stop execution on error\n",
    "\n",
    "# Close the connection\n",
    "cursor.close()\n",
    "conn.close()"
   ]
  },
  {
   "cell_type": "code",
   "execution_count": 20,
   "id": "23d76c1b-215c-4af1-99a0-9501db68d0b4",
   "metadata": {},
   "outputs": [
    {
     "name": "stdout",
     "output_type": "stream",
     "text": [
      "(1, 'IMI-001', 'Henry Ford', 'M')\n",
      "(2, 'IMI-002', 'Bill Gates', 'M')\n",
      "(3, 'IMI-003', 'Muskan Shaikh', 'F')\n",
      "(4, 'IMI-004', 'Richard Thrubin', 'M')\n",
      "(5, 'IMI-005', 'Emma Wattson', 'F')\n"
     ]
    }
   ],
   "source": [
    "import pandas as pd\n",
    "\n",
    "from sqlalchemy import create_engine\n",
    "\n",
    "connection_string = f\"mssql+pymssql://{username}:{password}@{server_name}/{database_name}\"\n",
    "engine = create_engine(connection_string)\n",
    "\n",
    "from pathlib import Path\n",
    "# data path is current path's parent and then AdventureWorkDWDemo\n",
    "# You may need to change the path to the folder you've unzipped.\n",
    "\n",
    "# give error\n",
    "# script_path = Path.cwd().parent\n",
    "# data_path = script_path / \"data\" / \"AdventureWorkDWDemo\"\n",
    "\n",
    "dim_customer_csv = Path(\"data/AdventureWorkDWDemo/DimCustomer.csv\")\n",
    "\n",
    "\n",
    "customer_df = pd.read_csv(dim_customer_csv, header=None)\n",
    "customer_df\n",
    "\n",
    "customer_df.columns = [\"CustomerAltID\", \"CustomerName\", \"Gender\"]\n",
    "\n",
    "customer_df.to_sql(\"DimCustomer\", con=engine, if_exists=\"append\", index=False)\n",
    "\n",
    "# confirm it via run query \n",
    "conn = pymssql.connect(server_name, username, password, database_name)\n",
    "cursor = conn.cursor()\n",
    "\n",
    "cursor.execute(\"SELECT * FROM DimCustomer\")\n",
    "\n",
    "# Fetch all rows\n",
    "rows = cursor.fetchall()\n",
    "\n",
    "if rows:\n",
    "    # Print each row\n",
    "    for row in rows:\n",
    "        print(row)"
   ]
  },
  {
   "cell_type": "code",
   "execution_count": 16,
   "id": "c130fb00-bb06-4f07-9511-429f15c5f075",
   "metadata": {},
   "outputs": [
    {
     "name": "stdout",
     "output_type": "stream",
     "text": [
      "Welcome to Atoti 0.8.10!\n",
      "\n",
      "By using this community edition, you agree with the license available at https://docs.atoti.io/latest/eula.html.\n",
      "Browse the official documentation at https://docs.atoti.io.\n",
      "Join the community at https://www.atoti.io/register.\n",
      "\n",
      "Atoti collects telemetry data, which is used to help understand how to improve the product.\n",
      "If you don't wish to send usage data, you can request a trial license at https://www.atoti.io/evaluation-license-request.\n",
      "\n",
      "You can hide this message by setting the `ATOTI_HIDE_EULA_MESSAGE` environment variable to True.\n"
     ]
    }
   ],
   "source": [
    "import atoti as tt"
   ]
  },
  {
   "cell_type": "code",
   "execution_count": 35,
   "id": "6279b88a-326e-404c-b3c2-ceadefce8fe0",
   "metadata": {},
   "outputs": [
    {
     "name": "stderr",
     "output_type": "stream",
     "text": [
      "Closing existing \"Unnamed\" session to create the new one.\n"
     ]
    }
   ],
   "source": [
    "session = tt.Session()"
   ]
  },
  {
   "cell_type": "code",
   "execution_count": 36,
   "id": "2c624491-8db0-4310-b442-5a815fccf24e",
   "metadata": {},
   "outputs": [
    {
     "data": {
      "application/vnd.atoti.link.v0+json": {
       "path": "",
       "sessionLocation": {
        "https": false,
        "port": 37623
       }
      },
      "text/markdown": [
       "http://localhost:37623\n",
       "\n",
       "_Note_: This is the session's local URL: it may not be reachable if Atoti is running on another machine."
      ],
      "text/plain": [
       "http://localhost:37623 (This is the session's local URL: it may not be reachable if Atoti is running on another machine.)"
      ]
     },
     "execution_count": 36,
     "metadata": {},
     "output_type": "execute_result"
    }
   ],
   "source": [
    "session.link"
   ]
  }
 ],
 "metadata": {
  "kernelspec": {
   "display_name": "Python 3 (ipykernel)",
   "language": "python",
   "name": "python3"
  },
  "language_info": {
   "codemirror_mode": {
    "name": "ipython",
    "version": 3
   },
   "file_extension": ".py",
   "mimetype": "text/x-python",
   "name": "python",
   "nbconvert_exporter": "python",
   "pygments_lexer": "ipython3",
   "version": "3.11.6"
  }
 },
 "nbformat": 4,
 "nbformat_minor": 5
}
